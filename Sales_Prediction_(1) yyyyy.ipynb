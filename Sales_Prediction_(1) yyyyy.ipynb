{
 "cells": [
  {
   "cell_type": "markdown",
   "metadata": {
    "id": "Wo58CCQb4s4E"
   },
   "source": [
    "# Importer les librairies"
   ]
  },
  {
   "cell_type": "markdown",
   "metadata": {
    "id": "NkejdlRbMihr"
   },
   "source": [
    "## Librairies pour importer, structurer explorer les données"
   ]
  },
  {
   "cell_type": "code",
   "execution_count": 1,
   "metadata": {
    "id": "wPtWgZ1dIHzf"
   },
   "outputs": [],
   "source": [
    "import pandas as pd\n",
    "import numpy as np\n",
    "import matplotlib.pyplot as plt\n",
    "import seaborn as sns\n",
    "\n",
    "# Ignorer les méssages d'avertissements\n",
    "import warnings\n",
    "warnings.filterwarnings('ignore')\n",
    "\n",
    "%matplotlib inline"
   ]
  },
  {
   "cell_type": "markdown",
   "metadata": {
    "id": "oA7tFeS5IkM5",
    "tags": []
   },
   "source": [
    "### Importation des données:"
   ]
  },
  {
   "cell_type": "code",
   "execution_count": 2,
   "metadata": {
    "colab": {
     "base_uri": "https://localhost:8080/",
     "height": 206
    },
    "id": "eir8IPm9IiqP",
    "outputId": "8406664e-e20d-4aef-a094-37b0081444c0"
   },
   "outputs": [
    {
     "data": {
      "text/html": [
       "<div>\n",
       "<style scoped>\n",
       "    .dataframe tbody tr th:only-of-type {\n",
       "        vertical-align: middle;\n",
       "    }\n",
       "\n",
       "    .dataframe tbody tr th {\n",
       "        vertical-align: top;\n",
       "    }\n",
       "\n",
       "    .dataframe thead th {\n",
       "        text-align: right;\n",
       "    }\n",
       "</style>\n",
       "<table border=\"1\" class=\"dataframe\">\n",
       "  <thead>\n",
       "    <tr style=\"text-align: right;\">\n",
       "      <th></th>\n",
       "      <th>ID</th>\n",
       "      <th>Ventes_ p1</th>\n",
       "      <th>Demande_P1</th>\n",
       "      <th>Ventes_ p2</th>\n",
       "      <th>Demande_P2</th>\n",
       "      <th>Ventes_ p3</th>\n",
       "      <th>Demande_P3</th>\n",
       "      <th>Ventes_ p4</th>\n",
       "      <th>Demande_P4</th>\n",
       "      <th>Demande</th>\n",
       "      <th>Vente</th>\n",
       "    </tr>\n",
       "  </thead>\n",
       "  <tbody>\n",
       "    <tr>\n",
       "      <th>0</th>\n",
       "      <td>1</td>\n",
       "      <td>549,68</td>\n",
       "      <td>603,410313296384</td>\n",
       "      <td>711,68</td>\n",
       "      <td>603,613968311092</td>\n",
       "      <td>479,5</td>\n",
       "      <td>576,976831091183</td>\n",
       "      <td>299,5</td>\n",
       "      <td>152,245833333333</td>\n",
       "      <td>NaN</td>\n",
       "      <td>NaN</td>\n",
       "    </tr>\n",
       "    <tr>\n",
       "      <th>1</th>\n",
       "      <td>2</td>\n",
       "      <td>635,4</td>\n",
       "      <td>697,509301900238</td>\n",
       "      <td>1047,44</td>\n",
       "      <td>888,390027776206</td>\n",
       "      <td>872</td>\n",
       "      <td>1049,26756352766</td>\n",
       "      <td>161</td>\n",
       "      <td>81,8416666666666</td>\n",
       "      <td>NaN</td>\n",
       "      <td>NaN</td>\n",
       "    </tr>\n",
       "    <tr>\n",
       "      <th>2</th>\n",
       "      <td>3</td>\n",
       "      <td>524,52</td>\n",
       "      <td>575,7909647981</td>\n",
       "      <td>1042,44</td>\n",
       "      <td>884,149259675998</td>\n",
       "      <td>883</td>\n",
       "      <td>1062,50373692078</td>\n",
       "      <td>260,5</td>\n",
       "      <td>132,420833333333</td>\n",
       "      <td>NaN</td>\n",
       "      <td>NaN</td>\n",
       "    </tr>\n",
       "    <tr>\n",
       "      <th>3</th>\n",
       "      <td>4</td>\n",
       "      <td>550,84</td>\n",
       "      <td>604,683701382951</td>\n",
       "      <td>1190,78</td>\n",
       "      <td>1009,96436767295</td>\n",
       "      <td>829</td>\n",
       "      <td>997,526158445444</td>\n",
       "      <td>150</td>\n",
       "      <td>76,25</td>\n",
       "      <td>NaN</td>\n",
       "      <td>NaN</td>\n",
       "    </tr>\n",
       "    <tr>\n",
       "      <th>4</th>\n",
       "      <td>5</td>\n",
       "      <td>55,14</td>\n",
       "      <td>60,5298440459224</td>\n",
       "      <td>27,34</td>\n",
       "      <td>23,188519971933</td>\n",
       "      <td>28</td>\n",
       "      <td>33,6920777279523</td>\n",
       "      <td>0</td>\n",
       "      <td>0</td>\n",
       "      <td>NaN</td>\n",
       "      <td>NaN</td>\n",
       "    </tr>\n",
       "  </tbody>\n",
       "</table>\n",
       "</div>"
      ],
      "text/plain": [
       "   ID Ventes_ p1        Demande_P1 Ventes_ p2        Demande_P2 Ventes_ p3  \\\n",
       "0   1     549,68  603,410313296384     711,68  603,613968311092      479,5   \n",
       "1   2      635,4  697,509301900238    1047,44  888,390027776206        872   \n",
       "2   3     524,52    575,7909647981    1042,44  884,149259675998        883   \n",
       "3   4     550,84  604,683701382951    1190,78  1009,96436767295        829   \n",
       "4   5      55,14  60,5298440459224      27,34   23,188519971933         28   \n",
       "\n",
       "         Demande_P3 Ventes_ p4        Demande_P4  Demande  Vente  \n",
       "0  576,976831091183      299,5  152,245833333333      NaN    NaN  \n",
       "1  1049,26756352766        161  81,8416666666666      NaN    NaN  \n",
       "2  1062,50373692078      260,5  132,420833333333      NaN    NaN  \n",
       "3  997,526158445444        150             76,25      NaN    NaN  \n",
       "4  33,6920777279523          0                 0      NaN    NaN  "
      ]
     },
     "execution_count": 2,
     "metadata": {},
     "output_type": "execute_result"
    }
   ],
   "source": [
    "df = pd.read_csv(\"data.csv\")\n",
    "# Let's take a look at the top of the dataset:\n",
    "df.head()"
   ]
  },
  {
   "cell_type": "code",
   "execution_count": 3,
   "metadata": {
    "tags": []
   },
   "outputs": [],
   "source": [
    "copy=df.copy()"
   ]
  },
  {
   "cell_type": "code",
   "execution_count": null,
   "metadata": {},
   "outputs": [],
   "source": []
  },
  {
   "cell_type": "markdown",
   "metadata": {
    "id": "tmxuwF2gKqHY",
    "tags": []
   },
   "source": [
    "## **Exploration et préparation des données:**"
   ]
  },
  {
   "cell_type": "code",
   "execution_count": 4,
   "metadata": {
    "colab": {
     "base_uri": "https://localhost:8080/"
    },
    "id": "UblDv38tLHho",
    "outputId": "3c249f17-37ab-4a22-cd08-2578559bec91"
   },
   "outputs": [
    {
     "name": "stdout",
     "output_type": "stream",
     "text": [
      "<class 'pandas.core.frame.DataFrame'>\n",
      "RangeIndex: 1187 entries, 0 to 1186\n",
      "Data columns (total 11 columns):\n",
      " #   Column      Non-Null Count  Dtype  \n",
      "---  ------      --------------  -----  \n",
      " 0   ID          1187 non-null   int64  \n",
      " 1   Ventes_ p1  1186 non-null   object \n",
      " 2   Demande_P1  1186 non-null   object \n",
      " 3   Ventes_ p2  1186 non-null   object \n",
      " 4   Demande_P2  1186 non-null   object \n",
      " 5   Ventes_ p3  1186 non-null   object \n",
      " 6   Demande_P3  1186 non-null   object \n",
      " 7   Ventes_ p4  1185 non-null   object \n",
      " 8   Demande_P4  1186 non-null   object \n",
      " 9   Demande     1 non-null      float64\n",
      " 10  Vente       1 non-null      float64\n",
      "dtypes: float64(2), int64(1), object(8)\n",
      "memory usage: 102.1+ KB\n"
     ]
    }
   ],
   "source": [
    "# Pour voir les informations concernant toutes les colonnes, y compris le nombre de valeurs manquantes pour chacune:\n",
    "df.info()"
   ]
  },
  {
   "cell_type": "code",
   "execution_count": 5,
   "metadata": {
    "colab": {
     "base_uri": "https://localhost:8080/",
     "height": 300
    },
    "id": "wb6ufzlLLN7y",
    "outputId": "9c611f02-c9a8-4dc9-ed4e-56e88e6f40bf"
   },
   "outputs": [
    {
     "data": {
      "text/html": [
       "<div>\n",
       "<style scoped>\n",
       "    .dataframe tbody tr th:only-of-type {\n",
       "        vertical-align: middle;\n",
       "    }\n",
       "\n",
       "    .dataframe tbody tr th {\n",
       "        vertical-align: top;\n",
       "    }\n",
       "\n",
       "    .dataframe thead th {\n",
       "        text-align: right;\n",
       "    }\n",
       "</style>\n",
       "<table border=\"1\" class=\"dataframe\">\n",
       "  <thead>\n",
       "    <tr style=\"text-align: right;\">\n",
       "      <th></th>\n",
       "      <th>ID</th>\n",
       "      <th>Demande</th>\n",
       "      <th>Vente</th>\n",
       "    </tr>\n",
       "  </thead>\n",
       "  <tbody>\n",
       "    <tr>\n",
       "      <th>count</th>\n",
       "      <td>1187.000000</td>\n",
       "      <td>1.00</td>\n",
       "      <td>1.000</td>\n",
       "    </tr>\n",
       "    <tr>\n",
       "      <th>mean</th>\n",
       "      <td>593.000842</td>\n",
       "      <td>10000.25</td>\n",
       "      <td>125000.258</td>\n",
       "    </tr>\n",
       "    <tr>\n",
       "      <th>std</th>\n",
       "      <td>342.800235</td>\n",
       "      <td>NaN</td>\n",
       "      <td>NaN</td>\n",
       "    </tr>\n",
       "    <tr>\n",
       "      <th>min</th>\n",
       "      <td>1.000000</td>\n",
       "      <td>10000.25</td>\n",
       "      <td>125000.258</td>\n",
       "    </tr>\n",
       "    <tr>\n",
       "      <th>25%</th>\n",
       "      <td>296.500000</td>\n",
       "      <td>10000.25</td>\n",
       "      <td>125000.258</td>\n",
       "    </tr>\n",
       "    <tr>\n",
       "      <th>50%</th>\n",
       "      <td>593.000000</td>\n",
       "      <td>10000.25</td>\n",
       "      <td>125000.258</td>\n",
       "    </tr>\n",
       "    <tr>\n",
       "      <th>75%</th>\n",
       "      <td>889.500000</td>\n",
       "      <td>10000.25</td>\n",
       "      <td>125000.258</td>\n",
       "    </tr>\n",
       "    <tr>\n",
       "      <th>max</th>\n",
       "      <td>1186.000000</td>\n",
       "      <td>10000.25</td>\n",
       "      <td>125000.258</td>\n",
       "    </tr>\n",
       "  </tbody>\n",
       "</table>\n",
       "</div>"
      ],
      "text/plain": [
       "                ID   Demande       Vente\n",
       "count  1187.000000      1.00       1.000\n",
       "mean    593.000842  10000.25  125000.258\n",
       "std     342.800235       NaN         NaN\n",
       "min       1.000000  10000.25  125000.258\n",
       "25%     296.500000  10000.25  125000.258\n",
       "50%     593.000000  10000.25  125000.258\n",
       "75%     889.500000  10000.25  125000.258\n",
       "max    1186.000000  10000.25  125000.258"
      ]
     },
     "execution_count": 5,
     "metadata": {},
     "output_type": "execute_result"
    }
   ],
   "source": [
    "# Des statistiques descriptives pour les valeurs numériques :\n",
    "df.describe()"
   ]
  },
  {
   "cell_type": "markdown",
   "metadata": {
    "id": "pL4SSMZaV04G"
   },
   "source": [
    "* **La distribution des ventes:**"
   ]
  },
  {
   "cell_type": "code",
   "execution_count": 8,
   "metadata": {
    "colab": {
     "base_uri": "https://localhost:8080/",
     "height": 867
    },
    "id": "nNaiMNZwLi07",
    "outputId": "9c44ea58-c2f3-43a4-d836-e90555d8c731"
   },
   "outputs": [
    {
     "data": {
      "text/plain": [
       "<Axes: xlabel='Ventes_ p4', ylabel='Count'>"
      ]
     },
     "execution_count": 8,
     "metadata": {},
     "output_type": "execute_result"
    },
    {
     "data": {
      "image/png": "[encoded data removed]",
      "text/plain": [
       "<Figure size 1300x1000 with 4 Axes>"
      ]
     },
     "metadata": {},
     "output_type": "display_data"
    }
   ],
   "source": [
    "fig, axarr  = plt.subplots(2,2,figsize=(13,10))\n",
    "sns.histplot(x='Ventes_ p1', data=df, ax=axarr[0,0])\n",
    "sns.histplot(x='Ventes_ p2', data=df, ax=axarr[0,1])\n",
    "sns.histplot(x='Ventes_ p3', data=df, ax=axarr[1,0])\n",
    "sns.histplot(x='Ventes_ p4', data=df, ax=axarr[1,1])"
   ]
  },
  {
   "cell_type": "markdown",
   "metadata": {
    "id": "B2qZ7PMCWBvZ"
   },
   "source": [
    "*   **La destribution de la demende:**"
   ]
  },
  {
   "cell_type": "code",
   "execution_count": 10,
   "metadata": {
    "colab": {
     "base_uri": "https://localhost:8080/"
    },
    "id": "hxZxxtZNLRkn",
    "outputId": "efb83a66-74a5-4f3e-9694-abd8c76dea2c"
   },
   "outputs": [
    {
     "data": {
      "text/plain": [
       "ID               0\n",
       "Ventes_ p1       1\n",
       "Demande_P1       1\n",
       "Ventes_ p2       1\n",
       "Demande_P2       1\n",
       "Ventes_ p3       1\n",
       "Demande_P3       1\n",
       "Ventes_ p4       2\n",
       "Demande_P4       1\n",
       "Demande       1186\n",
       "Vente         1186\n",
       "dtype: int64"
      ]
     },
     "execution_count": 10,
     "metadata": {},
     "output_type": "execute_result"
    }
   ],
   "source": [
    "# Détection des valeurs manquantes:\n",
    "df.isnull().sum()"
   ]
  },
  {
   "cell_type": "code",
   "execution_count": 11,
   "metadata": {
    "colab": {
     "base_uri": "https://localhost:8080/"
    },
    "id": "DPTohkWwMuCA",
    "outputId": "50be4b9b-ef0e-464d-aafc-3c0515149103"
   },
   "outputs": [
    {
     "data": {
      "text/plain": [
       "0"
      ]
     },
     "execution_count": 11,
     "metadata": {},
     "output_type": "execute_result"
    }
   ],
   "source": [
    "# Détection des valeurs dupliquées:\n",
    "df.duplicated().sum()"
   ]
  },
  {
   "cell_type": "code",
   "execution_count": 12,
   "metadata": {
    "colab": {
     "base_uri": "https://localhost:8080/"
    },
    "id": "zI4d2UmIM6dR",
    "outputId": "81e4042f-e808-4679-d2d6-ecd57d22eb41"
   },
   "outputs": [
    {
     "data": {
      "text/plain": [
       "ID            0.0\n",
       "Ventes_ p1    0.0\n",
       "Demande_P1    0.0\n",
       "Ventes_ p2    0.0\n",
       "Demande_P2    0.0\n",
       "Ventes_ p3    0.0\n",
       "Demande_P3    0.0\n",
       "Ventes_ p4    0.0\n",
       "Demande_P4    0.0\n",
       "Demande       0.0\n",
       "Vente         0.0\n",
       "dtype: float64"
      ]
     },
     "execution_count": 12,
     "metadata": {},
     "output_type": "execute_result"
    }
   ],
   "source": [
    "# Suppression des valeurs manquantes:\n",
    "df = df.dropna()\n",
    "df.isnull().sum()"
   ]
  },
  {
   "cell_type": "markdown",
   "metadata": {
    "id": "03L3jbJz_aq4"
   },
   "source": [
    "### Détection des valeurs aberrantes:"
   ]
  },
  {
   "cell_type": "markdown",
   "metadata": {
    "id": "fUc2AeDj_2Gy"
   },
   "source": [
    "1.   **Methode graphique:** *La boîte à moustaches*"
   ]
  },
  {
   "cell_type": "code",
   "execution_count": 13,
   "metadata": {
    "colab": {
     "base_uri": "https://localhost:8080/",
     "height": 539
    },
    "id": "s9rCRVpY_Y_A",
    "outputId": "61154a34-8351-47b9-e6bb-c2e67e65e0e9"
   },
   "outputs": [
    {
     "data": {
      "text/plain": [
       "<Axes: >"
      ]
     },
     "execution_count": 13,
     "metadata": {},
     "output_type": "execute_result"
    },
    {
     "data": {
      "image/png": "[encoded data removed]",
      "text/plain": [
       "<Figure size 1200x600 with 1 Axes>"
      ]
     },
     "metadata": {},
     "output_type": "display_data"
    }
   ],
   "source": [
    "plt.figure(figsize=(12, 6))\n",
    "sns.boxplot(data = df)"
   ]
  },
  {
   "cell_type": "markdown",
   "metadata": {
    "id": "6DovWUtiByQi"
   },
   "source": [
    "En se basant sur la boîte à moustaches , on peut constater que certaines colonnes (Ventes_p1, Demande_p1, ventes_p4 et Demande_p4) contiennent des valeurs aberrantes. Plongeons plus en profondeur et examinons les lignes qui contiennent ces valeurs aberrantes en utilisant la méthode de (IQR)*texte en italique*\n",
    "\n",
    "\n",
    "\n",
    "\n",
    "\n",
    "\n",
    "\n",
    "\n"
   ]
  },
  {
   "cell_type": "markdown",
   "metadata": {
    "id": "AFKfRxmUANfl"
   },
   "source": [
    "2.   **Methode mathématique:** *La méthode IQR*"
   ]
  },
  {
   "cell_type": "code",
   "execution_count": 15,
   "metadata": {
    "colab": {
     "base_uri": "https://localhost:8080/",
     "height": 81
    },
    "id": "biBu_am8_ZRt",
    "outputId": "dcb2e4da-198d-4dbd-b487-99fb94749555"
   },
   "outputs": [
    {
     "ename": "IndexError",
     "evalue": "cannot do a non-empty take from an empty axes.",
     "output_type": "error",
     "traceback": [
      "\u001b[0;31m---------------------------------------------------------------------------\u001b[0m",
      "\u001b[0;31mIndexError\u001b[0m                                Traceback (most recent call last)",
      "Cell \u001b[0;32mIn[15], line 4\u001b[0m\n\u001b[1;32m      2\u001b[0m \u001b[38;5;28;01mfrom\u001b[39;00m \u001b[38;5;21;01mscipy\u001b[39;00m\u001b[38;5;21;01m.\u001b[39;00m\u001b[38;5;21;01mstats\u001b[39;00m \u001b[38;5;28;01mimport\u001b[39;00m iqr\n\u001b[1;32m      3\u001b[0m IQR \u001b[38;5;241m=\u001b[39m iqr(df[\u001b[38;5;124m\"\u001b[39m\u001b[38;5;124mVentes_ p1\u001b[39m\u001b[38;5;124m\"\u001b[39m])\n\u001b[0;32m----> 4\u001b[0m lower_threshold_1 \u001b[38;5;241m=\u001b[39m \u001b[43mnp\u001b[49m\u001b[38;5;241;43m.\u001b[39;49m\u001b[43mquantile\u001b[49m\u001b[43m(\u001b[49m\u001b[43mdf\u001b[49m\u001b[43m[\u001b[49m\u001b[38;5;124;43m\"\u001b[39;49m\u001b[38;5;124;43mVentes_ p1\u001b[39;49m\u001b[38;5;124;43m\"\u001b[39;49m\u001b[43m]\u001b[49m\u001b[43m,\u001b[49m\u001b[43m \u001b[49m\u001b[38;5;241;43m0.25\u001b[39;49m\u001b[43m)\u001b[49m \u001b[38;5;241m-\u001b[39m \u001b[38;5;241m1.5\u001b[39m \u001b[38;5;241m*\u001b[39m IQR\n\u001b[1;32m      5\u001b[0m upper_threshold_1 \u001b[38;5;241m=\u001b[39m np\u001b[38;5;241m.\u001b[39mquantile(df[\u001b[38;5;124m\"\u001b[39m\u001b[38;5;124mVentes_ p1\u001b[39m\u001b[38;5;124m\"\u001b[39m], \u001b[38;5;241m0.75\u001b[39m) \u001b[38;5;241m+\u001b[39m \u001b[38;5;241m1.5\u001b[39m \u001b[38;5;241m*\u001b[39m IQR\n\u001b[1;32m      6\u001b[0m T_outliers_1 \u001b[38;5;241m=\u001b[39m df[(df[\u001b[38;5;124m\"\u001b[39m\u001b[38;5;124mVentes_ p1\u001b[39m\u001b[38;5;124m\"\u001b[39m] \u001b[38;5;241m<\u001b[39m lower_threshold_1) \u001b[38;5;241m|\u001b[39m (df[\u001b[38;5;124m\"\u001b[39m\u001b[38;5;124mVentes_ p1\u001b[39m\u001b[38;5;124m\"\u001b[39m] \u001b[38;5;241m>\u001b[39m upper_threshold_1)]\n",
      "File \u001b[0;32m<__array_function__ internals>:180\u001b[0m, in \u001b[0;36mquantile\u001b[0;34m(*args, **kwargs)\u001b[0m\n",
      "File \u001b[0;32m~/.local/lib/python3.10/site-packages/numpy/lib/function_base.py:4412\u001b[0m, in \u001b[0;36mquantile\u001b[0;34m(a, q, axis, out, overwrite_input, method, keepdims, interpolation)\u001b[0m\n\u001b[1;32m   4410\u001b[0m \u001b[38;5;28;01mif\u001b[39;00m \u001b[38;5;129;01mnot\u001b[39;00m _quantile_is_valid(q):\n\u001b[1;32m   4411\u001b[0m     \u001b[38;5;28;01mraise\u001b[39;00m \u001b[38;5;167;01mValueError\u001b[39;00m(\u001b[38;5;124m\"\u001b[39m\u001b[38;5;124mQuantiles must be in the range [0, 1]\u001b[39m\u001b[38;5;124m\"\u001b[39m)\n\u001b[0;32m-> 4412\u001b[0m \u001b[38;5;28;01mreturn\u001b[39;00m \u001b[43m_quantile_unchecked\u001b[49m\u001b[43m(\u001b[49m\n\u001b[1;32m   4413\u001b[0m \u001b[43m    \u001b[49m\u001b[43ma\u001b[49m\u001b[43m,\u001b[49m\u001b[43m \u001b[49m\u001b[43mq\u001b[49m\u001b[43m,\u001b[49m\u001b[43m \u001b[49m\u001b[43maxis\u001b[49m\u001b[43m,\u001b[49m\u001b[43m \u001b[49m\u001b[43mout\u001b[49m\u001b[43m,\u001b[49m\u001b[43m \u001b[49m\u001b[43moverwrite_input\u001b[49m\u001b[43m,\u001b[49m\u001b[43m \u001b[49m\u001b[43mmethod\u001b[49m\u001b[43m,\u001b[49m\u001b[43m \u001b[49m\u001b[43mkeepdims\u001b[49m\u001b[43m)\u001b[49m\n",
      "File \u001b[0;32m~/.local/lib/python3.10/site-packages/numpy/lib/function_base.py:4424\u001b[0m, in \u001b[0;36m_quantile_unchecked\u001b[0;34m(a, q, axis, out, overwrite_input, method, keepdims)\u001b[0m\n\u001b[1;32m   4416\u001b[0m \u001b[38;5;28;01mdef\u001b[39;00m \u001b[38;5;21m_quantile_unchecked\u001b[39m(a,\n\u001b[1;32m   4417\u001b[0m                         q,\n\u001b[1;32m   4418\u001b[0m                         axis\u001b[38;5;241m=\u001b[39m\u001b[38;5;28;01mNone\u001b[39;00m,\n\u001b[0;32m   (...)\u001b[0m\n\u001b[1;32m   4421\u001b[0m                         method\u001b[38;5;241m=\u001b[39m\u001b[38;5;124m\"\u001b[39m\u001b[38;5;124mlinear\u001b[39m\u001b[38;5;124m\"\u001b[39m,\n\u001b[1;32m   4422\u001b[0m                         keepdims\u001b[38;5;241m=\u001b[39m\u001b[38;5;28;01mFalse\u001b[39;00m):\n\u001b[1;32m   4423\u001b[0m \u001b[38;5;250m    \u001b[39m\u001b[38;5;124;03m\"\"\"Assumes that q is in [0, 1], and is an ndarray\"\"\"\u001b[39;00m\n\u001b[0;32m-> 4424\u001b[0m     r, k \u001b[38;5;241m=\u001b[39m \u001b[43m_ureduce\u001b[49m\u001b[43m(\u001b[49m\u001b[43ma\u001b[49m\u001b[43m,\u001b[49m\n\u001b[1;32m   4425\u001b[0m \u001b[43m                    \u001b[49m\u001b[43mfunc\u001b[49m\u001b[38;5;241;43m=\u001b[39;49m\u001b[43m_quantile_ureduce_func\u001b[49m\u001b[43m,\u001b[49m\n\u001b[1;32m   4426\u001b[0m \u001b[43m                    \u001b[49m\u001b[43mq\u001b[49m\u001b[38;5;241;43m=\u001b[39;49m\u001b[43mq\u001b[49m\u001b[43m,\u001b[49m\n\u001b[1;32m   4427\u001b[0m \u001b[43m                    \u001b[49m\u001b[43maxis\u001b[49m\u001b[38;5;241;43m=\u001b[39;49m\u001b[43maxis\u001b[49m\u001b[43m,\u001b[49m\n\u001b[1;32m   4428\u001b[0m \u001b[43m                    \u001b[49m\u001b[43mout\u001b[49m\u001b[38;5;241;43m=\u001b[39;49m\u001b[43mout\u001b[49m\u001b[43m,\u001b[49m\n\u001b[1;32m   4429\u001b[0m \u001b[43m                    \u001b[49m\u001b[43moverwrite_input\u001b[49m\u001b[38;5;241;43m=\u001b[39;49m\u001b[43moverwrite_input\u001b[49m\u001b[43m,\u001b[49m\n\u001b[1;32m   4430\u001b[0m \u001b[43m                    \u001b[49m\u001b[43mmethod\u001b[49m\u001b[38;5;241;43m=\u001b[39;49m\u001b[43mmethod\u001b[49m\u001b[43m)\u001b[49m\n\u001b[1;32m   4431\u001b[0m     \u001b[38;5;28;01mif\u001b[39;00m keepdims:\n\u001b[1;32m   4432\u001b[0m         \u001b[38;5;28;01mreturn\u001b[39;00m r\u001b[38;5;241m.\u001b[39mreshape(q\u001b[38;5;241m.\u001b[39mshape \u001b[38;5;241m+\u001b[39m k)\n",
      "File \u001b[0;32m~/.local/lib/python3.10/site-packages/numpy/lib/function_base.py:3725\u001b[0m, in \u001b[0;36m_ureduce\u001b[0;34m(a, func, **kwargs)\u001b[0m\n\u001b[1;32m   3722\u001b[0m \u001b[38;5;28;01melse\u001b[39;00m:\n\u001b[1;32m   3723\u001b[0m     keepdim \u001b[38;5;241m=\u001b[39m (\u001b[38;5;241m1\u001b[39m,) \u001b[38;5;241m*\u001b[39m a\u001b[38;5;241m.\u001b[39mndim\n\u001b[0;32m-> 3725\u001b[0m r \u001b[38;5;241m=\u001b[39m \u001b[43mfunc\u001b[49m\u001b[43m(\u001b[49m\u001b[43ma\u001b[49m\u001b[43m,\u001b[49m\u001b[43m \u001b[49m\u001b[38;5;241;43m*\u001b[39;49m\u001b[38;5;241;43m*\u001b[39;49m\u001b[43mkwargs\u001b[49m\u001b[43m)\u001b[49m\n\u001b[1;32m   3726\u001b[0m \u001b[38;5;28;01mreturn\u001b[39;00m r, keepdim\n",
      "File \u001b[0;32m~/.local/lib/python3.10/site-packages/numpy/lib/function_base.py:4593\u001b[0m, in \u001b[0;36m_quantile_ureduce_func\u001b[0;34m(a, q, axis, out, overwrite_input, method)\u001b[0m\n\u001b[1;32m   4591\u001b[0m     \u001b[38;5;28;01melse\u001b[39;00m:\n\u001b[1;32m   4592\u001b[0m         arr \u001b[38;5;241m=\u001b[39m a\u001b[38;5;241m.\u001b[39mcopy()\n\u001b[0;32m-> 4593\u001b[0m result \u001b[38;5;241m=\u001b[39m \u001b[43m_quantile\u001b[49m\u001b[43m(\u001b[49m\u001b[43marr\u001b[49m\u001b[43m,\u001b[49m\n\u001b[1;32m   4594\u001b[0m \u001b[43m                   \u001b[49m\u001b[43mquantiles\u001b[49m\u001b[38;5;241;43m=\u001b[39;49m\u001b[43mq\u001b[49m\u001b[43m,\u001b[49m\n\u001b[1;32m   4595\u001b[0m \u001b[43m                   \u001b[49m\u001b[43maxis\u001b[49m\u001b[38;5;241;43m=\u001b[39;49m\u001b[43maxis\u001b[49m\u001b[43m,\u001b[49m\n\u001b[1;32m   4596\u001b[0m \u001b[43m                   \u001b[49m\u001b[43mmethod\u001b[49m\u001b[38;5;241;43m=\u001b[39;49m\u001b[43mmethod\u001b[49m\u001b[43m,\u001b[49m\n\u001b[1;32m   4597\u001b[0m \u001b[43m                   \u001b[49m\u001b[43mout\u001b[49m\u001b[38;5;241;43m=\u001b[39;49m\u001b[43mout\u001b[49m\u001b[43m)\u001b[49m\n\u001b[1;32m   4598\u001b[0m \u001b[38;5;28;01mreturn\u001b[39;00m result\n",
      "File \u001b[0;32m~/.local/lib/python3.10/site-packages/numpy/lib/function_base.py:4704\u001b[0m, in \u001b[0;36m_quantile\u001b[0;34m(arr, quantiles, axis, method, out)\u001b[0m\n\u001b[1;32m   4702\u001b[0m     slices_having_nans \u001b[38;5;241m=\u001b[39m \u001b[38;5;28;01mNone\u001b[39;00m\n\u001b[1;32m   4703\u001b[0m \u001b[38;5;66;03m# --- Get values from indexes\u001b[39;00m\n\u001b[0;32m-> 4704\u001b[0m previous \u001b[38;5;241m=\u001b[39m \u001b[43mnp\u001b[49m\u001b[38;5;241;43m.\u001b[39;49m\u001b[43mtake\u001b[49m\u001b[43m(\u001b[49m\u001b[43marr\u001b[49m\u001b[43m,\u001b[49m\u001b[43m \u001b[49m\u001b[43mprevious_indexes\u001b[49m\u001b[43m,\u001b[49m\u001b[43m \u001b[49m\u001b[43maxis\u001b[49m\u001b[38;5;241;43m=\u001b[39;49m\u001b[43mDATA_AXIS\u001b[49m\u001b[43m)\u001b[49m\n\u001b[1;32m   4705\u001b[0m \u001b[38;5;28mnext\u001b[39m \u001b[38;5;241m=\u001b[39m np\u001b[38;5;241m.\u001b[39mtake(arr, next_indexes, axis\u001b[38;5;241m=\u001b[39mDATA_AXIS)\n\u001b[1;32m   4706\u001b[0m \u001b[38;5;66;03m# --- Linear interpolation\u001b[39;00m\n",
      "File \u001b[0;32m<__array_function__ internals>:180\u001b[0m, in \u001b[0;36mtake\u001b[0;34m(*args, **kwargs)\u001b[0m\n",
      "File \u001b[0;32m~/.local/lib/python3.10/site-packages/numpy/core/fromnumeric.py:190\u001b[0m, in \u001b[0;36mtake\u001b[0;34m(a, indices, axis, out, mode)\u001b[0m\n\u001b[1;32m     93\u001b[0m \u001b[38;5;129m@array_function_dispatch\u001b[39m(_take_dispatcher)\n\u001b[1;32m     94\u001b[0m \u001b[38;5;28;01mdef\u001b[39;00m \u001b[38;5;21mtake\u001b[39m(a, indices, axis\u001b[38;5;241m=\u001b[39m\u001b[38;5;28;01mNone\u001b[39;00m, out\u001b[38;5;241m=\u001b[39m\u001b[38;5;28;01mNone\u001b[39;00m, mode\u001b[38;5;241m=\u001b[39m\u001b[38;5;124m'\u001b[39m\u001b[38;5;124mraise\u001b[39m\u001b[38;5;124m'\u001b[39m):\n\u001b[1;32m     95\u001b[0m \u001b[38;5;250m    \u001b[39m\u001b[38;5;124;03m\"\"\"\u001b[39;00m\n\u001b[1;32m     96\u001b[0m \u001b[38;5;124;03m    Take elements from an array along an axis.\u001b[39;00m\n\u001b[1;32m     97\u001b[0m \n\u001b[0;32m   (...)\u001b[0m\n\u001b[1;32m    188\u001b[0m \u001b[38;5;124;03m           [5, 7]])\u001b[39;00m\n\u001b[1;32m    189\u001b[0m \u001b[38;5;124;03m    \"\"\"\u001b[39;00m\n\u001b[0;32m--> 190\u001b[0m     \u001b[38;5;28;01mreturn\u001b[39;00m \u001b[43m_wrapfunc\u001b[49m\u001b[43m(\u001b[49m\u001b[43ma\u001b[49m\u001b[43m,\u001b[49m\u001b[43m \u001b[49m\u001b[38;5;124;43m'\u001b[39;49m\u001b[38;5;124;43mtake\u001b[39;49m\u001b[38;5;124;43m'\u001b[39;49m\u001b[43m,\u001b[49m\u001b[43m \u001b[49m\u001b[43mindices\u001b[49m\u001b[43m,\u001b[49m\u001b[43m \u001b[49m\u001b[43maxis\u001b[49m\u001b[38;5;241;43m=\u001b[39;49m\u001b[43maxis\u001b[49m\u001b[43m,\u001b[49m\u001b[43m \u001b[49m\u001b[43mout\u001b[49m\u001b[38;5;241;43m=\u001b[39;49m\u001b[43mout\u001b[49m\u001b[43m,\u001b[49m\u001b[43m \u001b[49m\u001b[43mmode\u001b[49m\u001b[38;5;241;43m=\u001b[39;49m\u001b[43mmode\u001b[49m\u001b[43m)\u001b[49m\n",
      "File \u001b[0;32m~/.local/lib/python3.10/site-packages/numpy/core/fromnumeric.py:57\u001b[0m, in \u001b[0;36m_wrapfunc\u001b[0;34m(obj, method, *args, **kwds)\u001b[0m\n\u001b[1;32m     54\u001b[0m     \u001b[38;5;28;01mreturn\u001b[39;00m _wrapit(obj, method, \u001b[38;5;241m*\u001b[39margs, \u001b[38;5;241m*\u001b[39m\u001b[38;5;241m*\u001b[39mkwds)\n\u001b[1;32m     56\u001b[0m \u001b[38;5;28;01mtry\u001b[39;00m:\n\u001b[0;32m---> 57\u001b[0m     \u001b[38;5;28;01mreturn\u001b[39;00m \u001b[43mbound\u001b[49m\u001b[43m(\u001b[49m\u001b[38;5;241;43m*\u001b[39;49m\u001b[43margs\u001b[49m\u001b[43m,\u001b[49m\u001b[43m \u001b[49m\u001b[38;5;241;43m*\u001b[39;49m\u001b[38;5;241;43m*\u001b[39;49m\u001b[43mkwds\u001b[49m\u001b[43m)\u001b[49m\n\u001b[1;32m     58\u001b[0m \u001b[38;5;28;01mexcept\u001b[39;00m \u001b[38;5;167;01mTypeError\u001b[39;00m:\n\u001b[1;32m     59\u001b[0m     \u001b[38;5;66;03m# A TypeError occurs if the object does have such a method in its\u001b[39;00m\n\u001b[1;32m     60\u001b[0m     \u001b[38;5;66;03m# class, but its signature is not identical to that of NumPy's. This\u001b[39;00m\n\u001b[0;32m   (...)\u001b[0m\n\u001b[1;32m     64\u001b[0m     \u001b[38;5;66;03m# Call _wrapit from within the except clause to ensure a potential\u001b[39;00m\n\u001b[1;32m     65\u001b[0m     \u001b[38;5;66;03m# exception has a traceback chain.\u001b[39;00m\n\u001b[1;32m     66\u001b[0m     \u001b[38;5;28;01mreturn\u001b[39;00m _wrapit(obj, method, \u001b[38;5;241m*\u001b[39margs, \u001b[38;5;241m*\u001b[39m\u001b[38;5;241m*\u001b[39mkwds)\n",
      "\u001b[0;31mIndexError\u001b[0m: cannot do a non-empty take from an empty axes."
     ]
    }
   ],
   "source": [
    "#Pour ventes_p1:\n",
    "from scipy.stats import iqr\n",
    "IQR = iqr(df[\"Ventes_ p1\"])\n",
    "lower_threshold_1 = np.quantile(df[\"Ventes_ p1\"], 0.25) - 1.5 * IQR\n",
    "upper_threshold_1 = np.quantile(df[\"Ventes_ p1\"], 0.75) + 1.5 * IQR\n",
    "T_outliers_1 = df[(df[\"Ventes_ p1\"] < lower_threshold_1) | (df[\"Ventes_ p1\"] > upper_threshold_1)]\n",
    "T_outliers_1"
   ]
  },
  {
   "cell_type": "code",
   "execution_count": null,
   "metadata": {
    "colab": {
     "base_uri": "https://localhost:8080/",
     "height": 112
    },
    "id": "_MkL0_-YDLqP",
    "outputId": "184406f8-025e-4f67-a37e-72666e76a850"
   },
   "outputs": [],
   "source": [
    "# Pour Demande_p1:\n",
    "from scipy.stats import iqr\n",
    "IQR = iqr(df[\"Demande_P1\"])\n",
    "lower_threshold_2 = np.quantile(df[\"Demande_P1\"], 0.25) - 1.5 * IQR\n",
    "upper_threshold_2 = np.quantile(df[\"Demande_P1\"], 0.75) + 1.5 * IQR\n",
    "T_outliers_2 = df[(df[\"Demande_P1\"] < lower_threshold_2) | (df[\"Demande_P1\"] > upper_threshold_2)]\n",
    "T_outliers_2"
   ]
  },
  {
   "cell_type": "code",
   "execution_count": null,
   "metadata": {
    "colab": {
     "base_uri": "https://localhost:8080/",
     "height": 143
    },
    "id": "WclZpxvsDL7O",
    "outputId": "cca0feaa-65e1-42f6-d882-4df788d92773"
   },
   "outputs": [],
   "source": [
    "# Pour ventes_p4:\n",
    "from scipy.stats import iqr\n",
    "IQR = iqr(df[\"Ventes_p4\"])\n",
    "lower_threshold_3 = np.quantile(df[\"Ventes_p4\"], 0.25) - 1.5 * IQR\n",
    "upper_threshold_3 = np.quantile(df[\"Ventes_p4\"], 0.75) + 1.5 * IQR\n",
    "T_outliers_3 = df[(df[\"Ventes_p4\"] < lower_threshold_3) | (df[\"Ventes_p4\"] > upper_threshold_3)]\n",
    "T_outliers_3"
   ]
  },
  {
   "cell_type": "code",
   "execution_count": null,
   "metadata": {
    "colab": {
     "base_uri": "https://localhost:8080/",
     "height": 833
    },
    "id": "dynpOKm6DMG-",
    "outputId": "5ea17c39-54e8-4e3b-c21c-97d79b0a7153"
   },
   "outputs": [],
   "source": [
    "# Pour Demande_p4:\n",
    "from scipy.stats import iqr\n",
    "IQR = iqr(df[\"Demande_ p4\"])\n",
    "lower_threshold_4 = np.quantile(df[\"Demande_ p4\"], 0.25) - 1.5 * IQR\n",
    "upper_threshold_4 = np.quantile(df[\"Demande_ p4\"], 0.75) + 1.5 * IQR\n",
    "T_outliers_4 = df[(df[\"Demande_ p4\"] < lower_threshold_4) | (df[\"Demande_ p4\"] > upper_threshold_4)]\n",
    "T_outliers_4"
   ]
  },
  {
   "cell_type": "markdown",
   "metadata": {
    "id": "chS4jcHqXxYu"
   },
   "source": [
    "**L'existence de valeurs aberrantes peut avoir un impact significatif sur les résultats d'une analyse statistique ou d'un modèle prédictif. C'est pourquoi il est courant de supprimer ces valeurs afin d'atténuer leur influence.**"
   ]
  },
  {
   "cell_type": "code",
   "execution_count": null,
   "metadata": {
    "id": "gQBHlhb5YgKX"
   },
   "outputs": [],
   "source": [
    "# Suppression des valeurs aberrantes:\n",
    "df= df[(df[\"Ventes_ p1 \"] < upper_threshold_1) & (df[\"Ventes_ p1 \"] > lower_threshold_1)]\n",
    "df= df[(df[\"Demande_P1\"] < upper_threshold_2) & (df[\"Demande_P1\"] > lower_threshold_2)]\n",
    "df= df[(df[\"Ventes_p4\"] < upper_threshold_3) & (df[\"Ventes_p4\"] > lower_threshold_3)]\n",
    "df= df[(df[\"Demande_ p4\"] < upper_threshold_4) & (df[\"Demande_ p4\"] > lower_threshold_4)]"
   ]
  },
  {
   "cell_type": "code",
   "execution_count": null,
   "metadata": {
    "colab": {
     "base_uri": "https://localhost:8080/"
    },
    "id": "gC3hoLUiYf5z",
    "outputId": "a8d64582-4782-440f-d466-7ec17ae4a897"
   },
   "outputs": [],
   "source": [
    "# Vérification des résultats après suppression des valeurs aberrantes:\n",
    "df.info()"
   ]
  },
  {
   "cell_type": "code",
   "execution_count": null,
   "metadata": {
    "id": "1eGXnssWehj3"
   },
   "outputs": [],
   "source": [
    "#Suppression du colonne ID:\n",
    "df = df.drop(columns=(\"ID\"))"
   ]
  },
  {
   "cell_type": "code",
   "execution_count": null,
   "metadata": {
    "colab": {
     "base_uri": "https://localhost:8080/",
     "height": 206
    },
    "id": "ZGZVuUgrdiyt",
    "outputId": "bc4914a9-44d0-4e14-daa7-546d2fa863ce"
   },
   "outputs": [],
   "source": [
    "df.head()"
   ]
  },
  {
   "cell_type": "markdown",
   "metadata": {
    "id": "cms9Pc0dLOIa"
   },
   "source": [
    "## **Analyse de lien entre les variables:**"
   ]
  },
  {
   "cell_type": "code",
   "execution_count": null,
   "metadata": {
    "colab": {
     "base_uri": "https://localhost:8080/",
     "height": 300
    },
    "id": "e-3jYlT-NVV0",
    "outputId": "31db0da5-2d7e-48c9-d17b-a3b625131dc4"
   },
   "outputs": [],
   "source": [
    "df.corr()"
   ]
  },
  {
   "cell_type": "code",
   "execution_count": null,
   "metadata": {
    "colab": {
     "base_uri": "https://localhost:8080/",
     "height": 610
    },
    "id": "NhxbG-HtNVfc",
    "outputId": "067f2ee8-1e83-466c-a2f8-2f449ed1acf1"
   },
   "outputs": [],
   "source": [
    "plt.figure(figsize=(10, 6))\n",
    "sns.heatmap(df.corr(), annot = True)\n",
    "plt.show()"
   ]
  },
  {
   "cell_type": "code",
   "execution_count": null,
   "metadata": {
    "colab": {
     "base_uri": "https://localhost:8080/",
     "height": 867
    },
    "id": "1BMFN1FXNVk3",
    "outputId": "913fead0-e95e-41e5-81e1-b4e3de8f3c1f"
   },
   "outputs": [],
   "source": [
    "fig, axarr  = plt.subplots(2,2,figsize=(13,10))\n",
    "sns.scatterplot(x='Demande_P1', y=\"Ventes_ p1 \", data=df, ax=axarr[0,0], palette='deep')\n",
    "sns.scatterplot(x='Demande_p2', y='Ventes_ p2', data=df, ax=axarr[0,1], palette='deep')\n",
    "sns.scatterplot(x='Demande_p3', y='Ventes_p3', data=df, ax=axarr[1,0], palette='deep')\n",
    "sns.scatterplot(x='Demande_ p4', y='Ventes_p4', data=df, ax=axarr[1,1], palette='deep')"
   ]
  },
  {
   "cell_type": "markdown",
   "metadata": {
    "id": "LltQh6OhXH_7"
   },
   "source": [
    "**D'après les résultats precedents, On peut confirmer l'existence d'une corrélation entre chaque vente et sa demande respective. Cependant, il convient de noter que la nature de cette corrélation est non linéaire.**"
   ]
  },
  {
   "cell_type": "markdown",
   "metadata": {
    "id": "A9Z7mft9fX2V"
   },
   "source": [
    "## Modélisation:"
   ]
  },
  {
   "cell_type": "markdown",
   "metadata": {
    "id": "cIay-AcWff3D"
   },
   "source": [
    "### Choix des variables pour la modélisation"
   ]
  },
  {
   "cell_type": "markdown",
   "metadata": {
    "id": "0DQl0qMusoKg"
   },
   "source": [
    "##### **On commence par \"Vente_p1\" et \"Demande_P1\"**:"
   ]
  },
  {
   "cell_type": "code",
   "execution_count": 16,
   "metadata": {
    "id": "UclLXkL-7DsO"
   },
   "outputs": [
    {
     "ename": "KeyError",
     "evalue": "'Ventes_ p1 '",
     "output_type": "error",
     "traceback": [
      "\u001b[0;31m---------------------------------------------------------------------------\u001b[0m",
      "\u001b[0;31mKeyError\u001b[0m                                  Traceback (most recent call last)",
      "File \u001b[0;32m~/.local/lib/python3.10/site-packages/pandas/core/indexes/base.py:3802\u001b[0m, in \u001b[0;36mIndex.get_loc\u001b[0;34m(self, key, method, tolerance)\u001b[0m\n\u001b[1;32m   3801\u001b[0m \u001b[38;5;28;01mtry\u001b[39;00m:\n\u001b[0;32m-> 3802\u001b[0m     \u001b[38;5;28;01mreturn\u001b[39;00m \u001b[38;5;28;43mself\u001b[39;49m\u001b[38;5;241;43m.\u001b[39;49m\u001b[43m_engine\u001b[49m\u001b[38;5;241;43m.\u001b[39;49m\u001b[43mget_loc\u001b[49m\u001b[43m(\u001b[49m\u001b[43mcasted_key\u001b[49m\u001b[43m)\u001b[49m\n\u001b[1;32m   3803\u001b[0m \u001b[38;5;28;01mexcept\u001b[39;00m \u001b[38;5;167;01mKeyError\u001b[39;00m \u001b[38;5;28;01mas\u001b[39;00m err:\n",
      "File \u001b[0;32m~/.local/lib/python3.10/site-packages/pandas/_libs/index.pyx:138\u001b[0m, in \u001b[0;36mpandas._libs.index.IndexEngine.get_loc\u001b[0;34m()\u001b[0m\n",
      "File \u001b[0;32m~/.local/lib/python3.10/site-packages/pandas/_libs/index.pyx:165\u001b[0m, in \u001b[0;36mpandas._libs.index.IndexEngine.get_loc\u001b[0;34m()\u001b[0m\n",
      "File \u001b[0;32mpandas/_libs/hashtable_class_helper.pxi:5745\u001b[0m, in \u001b[0;36mpandas._libs.hashtable.PyObjectHashTable.get_item\u001b[0;34m()\u001b[0m\n",
      "File \u001b[0;32mpandas/_libs/hashtable_class_helper.pxi:5753\u001b[0m, in \u001b[0;36mpandas._libs.hashtable.PyObjectHashTable.get_item\u001b[0;34m()\u001b[0m\n",
      "\u001b[0;31mKeyError\u001b[0m: 'Ventes_ p1 '",
      "\nThe above exception was the direct cause of the following exception:\n",
      "\u001b[0;31mKeyError\u001b[0m                                  Traceback (most recent call last)",
      "Cell \u001b[0;32mIn[16], line 3\u001b[0m\n\u001b[1;32m      1\u001b[0m \u001b[38;5;66;03m#On commence par \"Ventes_p1\" et \"demande_P1\":\u001b[39;00m\n\u001b[1;32m      2\u001b[0m X_1 \u001b[38;5;241m=\u001b[39m df[\u001b[38;5;124m'\u001b[39m\u001b[38;5;124mDemande_P1\u001b[39m\u001b[38;5;124m'\u001b[39m]\n\u001b[0;32m----> 3\u001b[0m y_1 \u001b[38;5;241m=\u001b[39m \u001b[43mdf\u001b[49m\u001b[43m[\u001b[49m\u001b[38;5;124;43m'\u001b[39;49m\u001b[38;5;124;43mVentes_ p1 \u001b[39;49m\u001b[38;5;124;43m'\u001b[39;49m\u001b[43m]\u001b[49m\n",
      "File \u001b[0;32m~/.local/lib/python3.10/site-packages/pandas/core/frame.py:3807\u001b[0m, in \u001b[0;36mDataFrame.__getitem__\u001b[0;34m(self, key)\u001b[0m\n\u001b[1;32m   3805\u001b[0m \u001b[38;5;28;01mif\u001b[39;00m \u001b[38;5;28mself\u001b[39m\u001b[38;5;241m.\u001b[39mcolumns\u001b[38;5;241m.\u001b[39mnlevels \u001b[38;5;241m>\u001b[39m \u001b[38;5;241m1\u001b[39m:\n\u001b[1;32m   3806\u001b[0m     \u001b[38;5;28;01mreturn\u001b[39;00m \u001b[38;5;28mself\u001b[39m\u001b[38;5;241m.\u001b[39m_getitem_multilevel(key)\n\u001b[0;32m-> 3807\u001b[0m indexer \u001b[38;5;241m=\u001b[39m \u001b[38;5;28;43mself\u001b[39;49m\u001b[38;5;241;43m.\u001b[39;49m\u001b[43mcolumns\u001b[49m\u001b[38;5;241;43m.\u001b[39;49m\u001b[43mget_loc\u001b[49m\u001b[43m(\u001b[49m\u001b[43mkey\u001b[49m\u001b[43m)\u001b[49m\n\u001b[1;32m   3808\u001b[0m \u001b[38;5;28;01mif\u001b[39;00m is_integer(indexer):\n\u001b[1;32m   3809\u001b[0m     indexer \u001b[38;5;241m=\u001b[39m [indexer]\n",
      "File \u001b[0;32m~/.local/lib/python3.10/site-packages/pandas/core/indexes/base.py:3804\u001b[0m, in \u001b[0;36mIndex.get_loc\u001b[0;34m(self, key, method, tolerance)\u001b[0m\n\u001b[1;32m   3802\u001b[0m     \u001b[38;5;28;01mreturn\u001b[39;00m \u001b[38;5;28mself\u001b[39m\u001b[38;5;241m.\u001b[39m_engine\u001b[38;5;241m.\u001b[39mget_loc(casted_key)\n\u001b[1;32m   3803\u001b[0m \u001b[38;5;28;01mexcept\u001b[39;00m \u001b[38;5;167;01mKeyError\u001b[39;00m \u001b[38;5;28;01mas\u001b[39;00m err:\n\u001b[0;32m-> 3804\u001b[0m     \u001b[38;5;28;01mraise\u001b[39;00m \u001b[38;5;167;01mKeyError\u001b[39;00m(key) \u001b[38;5;28;01mfrom\u001b[39;00m \u001b[38;5;21;01merr\u001b[39;00m\n\u001b[1;32m   3805\u001b[0m \u001b[38;5;28;01mexcept\u001b[39;00m \u001b[38;5;167;01mTypeError\u001b[39;00m:\n\u001b[1;32m   3806\u001b[0m     \u001b[38;5;66;03m# If we have a listlike key, _check_indexing_error will raise\u001b[39;00m\n\u001b[1;32m   3807\u001b[0m     \u001b[38;5;66;03m#  InvalidIndexError. Otherwise we fall through and re-raise\u001b[39;00m\n\u001b[1;32m   3808\u001b[0m     \u001b[38;5;66;03m#  the TypeError.\u001b[39;00m\n\u001b[1;32m   3809\u001b[0m     \u001b[38;5;28mself\u001b[39m\u001b[38;5;241m.\u001b[39m_check_indexing_error(key)\n",
      "\u001b[0;31mKeyError\u001b[0m: 'Ventes_ p1 '"
     ]
    }
   ],
   "source": [
    "#On commence par \"Ventes_p1\" et \"demande_P1\":\n",
    "X_1 = df['Demande_P1']\n",
    "y_1 = df['Ventes_ p1 ']"
   ]
  },
  {
   "cell_type": "markdown",
   "metadata": {
    "id": "bjt4HjKog98b"
   },
   "source": [
    "***Diviser la base en un ensemble d'apprentissage et un ensemble de test (80 pour l'apprentissage et 20% pour le test)***"
   ]
  },
  {
   "cell_type": "code",
   "execution_count": null,
   "metadata": {
    "id": "4tKYMYJ07D3O"
   },
   "outputs": [],
   "source": [
    "from sklearn import model_selection\n",
    "X1_train, X1_test, y1_train, y1_test = model_selection.train_test_split(X_1, y_1, test_size = 0.20, random_state = 42)"
   ]
  },
  {
   "cell_type": "code",
   "execution_count": null,
   "metadata": {
    "colab": {
     "base_uri": "https://localhost:8080/"
    },
    "id": "PfwtvjEB7D-h",
    "outputId": "b69a171b-bf30-4ee4-b4db-23ea2b3de0d0"
   },
   "outputs": [],
   "source": [
    "# Verification après la division du base:\n",
    "X1_train.shape , y1_train.shape, X1_test.shape, y1_test.shape"
   ]
  },
  {
   "cell_type": "code",
   "execution_count": null,
   "metadata": {
    "id": "Wq0eqwKX_Ecd"
   },
   "outputs": [],
   "source": [
    "#Remodelage des données d'entraînement et de test\n",
    "X1_train = np.array(X1_train).reshape(-1, 1)\n",
    "y1_train = np.array(y1_train).reshape(-1, 1)\n",
    "X1_test = np.array(X1_test).reshape(-1, 1)\n",
    "y1_test = np.array(y1_test).reshape(-1, 1)"
   ]
  },
  {
   "cell_type": "markdown",
   "metadata": {
    "id": "e98Y7kAirDuD"
   },
   "source": [
    "### Modèle de régression utilisant  les arbres de décision:"
   ]
  },
  {
   "cell_type": "code",
   "execution_count": null,
   "metadata": {
    "colab": {
     "base_uri": "https://localhost:8080/",
     "height": 75
    },
    "id": "VvbA82rB7EJ0",
    "outputId": "44860e88-300c-4b19-d528-c539d5795dd4"
   },
   "outputs": [],
   "source": [
    "#Importation de la librairie\n",
    "from sklearn.tree import DecisionTreeRegressor\n",
    "# Création du modèle Arbre de décision\n",
    "tree = DecisionTreeRegressor()\n",
    "# Apprentissage du modèle utilisant la base d'apprentissage\n",
    "tree.fit(X1_train,y1_train)"
   ]
  },
  {
   "cell_type": "markdown",
   "metadata": {
    "id": "idr3z4perX4J"
   },
   "source": [
    "### Modèle de régression utilisant  K-nearest neighbors (kNN):\n"
   ]
  },
  {
   "cell_type": "markdown",
   "metadata": {
    "id": "8eWpeOTp3VrS"
   },
   "source": [
    "**Le choix de la valeur de K est important et peut avoir un impact significatif sur les prédictions du modèle. C'est pourpour cela on va utiliser une méthode graphique pour décider du nombre optimal de voisins (K) à choisir.**"
   ]
  },
  {
   "cell_type": "code",
   "execution_count": null,
   "metadata": {
    "colab": {
     "base_uri": "https://localhost:8080/",
     "height": 75
    },
    "id": "ER15XKyEq2RO",
    "outputId": "31cc8b3c-0c48-4393-dc84-51bbbe714d57"
   },
   "outputs": [],
   "source": [
    "#Importation de la librairie\n",
    "from sklearn.neighbors import KNeighborsRegressor\n",
    "\n",
    "#Création du modèle KNN\n",
    "knn_5 = KNeighborsRegressor() # K=5 valeure par défaut\n",
    "# Apprentissage du modèle utilisant la base d'apprentissage\n",
    "knn_5.fit(X1_train,y1_train)"
   ]
  },
  {
   "cell_type": "code",
   "execution_count": null,
   "metadata": {
    "colab": {
     "base_uri": "https://localhost:8080/",
     "height": 564
    },
    "id": "d767Oo6J2mR0",
    "outputId": "09741a66-1af1-42e8-af4c-69f7a0b714ec"
   },
   "outputs": [],
   "source": [
    "#Créetion un dictionnaire vide pour stocker nos \"train & test accuracies\"\n",
    "train_accuracies = {}\n",
    "test_accuracies = {}\n",
    "\n",
    "# Création d'un tableau numpy contenant une plage de valeurs de k (nombre de k) :\n",
    "neighbors = np.arange(1, 26)\n",
    "#\n",
    "for neighbor in neighbors:\n",
    "   knn = KNeighborsRegressor(n_neighbors=neighbor)\n",
    "   knn.fit(X1_train, y1_train)\n",
    "   train_accuracies[neighbor] = knn.score(X1_train, y1_train)\n",
    "   test_accuracies[neighbor] = knn.score(X1_test, y1_test)\n",
    "\n",
    "# Representation graphique des résulatas:\n",
    "plt.figure(figsize = (12, 6))\n",
    "plt.title(\"knn: Variation du nombre de voisins\")\n",
    "plt.plot(neighbors, train_accuracies.values(), label = \"Training Accuracy\")\n",
    "plt.plot(neighbors, test_accuracies.values(), label = \"Testing Accuracy\")\n",
    "plt.legend()\n",
    "plt.xlabel(\"Nombre de voisins\")\n",
    "plt.ylabel(\"Accuracy\")\n",
    "plt.show()"
   ]
  },
  {
   "cell_type": "markdown",
   "metadata": {
    "id": "nM1wp7Hk485c"
   },
   "source": [
    "**En se basant sur la ligne orange qui représente \"testing accuracy\" on peut choisir soit K = 3 ou K = 5.**"
   ]
  },
  {
   "cell_type": "code",
   "execution_count": null,
   "metadata": {
    "colab": {
     "base_uri": "https://localhost:8080/",
     "height": 75
    },
    "id": "75sYAL3wrgp_",
    "outputId": "3cb5ec5b-2f38-4022-89d5-66c935c293cd"
   },
   "outputs": [],
   "source": [
    "#Importation de la librairie\n",
    "from sklearn.neighbors import KNeighborsRegressor\n",
    "\n",
    "#Création du modèle KNN\n",
    "knn_5 = KNeighborsRegressor() # K=5 valeure par défaut\n",
    "# Apprentissage du modèle utilisant la base d'apprentissage\n",
    "knn_5.fit(X1_train,y1_train)"
   ]
  },
  {
   "cell_type": "code",
   "execution_count": null,
   "metadata": {
    "colab": {
     "base_uri": "https://localhost:8080/"
    },
    "id": "wPkRoevKrjae",
    "outputId": "f994a9e5-e1e4-4a02-b59d-bc20daab4c8c"
   },
   "outputs": [],
   "source": [
    "#Affichages des hyperparameter du modèle KNN\n",
    "knn_5.get_params()"
   ]
  },
  {
   "cell_type": "code",
   "execution_count": null,
   "metadata": {
    "colab": {
     "base_uri": "https://localhost:8080/",
     "height": 75
    },
    "id": "C3SB6qBl5or1",
    "outputId": "9fbb7ec5-3bd3-42b3-d4d3-3fae6b5c430f"
   },
   "outputs": [],
   "source": [
    "# Création du modèle KNN avec K=3\n",
    "knn_3 = KNeighborsRegressor(n_neighbors=3)\n",
    "# Apprentissage du modèle utilisant la base d'apprentissage\n",
    "knn_3.fit(X1_train,y1_train)"
   ]
  },
  {
   "cell_type": "markdown",
   "metadata": {
    "id": "MuQzHgttroio"
   },
   "source": [
    "### Evaluation des modèles:"
   ]
  },
  {
   "cell_type": "code",
   "execution_count": null,
   "metadata": {
    "id": "L_rfboonk5Dg"
   },
   "outputs": [],
   "source": [
    "from sklearn.metrics import mean_squared_error\n",
    "from sklearn.metrics import mean_absolute_error"
   ]
  },
  {
   "cell_type": "markdown",
   "metadata": {
    "id": "KGjkUC7XsGC3"
   },
   "source": [
    "### Evaluation du modèle Arbre de décision:"
   ]
  },
  {
   "cell_type": "code",
   "execution_count": null,
   "metadata": {
    "id": "DB6p9QLb7EPp"
   },
   "outputs": [],
   "source": [
    "# Prédiction de y utilisant le modèle arbre de décision\n",
    "pred_tree= tree.predict(X1_test)"
   ]
  },
  {
   "cell_type": "code",
   "execution_count": null,
   "metadata": {
    "colab": {
     "base_uri": "https://localhost:8080/"
    },
    "id": "VIDkoc8D7Eat",
    "outputId": "e368cd08-cda2-465d-885d-3dff2b9cc8fc"
   },
   "outputs": [],
   "source": [
    "# Clacul de MAE, MSE, RMSE, R et R²\n",
    "mae_TREE = mean_absolute_error(y1_test, pred_tree)\n",
    "mse_TREE = mean_squared_error(y1_test, pred_tree)\n",
    "rmse_TREE= np.sqrt(mse_TREE)\n",
    "r2_score = tree.score(X1_test, y1_test)\n",
    "r_score = np.sqrt(r2_score)\n",
    "print (\"MAE Modèle TREE=\", mae_TREE)\n",
    "print (\"MSE Modèle TREE=\", mse_TREE)\n",
    "print(\"RMSE Modèle TREE=\" , rmse_TREE)\n",
    "print(\"R= \", r_score)\n",
    "print(\"R²= \", r2_score)"
   ]
  },
  {
   "cell_type": "markdown",
   "metadata": {
    "id": "6h5rYiV7sRJU"
   },
   "source": [
    "### Evaluation du modèle KNN:"
   ]
  },
  {
   "cell_type": "code",
   "execution_count": null,
   "metadata": {
    "id": "4LJxA5YOqnAU"
   },
   "outputs": [],
   "source": [
    "# Prédiction de y utilisant les modèles KNN (K=5 et K=3)\n",
    "pred_5 = knn_5.predict(X1_test)\n",
    "pred_3 = knn_3.predict(X1_test)"
   ]
  },
  {
   "cell_type": "code",
   "execution_count": null,
   "metadata": {
    "colab": {
     "base_uri": "https://localhost:8080/"
    },
    "id": "_VOBOBb0qnIH",
    "outputId": "68af9779-0227-4c37-9d63-c2369cd90f68"
   },
   "outputs": [],
   "source": [
    "# Clacul de MAE, MSE, RMSE, R et R² pour le modèle KNN (K = 5)\n",
    "mae_KNN_5 = mean_absolute_error(y1_test, pred_5)\n",
    "mse_KNN_5 = mean_squared_error(y1_test, pred_5)\n",
    "rmse_KNN_5 = np.sqrt(mse_KNN_5)\n",
    "r2_score = knn_5.score(X1_test, y1_test)\n",
    "r_score = np.sqrt(r2_score)\n",
    "print (\"MAE KNN (K=5)=\", mae_KNN_5)\n",
    "print (\"MSE KNN (K=5)=\", mse_KNN_5)\n",
    "print(\"RMSE KNN (K=5)=\" , rmse_KNN_5)\n",
    "print(\"R= \", r_score)\n",
    "print(\"R²= \", r2_score)"
   ]
  },
  {
   "cell_type": "code",
   "execution_count": null,
   "metadata": {
    "colab": {
     "base_uri": "https://localhost:8080/"
    },
    "id": "JLgcWClIqnWy",
    "outputId": "0f8115a3-de32-4a0c-b642-ee00ff277877"
   },
   "outputs": [],
   "source": [
    "# Clacul de MAE, MSE, RMSE, R et R² pour le modèle KNN (K = 3)\n",
    "mae_KNN_3 = mean_absolute_error(y1_test, pred_3)\n",
    "mse_KNN_3 = mean_squared_error(y1_test, pred_3)\n",
    "rmse_KNN_3 = np.sqrt(mse_KNN_3)\n",
    "r2_score = knn_3.score(X1_test, y1_test)\n",
    "r_score = np.sqrt(r2_score)\n",
    "print (\"MAE KNN (K=3)=\", mae_KNN_3)\n",
    "print (\"MSE KNN (K=3)=\", mse_KNN_3)\n",
    "print(\"RMSE KNN (K=3)=\" , rmse_KNN_3)\n",
    "print(\"R= \", r_score)\n",
    "print(\"R²= \", r2_score)"
   ]
  },
  {
   "cell_type": "markdown",
   "metadata": {
    "id": "SY9MXZjU6ll9"
   },
   "source": [
    "#### Conclusion :\n",
    "**En se basant sur les métriques d'évaluation des modèles KNN avec k = 5 et k = 3, on peut conclure que le modèle KNN avec k = 5 est meilleur que le modèle avec k = 3.**"
   ]
  },
  {
   "cell_type": "markdown",
   "metadata": {
    "id": "29lrAFFxrkhr"
   },
   "source": [
    "* **Maintenant, nous allons effectuer la même démarche pour les autres variables**"
   ]
  },
  {
   "cell_type": "code",
   "execution_count": null,
   "metadata": {
    "colab": {
     "base_uri": "https://localhost:8080/"
    },
    "id": "60dW9HumsDsN",
    "outputId": "af09c596-ca27-4111-e593-505492fff6dd"
   },
   "outputs": [],
   "source": [
    "df.columns"
   ]
  },
  {
   "cell_type": "code",
   "execution_count": null,
   "metadata": {
    "id": "Fb-07WoZrv1m"
   },
   "outputs": [],
   "source": [
    "#On commence par \"Ventes_p2\" et \"demande_P2\":\n",
    "X_2 = df['Demande_p2']\n",
    "y_2 = df['Ventes_ p2']"
   ]
  },
  {
   "cell_type": "markdown",
   "metadata": {
    "id": "zrP0LnFasoap"
   },
   "source": [
    "* **Diviser la base en un ensemble d'apprentissage et un ensemble de test (80 pour l'apprentissage et 20% pour le test)**"
   ]
  },
  {
   "cell_type": "code",
   "execution_count": null,
   "metadata": {
    "id": "1rLS58Exsqc7"
   },
   "outputs": [],
   "source": [
    "from sklearn import model_selection\n",
    "X2_train, X2_test, y2_train, y2_test = model_selection.train_test_split(X_2, y_2, test_size = 0.20, random_state = 42)"
   ]
  },
  {
   "cell_type": "code",
   "execution_count": null,
   "metadata": {
    "colab": {
     "base_uri": "https://localhost:8080/"
    },
    "id": "YSRSC-OatCpv",
    "outputId": "ff295306-2cdd-495c-c771-a6f96cc9065c"
   },
   "outputs": [],
   "source": [
    "# Verification après la division du base:\n",
    "X2_train.shape , y2_train.shape, X2_test.shape, y2_test.shape"
   ]
  },
  {
   "cell_type": "code",
   "execution_count": null,
   "metadata": {
    "id": "CPUeFB7HtF_Y"
   },
   "outputs": [],
   "source": [
    "#Remodelage des données d'entraînement et de test\n",
    "X2_train = np.array(X2_train).reshape(-1, 1)\n",
    "y2_train = np.array(y2_train).reshape(-1, 1)\n",
    "X2_test = np.array(X2_test).reshape(-1, 1)\n",
    "y2_test = np.array(y2_test).reshape(-1, 1)"
   ]
  },
  {
   "cell_type": "markdown",
   "metadata": {
    "id": "SM-jaX-ztjUd"
   },
   "source": [
    "### Modèle de régression utilisant  les arbres de décision:"
   ]
  },
  {
   "cell_type": "code",
   "execution_count": null,
   "metadata": {
    "colab": {
     "base_uri": "https://localhost:8080/",
     "height": 75
    },
    "id": "yxgARzletlAD",
    "outputId": "808ffbf5-1f16-4c08-ee36-9bbdb72d3629"
   },
   "outputs": [],
   "source": [
    "#Importation de la librairie\n",
    "from sklearn.tree import DecisionTreeRegressor\n",
    "# Création du modèle Arbre de décision\n",
    "tree = DecisionTreeRegressor()\n",
    "# Apprentissage du modèle utilisant la base d'apprentissage\n",
    "tree.fit(X2_train,y2_train)"
   ]
  },
  {
   "cell_type": "markdown",
   "metadata": {
    "id": "skl3Mio8t0qk"
   },
   "source": [
    "### Modèle de régression utilisant K-nearest neighbors (kNN):"
   ]
  },
  {
   "cell_type": "markdown",
   "metadata": {
    "id": "sc5Bbuggt3FI"
   },
   "source": [
    "D'après l'exemple précédent, nous avons constaté que le modèle KNN avec k = 5 est meilleur que le modèle avec k = 3. Par conséquent, dans cette étape, nous avons choisi le modèle en fixant k = 5."
   ]
  },
  {
   "cell_type": "code",
   "execution_count": null,
   "metadata": {
    "colab": {
     "base_uri": "https://localhost:8080/",
     "height": 75
    },
    "id": "5lG28meAt5zN",
    "outputId": "07e1bd45-dfef-4f21-9a85-ff6aa56153cd"
   },
   "outputs": [],
   "source": [
    "#Importation de la librairie\n",
    "from sklearn.neighbors import KNeighborsRegressor\n",
    "\n",
    "#Création du modèle KNN\n",
    "knn_2 = KNeighborsRegressor() # K=5 valeur par défaut\n",
    "# Apprentissage du modèle utilisant la base d'apprentissage\n",
    "knn_2.fit(X2_train,y2_train)"
   ]
  },
  {
   "cell_type": "code",
   "execution_count": null,
   "metadata": {
    "colab": {
     "base_uri": "https://localhost:8080/"
    },
    "id": "mIX221R3t-zc",
    "outputId": "9c8bc5a7-9ece-49d9-dbb2-6faa4e5fb471"
   },
   "outputs": [],
   "source": [
    "#Affichages des hyperparameter du modèle KNN\n",
    "knn_2.get_params()"
   ]
  },
  {
   "cell_type": "markdown",
   "metadata": {
    "id": "WknhOkqRuOG2"
   },
   "source": [
    "### Evaluation des modèles:"
   ]
  },
  {
   "cell_type": "code",
   "execution_count": null,
   "metadata": {
    "id": "K2BtVciUusGb"
   },
   "outputs": [],
   "source": [
    "from sklearn.metrics import mean_squared_error\n",
    "from sklearn.metrics import mean_absolute_error"
   ]
  },
  {
   "cell_type": "markdown",
   "metadata": {
    "id": "1h9K7B9uuu7V"
   },
   "source": [
    "* **Evaluation du modèle Arbre de décision:**"
   ]
  },
  {
   "cell_type": "code",
   "execution_count": null,
   "metadata": {
    "id": "OLT8_ZOeuw-6"
   },
   "outputs": [],
   "source": [
    "# Prédiction de y utilisant le modèle arbre de décision\n",
    "pred_tree= tree.predict(X2_test)"
   ]
  },
  {
   "cell_type": "code",
   "execution_count": null,
   "metadata": {
    "colab": {
     "base_uri": "https://localhost:8080/"
    },
    "id": "C3E2ELHqu0vR",
    "outputId": "3dbfe0bb-24f5-4cd8-ff30-c21d1b8ef951"
   },
   "outputs": [],
   "source": [
    "# Clacul de MAE, MSE, RMSE, R et R²\n",
    "mae_TREE = mean_absolute_error(y2_test, pred_tree)\n",
    "mse_TREE = mean_squared_error(y2_test, pred_tree)\n",
    "rmse_TREE= np.sqrt(mse_TREE)\n",
    "r2_score = tree.score(X2_test, y2_test)\n",
    "r_score = np.sqrt(r2_score)\n",
    "print (\"MAE Modèle TREE=\", mae_TREE)\n",
    "print (\"MSE Modèle TREE=\", mse_TREE)\n",
    "print(\"RMSE Modèle TREE=\" , rmse_TREE)\n",
    "print(\"R= \", r_score)\n",
    "print(\"R²= \", r2_score)"
   ]
  },
  {
   "cell_type": "markdown",
   "metadata": {
    "id": "XneN-6wBvJ5I"
   },
   "source": [
    "* **Evaluation du modèle KNN:**"
   ]
  },
  {
   "cell_type": "code",
   "execution_count": null,
   "metadata": {
    "id": "FMqFYaKuvLvC"
   },
   "outputs": [],
   "source": [
    "# Prédiction de y utilisant les modèles KNN (K=5 et K=3)\n",
    "pred_2 = knn_2.predict(X2_test)"
   ]
  },
  {
   "cell_type": "code",
   "execution_count": null,
   "metadata": {
    "colab": {
     "base_uri": "https://localhost:8080/"
    },
    "id": "sAFbP4hcvPou",
    "outputId": "8d13a7ea-8771-4516-b1fb-36d96bfa67da"
   },
   "outputs": [],
   "source": [
    "# Clacul de MAE, MSE, RMSE, R et R² pour le modèle KNN (K = 5)\n",
    "mae_KNN_5 = mean_absolute_error(y1_test, pred_5)\n",
    "mse_KNN_5 = mean_squared_error(y1_test, pred_5)\n",
    "rmse_KNN_5 = np.sqrt(mse_KNN_5)\n",
    "r2_score = knn_5.score(X1_test, y1_test)\n",
    "r_score = np.sqrt(r2_score)\n",
    "print (\"MAE KNN (K=5)=\", mae_KNN_5)\n",
    "print (\"MSE KNN (K=5)=\", mse_KNN_5)\n",
    "print(\"RMSE KNN (K=5)=\" , rmse_KNN_5)\n",
    "print(\"R= \", r_score)\n",
    "print(\"R²= \", r2_score)"
   ]
  },
  {
   "cell_type": "markdown",
   "metadata": {
    "id": "qHJdJhX3wTjb"
   },
   "source": []
  },
  {
   "cell_type": "markdown",
   "metadata": {
    "id": "QeZ_qgYZwVkD"
   },
   "source": [
    "**Alors maintenant, nous allons créer des modèles d'arbre de décision et de modèle KNN pour prédire les ventes du produit P3 en fonction de sa demande**."
   ]
  },
  {
   "cell_type": "code",
   "execution_count": null,
   "metadata": {
    "colab": {
     "base_uri": "https://localhost:8080/"
    },
    "id": "DB0jkvYL17jF",
    "outputId": "714294b3-8328-4b0f-9d1e-2d92ca33afb5"
   },
   "outputs": [],
   "source": [
    "df.columns"
   ]
  },
  {
   "cell_type": "code",
   "execution_count": null,
   "metadata": {
    "id": "AYu-q0_p1mSn"
   },
   "outputs": [],
   "source": [
    "#On commence par \"Ventes_p3\" et \"demande_P3\":\n",
    "X_3 = df['Demande_p3']\n",
    "y_3 = df['Ventes_p3']"
   ]
  },
  {
   "cell_type": "markdown",
   "metadata": {
    "id": "DH9z5oV__UN-"
   },
   "source": [
    "***Diviser la base en un ensemble d'apprentissage et un ensemble de test (80 pour l'apprentissage et 20% pour le test)***"
   ]
  },
  {
   "cell_type": "code",
   "execution_count": null,
   "metadata": {
    "id": "ciOzL-rv_YzG"
   },
   "outputs": [],
   "source": [
    "from sklearn import model_selection\n",
    "X3_train, X3_test, y3_train, y3_test = model_selection.train_test_split(X_3, y_3, test_size = 0.20, random_state = 42)"
   ]
  },
  {
   "cell_type": "code",
   "execution_count": null,
   "metadata": {
    "colab": {
     "base_uri": "https://localhost:8080/"
    },
    "id": "1Q9M04L6_t3t",
    "outputId": "8e5a7fb6-30d0-4046-d18f-303aa8a2e0e6"
   },
   "outputs": [],
   "source": [
    "# Verification après la division du base:\n",
    "X3_train.shape , y3_train.shape, X3_test.shape, y3_test.shape"
   ]
  },
  {
   "cell_type": "code",
   "execution_count": null,
   "metadata": {
    "id": "xyavFILT_8Qo"
   },
   "outputs": [],
   "source": [
    "#Remodelage des données d'entraînement et de test\n",
    "X3_train = np.array(X3_train).reshape(-1, 1)\n",
    "y3_train = np.array(y3_train).reshape(-1, 1)\n",
    "X3_test = np.array(X3_test).reshape(-1, 1)\n",
    "y3_test = np.array(y3_test).reshape(-1, 1)"
   ]
  },
  {
   "cell_type": "markdown",
   "metadata": {
    "id": "SB39xc1wATxJ"
   },
   "source": [
    "### Modèle de régression utilisant  les arbres de décision:"
   ]
  },
  {
   "cell_type": "code",
   "execution_count": null,
   "metadata": {
    "colab": {
     "base_uri": "https://localhost:8080/",
     "height": 75
    },
    "id": "93_c5Y5hAZ6n",
    "outputId": "179eb66e-00cf-40e8-90a1-9dd9c8ec3f0f"
   },
   "outputs": [],
   "source": [
    "#Importation de la librairie\n",
    "from sklearn.tree import DecisionTreeRegressor\n",
    "# Création du modèle Arbre de décision\n",
    "tree = DecisionTreeRegressor()\n",
    "# Apprentissage du modèle utilisant la base d'apprentissage\n",
    "tree.fit(X3_train,y3_train)"
   ]
  },
  {
   "cell_type": "markdown",
   "metadata": {
    "id": "CFCIyhH7A8T0"
   },
   "source": [
    "### Modèle de régression utilisant K-nearest neighbors (kNN):"
   ]
  },
  {
   "cell_type": "markdown",
   "metadata": {
    "id": "CsmaJ1HdBPk3"
   },
   "source": [
    "*D'après l'exemple précédent, nous avons constaté que le modèle KNN avec k = 5 est meilleur que le modèle avec k = 3. Par conséquent, dans cette étape, nous avons choisi le modèle en fixant k = 5.*"
   ]
  },
  {
   "cell_type": "code",
   "execution_count": null,
   "metadata": {
    "colab": {
     "base_uri": "https://localhost:8080/",
     "height": 75
    },
    "id": "dRKRu0QjBXNO",
    "outputId": "f4f41d8a-b9b3-4f20-fa8d-75a8398aa23f"
   },
   "outputs": [],
   "source": [
    "#Importation de la librairie\n",
    "from sklearn.neighbors import KNeighborsRegressor\n",
    "\n",
    "#Création du modèle KNN\n",
    "knn_3 = KNeighborsRegressor() # K=5 valeur par défaut\n",
    "# Apprentissage du modèle utilisant la base d'apprentissage\n",
    "knn_3.fit(X3_train,y3_train)"
   ]
  },
  {
   "cell_type": "code",
   "execution_count": null,
   "metadata": {
    "id": "A0kxjLwsBlaF"
   },
   "outputs": [],
   "source": [
    "#Affichages des hyperparameter du modèle KNN\n",
    "knn_3.get_params()"
   ]
  },
  {
   "cell_type": "markdown",
   "metadata": {
    "id": "157RFlHDB1Z0"
   },
   "source": [
    "### Evaluation des modèles:"
   ]
  },
  {
   "cell_type": "code",
   "execution_count": null,
   "metadata": {
    "id": "U_uW9JrgClDz"
   },
   "outputs": [],
   "source": [
    "from sklearn.metrics import mean_squared_error\n",
    "from sklearn.metrics import mean_absolute_error"
   ]
  },
  {
   "cell_type": "markdown",
   "metadata": {
    "id": "R7RBAN7gCuj-"
   },
   "source": [
    "* **Evaluation du modèle Arbre de décision:**"
   ]
  },
  {
   "cell_type": "code",
   "execution_count": null,
   "metadata": {
    "id": "EN4of_rbCskX"
   },
   "outputs": [],
   "source": [
    "# Prédiction de y utilisant le modèle arbre de décision\n",
    "pred_tree= tree.predict(X3_test)"
   ]
  },
  {
   "cell_type": "code",
   "execution_count": null,
   "metadata": {
    "colab": {
     "base_uri": "https://localhost:8080/"
    },
    "id": "_08GWdv1C5dG",
    "outputId": "75b046fb-8a46-42d1-8ded-2376bd121c24"
   },
   "outputs": [],
   "source": [
    "# Clacul de MAE, MSE, RMSE, R et R²\n",
    "mae_TREE = mean_absolute_error(y3_test, pred_tree)\n",
    "mse_TREE = mean_squared_error(y3_test, pred_tree)\n",
    "rmse_TREE= np.sqrt(mse_TREE)\n",
    "r2_score = tree.score(X3_test, y3_test)\n",
    "r_score = np.sqrt(r2_score)\n",
    "print (\"MAE Modèle TREE=\", mae_TREE)\n",
    "print (\"MSE Modèle TREE=\", mse_TREE)\n",
    "print(\"RMSE Modèle TREE=\" , rmse_TREE)\n",
    "print(\"R= \", r_score)\n",
    "print(\"R²= \", r2_score)"
   ]
  },
  {
   "cell_type": "markdown",
   "metadata": {
    "id": "3Ck6hVYIDKbM"
   },
   "source": [
    "* **Evaluation du modèle KNN:**"
   ]
  },
  {
   "cell_type": "code",
   "execution_count": null,
   "metadata": {
    "id": "X6SwL_v6BvD7"
   },
   "outputs": [],
   "source": [
    "# Prédiction de y utilisant les modèles KNN (K=5 et K=3)\n",
    "pred_3 = knn_3.predict(X3_test)"
   ]
  },
  {
   "cell_type": "code",
   "execution_count": null,
   "metadata": {
    "colab": {
     "base_uri": "https://localhost:8080/"
    },
    "id": "wLKU7HyyCefp",
    "outputId": "c71aa43b-9729-4059-ea47-65fcd1a9185d"
   },
   "outputs": [],
   "source": [
    "# Clacul de MAE, MSE, RMSE, R et R² pour le modèle KNN (K = 5)\n",
    "mae_KNN_5 = mean_absolute_error(y3_test, pred_5)\n",
    "mse_KNN_5 = mean_squared_error(y3_test, pred_5)\n",
    "rmse_KNN_5 = np.sqrt(mse_KNN_5)\n",
    "r2_score = knn_5.score(X3_test, y3_test)\n",
    "r_score = np.sqrt(r2_score)\n",
    "print (\"MAE KNN (K=5)=\", mae_KNN_5)\n",
    "print (\"MSE KNN (K=5)=\", mse_KNN_5)\n",
    "print(\"RMSE KNN (K=5)=\" , rmse_KNN_5)\n",
    "print(\"R= \", r_score)\n",
    "print(\"R²= \", r2_score)"
   ]
  },
  {
   "cell_type": "markdown",
   "metadata": {
    "id": "7Cm15bEFKoq3"
   },
   "source": [
    " **Maintenant, nous allons effectuer la même démarche pour créer des modèles d'arbre de décision et de modèle KNN afin de prévoir les ventes du produit P4 en se basant sur sa demande.**"
   ]
  },
  {
   "cell_type": "code",
   "execution_count": null,
   "metadata": {
    "id": "mmwVIPaYNRU3"
   },
   "outputs": [],
   "source": [
    "#On commence par \"Ventes_p3\" et \"demande_P3\":\n",
    "X_4 = df['Demande_ p4']\n",
    "y_4 = df['Ventes_p4']"
   ]
  },
  {
   "cell_type": "markdown",
   "metadata": {
    "id": "gq5upyZHP6yX"
   },
   "source": [
    "* **Diviser la base en un ensemble d'apprentissage et un ensemble de test (80 pour l'apprentissage et 20% pour le test)**"
   ]
  },
  {
   "cell_type": "code",
   "execution_count": null,
   "metadata": {
    "id": "qU96PqfBMfg5"
   },
   "outputs": [],
   "source": [
    "from sklearn import model_selection\n",
    "X4_train, X4_test, y4_train, y4_test = model_selection.train_test_split(X_4, y_4, test_size = 0.20, random_state = 42)"
   ]
  },
  {
   "cell_type": "code",
   "execution_count": null,
   "metadata": {
    "colab": {
     "base_uri": "https://localhost:8080/"
    },
    "id": "y2ej31H2QdiK",
    "outputId": "92cef9e1-3f87-42cc-8271-b92550bf1797"
   },
   "outputs": [],
   "source": [
    "# Verification après la division du base:\n",
    "X4_train.shape , y4_train.shape, X4_test.shape, y4_test.shape"
   ]
  },
  {
   "cell_type": "code",
   "execution_count": null,
   "metadata": {
    "id": "6gS0dMr9QwYq"
   },
   "outputs": [],
   "source": [
    "#Remodelage des données d'entraînement et de test\n",
    "X4_train = np.array(X4_train).reshape(-1, 1)\n",
    "y4_train = np.array(y4_train).reshape(-1, 1)\n",
    "X4_test = np.array(X4_test).reshape(-1, 1)\n",
    "y4_test = np.array(y4_test).reshape(-1, 1)"
   ]
  },
  {
   "cell_type": "markdown",
   "metadata": {
    "id": "oPM49b6hRK59"
   },
   "source": [
    "### Modèle de régression utilisant  les arbres de décision:"
   ]
  },
  {
   "cell_type": "code",
   "execution_count": null,
   "metadata": {
    "colab": {
     "base_uri": "https://localhost:8080/",
     "height": 75
    },
    "id": "5wz2-UQuRMX-",
    "outputId": "38982410-9e7b-4f3b-d0c2-38cd8aff3c08"
   },
   "outputs": [],
   "source": [
    "#Importation de la librairie\n",
    "from sklearn.tree import DecisionTreeRegressor\n",
    "# Création du modèle Arbre de décision\n",
    "tree = DecisionTreeRegressor()\n",
    "# Apprentissage du modèle utilisant la base d'apprentissage\n",
    "tree.fit(X4_train,y4_train)"
   ]
  },
  {
   "cell_type": "markdown",
   "metadata": {
    "id": "exK6ExCtRftZ"
   },
   "source": [
    "### Modèle de régression utilisant  K-nearest neighbors (kNN):"
   ]
  },
  {
   "cell_type": "markdown",
   "metadata": {
    "id": "QuFbrd5nRhJ0"
   },
   "source": [
    "D'après l'exemple précédent, nous avons constaté que le modèle KNN avec k = 5 est meilleur que le modèle avec k = 3. Par conséquent, dans cette étape, nous avons choisi le modèle en fixant k = 5."
   ]
  },
  {
   "cell_type": "code",
   "execution_count": null,
   "metadata": {
    "colab": {
     "base_uri": "https://localhost:8080/",
     "height": 75
    },
    "id": "5Qf7bOYtR4bV",
    "outputId": "85efe37f-7737-4ffe-dfaf-a6cdb8c4d14f"
   },
   "outputs": [],
   "source": [
    "#Importation de la librairie\n",
    "from sklearn.neighbors import KNeighborsRegressor\n",
    "\n",
    "#Création du modèle KNN\n",
    "knn_5 = KNeighborsRegressor() # K=5 valeur par défaut\n",
    "# Apprentissage du modèle utilisant la base d'apprentissage\n",
    "knn_5.fit(X4_train,y4_train)"
   ]
  },
  {
   "cell_type": "code",
   "execution_count": null,
   "metadata": {
    "colab": {
     "base_uri": "https://localhost:8080/"
    },
    "id": "zbSGvYM3SP_O",
    "outputId": "f22499c2-96ca-4ad0-9d94-f8d4fe83ca74"
   },
   "outputs": [],
   "source": [
    "#Affichages des hyperparameter du modèle KNN\n",
    "knn_5.get_params()"
   ]
  },
  {
   "cell_type": "markdown",
   "metadata": {
    "id": "TlFA2iZBSizh"
   },
   "source": [
    "### Evaluation des modèles:"
   ]
  },
  {
   "cell_type": "code",
   "execution_count": null,
   "metadata": {
    "id": "PrMMGUJaSnXL"
   },
   "outputs": [],
   "source": [
    "from sklearn.metrics import mean_squared_error\n",
    "from sklearn.metrics import mean_absolute_error"
   ]
  },
  {
   "cell_type": "markdown",
   "metadata": {
    "id": "aNJJCz69SqCM"
   },
   "source": [
    "* **Evaluation du modèle Arbre de décision:**"
   ]
  },
  {
   "cell_type": "code",
   "execution_count": null,
   "metadata": {
    "id": "ZwjgbFjGSsHl"
   },
   "outputs": [],
   "source": [
    "# Prédiction de y utilisant le modèle arbre de décision\n",
    "pred_tree= tree.predict(X4_test)"
   ]
  },
  {
   "cell_type": "code",
   "execution_count": null,
   "metadata": {
    "colab": {
     "base_uri": "https://localhost:8080/"
    },
    "id": "iOG5m_uhSzt0",
    "outputId": "abfa731f-fde3-4dc9-c4fd-5069243a216f"
   },
   "outputs": [],
   "source": [
    "# Clacul de MAE, MSE, RMSE, R et R²\n",
    "mae_TREE = mean_absolute_error(y4_test, pred_tree)\n",
    "mse_TREE = mean_squared_error(y4_test, pred_tree)\n",
    "rmse_TREE= np.sqrt(mse_TREE)\n",
    "r2_score = tree.score(X4_test, y4_test)\n",
    "r_score = np.sqrt(r2_score)\n",
    "print (\"MAE Modèle TREE=\", mae_TREE)\n",
    "print (\"MSE Modèle TREE=\", mse_TREE)\n",
    "print(\"RMSE Modèle TREE=\" , rmse_TREE)\n",
    "print(\"R= \", r_score)\n",
    "print(\"R²= \", r2_score)"
   ]
  },
  {
   "cell_type": "markdown",
   "metadata": {
    "id": "p0TUgWxZTG41"
   },
   "source": [
    "* **Evaluation du modèle KNN:**"
   ]
  },
  {
   "cell_type": "code",
   "execution_count": null,
   "metadata": {
    "id": "XM9vSzoaTJE2"
   },
   "outputs": [],
   "source": [
    "# Prédiction de y utilisant les modèles KNN (K=5 et K=3)\n",
    "pred_5 = knn_5.predict(X4_test)"
   ]
  },
  {
   "cell_type": "code",
   "execution_count": null,
   "metadata": {
    "colab": {
     "base_uri": "https://localhost:8080/"
    },
    "id": "okuUtJIoTMdO",
    "outputId": "b68b0cc1-88eb-44bb-f175-339bdc41c6be",
    "tags": []
   },
   "outputs": [],
   "source": [
    "# Clacul de MAE, MSE, RMSE, R et R² pour le modèle KNN (K = 5)\n",
    "mae_KNN_5 = mean_absolute_error(y4_test, pred_5)\n",
    "mse_KNN_5 = mean_squared_error(y4_test, pred_5)\n",
    "rmse_KNN_5 = np.sqrt(mse_KNN_5)\n",
    "r2_score = knn_5.score(X4_test, y4_test)\n",
    "r_score = np.sqrt(r2_score)\n",
    "print (\"MAE KNN (K=5)=\", mae_KNN_5)\n",
    "print (\"MSE KNN (K=5)=\", mse_KNN_5)\n",
    "print(\"RMSE KNN (K=5)=\" , rmse_KNN_5)\n",
    "print(\"R= \", r_score)\n",
    "print(\"R²= \", r2_score)"
   ]
  }
 ],
 "metadata": {
  "colab": {
   "provenance": []
  },
  "kernelspec": {
   "display_name": "Python 3 (ipykernel)",
   "language": "python",
   "name": "python3"
  },
  "language_info": {
   "codemirror_mode": {
    "name": "ipython",
    "version": 3
   },
   "file_extension": ".py",
   "mimetype": "text/x-python",
   "name": "python",
   "nbconvert_exporter": "python",
   "pygments_lexer": "ipython3",
   "version": "3.10.6"
  }
 },
 "nbformat": 4,
 "nbformat_minor": 4
}
