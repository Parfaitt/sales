{
 "cells": [
  {
   "cell_type": "markdown",
   "metadata": {
    "id": "Wo58CCQb4s4E"
   },
   "source": [
    "# Importer les librairies"
   ]
  },
  {
   "cell_type": "markdown",
   "metadata": {
    "id": "NkejdlRbMihr"
   },
   "source": [
    "## Librairies pour importer, structurer explorer les données"
   ]
  },
  {
   "cell_type": "code",
   "execution_count": 86,
   "metadata": {
    "id": "wPtWgZ1dIHzf"
   },
   "outputs": [],
   "source": [
    "import pandas as pd\n",
    "import numpy as np\n",
    "import matplotlib.pyplot as plt\n",
    "import seaborn as sns\n",
    "\n",
    "# Ignorer les méssages d'avertissements\n",
    "import warnings\n",
    "warnings.filterwarnings('ignore')\n",
    "\n",
    "%matplotlib inline"
   ]
  },
  {
   "cell_type": "markdown",
   "metadata": {
    "id": "oA7tFeS5IkM5"
   },
   "source": [
    "### Importation des données:"
   ]
  },
  {
   "cell_type": "code",
   "execution_count": 87,
   "metadata": {
    "colab": {
     "base_uri": "https://localhost:8080/",
     "height": 206
    },
    "id": "eir8IPm9IiqP",
    "outputId": "f583f913-9869-4e7b-a2e1-d44a2fcd0488"
   },
   "outputs": [
    {
     "data": {
      "text/html": [
       "<div>\n",
       "<style scoped>\n",
       "    .dataframe tbody tr th:only-of-type {\n",
       "        vertical-align: middle;\n",
       "    }\n",
       "\n",
       "    .dataframe tbody tr th {\n",
       "        vertical-align: top;\n",
       "    }\n",
       "\n",
       "    .dataframe thead th {\n",
       "        text-align: right;\n",
       "    }\n",
       "</style>\n",
       "<table border=\"1\" class=\"dataframe\">\n",
       "  <thead>\n",
       "    <tr style=\"text-align: right;\">\n",
       "      <th></th>\n",
       "      <th>ID</th>\n",
       "      <th>Date</th>\n",
       "      <th>Ventes_ p1</th>\n",
       "      <th>Demande_P1</th>\n",
       "      <th>Ventes_ p2</th>\n",
       "      <th>Demande_p2</th>\n",
       "      <th>Ventes_p3</th>\n",
       "      <th>Demande_p3</th>\n",
       "      <th>Ventes_p4</th>\n",
       "      <th>Demande_ p4</th>\n",
       "    </tr>\n",
       "  </thead>\n",
       "  <tbody>\n",
       "    <tr>\n",
       "      <th>0</th>\n",
       "      <td>1</td>\n",
       "      <td>2020-01-01</td>\n",
       "      <td>549.68</td>\n",
       "      <td>603.410313</td>\n",
       "      <td>711.68</td>\n",
       "      <td>603.613968</td>\n",
       "      <td>479.5</td>\n",
       "      <td>576.976831</td>\n",
       "      <td>299.5</td>\n",
       "      <td>152.245833</td>\n",
       "    </tr>\n",
       "    <tr>\n",
       "      <th>1</th>\n",
       "      <td>2</td>\n",
       "      <td>2020-01-02</td>\n",
       "      <td>635.40</td>\n",
       "      <td>697.509302</td>\n",
       "      <td>1047.44</td>\n",
       "      <td>888.390028</td>\n",
       "      <td>872.0</td>\n",
       "      <td>1049.267564</td>\n",
       "      <td>161.0</td>\n",
       "      <td>81.841667</td>\n",
       "    </tr>\n",
       "    <tr>\n",
       "      <th>2</th>\n",
       "      <td>3</td>\n",
       "      <td>2020-01-03</td>\n",
       "      <td>524.52</td>\n",
       "      <td>575.790965</td>\n",
       "      <td>1042.44</td>\n",
       "      <td>884.149260</td>\n",
       "      <td>883.0</td>\n",
       "      <td>1062.503737</td>\n",
       "      <td>260.5</td>\n",
       "      <td>132.420833</td>\n",
       "    </tr>\n",
       "    <tr>\n",
       "      <th>3</th>\n",
       "      <td>4</td>\n",
       "      <td>2020-01-04</td>\n",
       "      <td>550.84</td>\n",
       "      <td>604.683701</td>\n",
       "      <td>1190.78</td>\n",
       "      <td>1009.964368</td>\n",
       "      <td>829.0</td>\n",
       "      <td>997.526158</td>\n",
       "      <td>150.0</td>\n",
       "      <td>76.250000</td>\n",
       "    </tr>\n",
       "    <tr>\n",
       "      <th>4</th>\n",
       "      <td>5</td>\n",
       "      <td>2020-01-05</td>\n",
       "      <td>55.14</td>\n",
       "      <td>60.529844</td>\n",
       "      <td>27.34</td>\n",
       "      <td>23.188520</td>\n",
       "      <td>28.0</td>\n",
       "      <td>33.692078</td>\n",
       "      <td>0.0</td>\n",
       "      <td>0.000000</td>\n",
       "    </tr>\n",
       "  </tbody>\n",
       "</table>\n",
       "</div>"
      ],
      "text/plain": [
       "   ID       Date  Ventes_ p1   Demande_P1  Ventes_ p2   Demande_p2  Ventes_p3  \\\n",
       "0   1 2020-01-01       549.68  603.410313      711.68   603.613968      479.5   \n",
       "1   2 2020-01-02       635.40  697.509302     1047.44   888.390028      872.0   \n",
       "2   3 2020-01-03       524.52  575.790965     1042.44   884.149260      883.0   \n",
       "3   4 2020-01-04       550.84  604.683701     1190.78  1009.964368      829.0   \n",
       "4   5 2020-01-05        55.14   60.529844       27.34    23.188520       28.0   \n",
       "\n",
       "    Demande_p3  Ventes_p4  Demande_ p4  \n",
       "0   576.976831      299.5   152.245833  \n",
       "1  1049.267564      161.0    81.841667  \n",
       "2  1062.503737      260.5   132.420833  \n",
       "3   997.526158      150.0    76.250000  \n",
       "4    33.692078        0.0     0.000000  "
      ]
     },
     "execution_count": 87,
     "metadata": {},
     "output_type": "execute_result"
    }
   ],
   "source": [
    "df = pd.read_excel(\"mostapha_pfe_1.xlsx\")\n",
    "# Let's take a look at the top of the dataset:\n",
    "df.head()"
   ]
  },
  {
   "cell_type": "markdown",
   "metadata": {
    "id": "tmxuwF2gKqHY"
   },
   "source": [
    "## **Exploration et préparation des données:**"
   ]
  },
  {
   "cell_type": "code",
   "execution_count": 88,
   "metadata": {
    "colab": {
     "base_uri": "https://localhost:8080/"
    },
    "id": "UblDv38tLHho",
    "outputId": "638f0e74-4111-4432-da48-471ebbab8241"
   },
   "outputs": [
    {
     "name": "stdout",
     "output_type": "stream",
     "text": [
      "<class 'pandas.core.frame.DataFrame'>\n",
      "RangeIndex: 1186 entries, 0 to 1185\n",
      "Data columns (total 10 columns):\n",
      " #   Column       Non-Null Count  Dtype         \n",
      "---  ------       --------------  -----         \n",
      " 0   ID           1186 non-null   int64         \n",
      " 1   Date         1186 non-null   datetime64[ns]\n",
      " 2   Ventes_ p1   1186 non-null   float64       \n",
      " 3   Demande_P1   1186 non-null   float64       \n",
      " 4   Ventes_ p2   1186 non-null   float64       \n",
      " 5   Demande_p2   1186 non-null   float64       \n",
      " 6   Ventes_p3    1185 non-null   float64       \n",
      " 7   Demande_p3   1186 non-null   float64       \n",
      " 8   Ventes_p4    1186 non-null   float64       \n",
      " 9   Demande_ p4  1186 non-null   float64       \n",
      "dtypes: datetime64[ns](1), float64(8), int64(1)\n",
      "memory usage: 92.8 KB\n"
     ]
    }
   ],
   "source": [
    "# Pour voir les informations concernant toutes les colonnes, y compris le nombre de valeurs manquantes pour chacune:\n",
    "df.info()"
   ]
  },
  {
   "cell_type": "code",
   "execution_count": 89,
   "metadata": {
    "colab": {
     "base_uri": "https://localhost:8080/",
     "height": 344
    },
    "id": "wb6ufzlLLN7y",
    "outputId": "eae8e738-9518-4ef9-e2e8-9817c708179a"
   },
   "outputs": [
    {
     "data": {
      "text/html": [
       "<div>\n",
       "<style scoped>\n",
       "    .dataframe tbody tr th:only-of-type {\n",
       "        vertical-align: middle;\n",
       "    }\n",
       "\n",
       "    .dataframe tbody tr th {\n",
       "        vertical-align: top;\n",
       "    }\n",
       "\n",
       "    .dataframe thead th {\n",
       "        text-align: right;\n",
       "    }\n",
       "</style>\n",
       "<table border=\"1\" class=\"dataframe\">\n",
       "  <thead>\n",
       "    <tr style=\"text-align: right;\">\n",
       "      <th></th>\n",
       "      <th>ID</th>\n",
       "      <th>Ventes_ p1</th>\n",
       "      <th>Demande_P1</th>\n",
       "      <th>Ventes_ p2</th>\n",
       "      <th>Demande_p2</th>\n",
       "      <th>Ventes_p3</th>\n",
       "      <th>Demande_p3</th>\n",
       "      <th>Ventes_p4</th>\n",
       "      <th>Demande_ p4</th>\n",
       "    </tr>\n",
       "  </thead>\n",
       "  <tbody>\n",
       "    <tr>\n",
       "      <th>count</th>\n",
       "      <td>1186.000000</td>\n",
       "      <td>1186.000000</td>\n",
       "      <td>1186.000000</td>\n",
       "      <td>1186.000000</td>\n",
       "      <td>1186.000000</td>\n",
       "      <td>1185.000000</td>\n",
       "      <td>1186.000000</td>\n",
       "      <td>1186.000000</td>\n",
       "      <td>1186.000000</td>\n",
       "    </tr>\n",
       "    <tr>\n",
       "      <th>mean</th>\n",
       "      <td>593.500000</td>\n",
       "      <td>485.340350</td>\n",
       "      <td>525.959619</td>\n",
       "      <td>907.736962</td>\n",
       "      <td>824.603483</td>\n",
       "      <td>742.071772</td>\n",
       "      <td>905.276420</td>\n",
       "      <td>208.508853</td>\n",
       "      <td>110.339994</td>\n",
       "    </tr>\n",
       "    <tr>\n",
       "      <th>std</th>\n",
       "      <td>342.513017</td>\n",
       "      <td>269.061023</td>\n",
       "      <td>285.361895</td>\n",
       "      <td>569.350035</td>\n",
       "      <td>528.044264</td>\n",
       "      <td>410.552585</td>\n",
       "      <td>488.124034</td>\n",
       "      <td>115.757562</td>\n",
       "      <td>78.269873</td>\n",
       "    </tr>\n",
       "    <tr>\n",
       "      <th>min</th>\n",
       "      <td>1.000000</td>\n",
       "      <td>0.000000</td>\n",
       "      <td>0.000000</td>\n",
       "      <td>0.000000</td>\n",
       "      <td>0.000000</td>\n",
       "      <td>0.000000</td>\n",
       "      <td>0.000000</td>\n",
       "      <td>0.000000</td>\n",
       "      <td>0.000000</td>\n",
       "    </tr>\n",
       "    <tr>\n",
       "      <th>25%</th>\n",
       "      <td>297.250000</td>\n",
       "      <td>333.545000</td>\n",
       "      <td>367.213289</td>\n",
       "      <td>361.045000</td>\n",
       "      <td>307.167315</td>\n",
       "      <td>490.500000</td>\n",
       "      <td>641.653587</td>\n",
       "      <td>140.625000</td>\n",
       "      <td>51.850000</td>\n",
       "    </tr>\n",
       "    <tr>\n",
       "      <th>50%</th>\n",
       "      <td>593.500000</td>\n",
       "      <td>547.720000</td>\n",
       "      <td>606.357192</td>\n",
       "      <td>1023.820000</td>\n",
       "      <td>908.754196</td>\n",
       "      <td>729.500000</td>\n",
       "      <td>890.216741</td>\n",
       "      <td>224.750000</td>\n",
       "      <td>116.916667</td>\n",
       "    </tr>\n",
       "    <tr>\n",
       "      <th>75%</th>\n",
       "      <td>889.750000</td>\n",
       "      <td>689.505000</td>\n",
       "      <td>728.685355</td>\n",
       "      <td>1318.260000</td>\n",
       "      <td>1206.000000</td>\n",
       "      <td>1053.500000</td>\n",
       "      <td>1267.514013</td>\n",
       "      <td>289.000000</td>\n",
       "      <td>155.740625</td>\n",
       "    </tr>\n",
       "    <tr>\n",
       "      <th>max</th>\n",
       "      <td>1186.000000</td>\n",
       "      <td>1251.500000</td>\n",
       "      <td>1295.496738</td>\n",
       "      <td>2231.060000</td>\n",
       "      <td>1892.281616</td>\n",
       "      <td>1738.500000</td>\n",
       "      <td>2091.917040</td>\n",
       "      <td>558.500000</td>\n",
       "      <td>359.000000</td>\n",
       "    </tr>\n",
       "  </tbody>\n",
       "</table>\n",
       "</div>"
      ],
      "text/plain": [
       "                ID  Ventes_ p1    Demande_P1   Ventes_ p2   Demande_p2  \\\n",
       "count  1186.000000  1186.000000  1186.000000  1186.000000  1186.000000   \n",
       "mean    593.500000   485.340350   525.959619   907.736962   824.603483   \n",
       "std     342.513017   269.061023   285.361895   569.350035   528.044264   \n",
       "min       1.000000     0.000000     0.000000     0.000000     0.000000   \n",
       "25%     297.250000   333.545000   367.213289   361.045000   307.167315   \n",
       "50%     593.500000   547.720000   606.357192  1023.820000   908.754196   \n",
       "75%     889.750000   689.505000   728.685355  1318.260000  1206.000000   \n",
       "max    1186.000000  1251.500000  1295.496738  2231.060000  1892.281616   \n",
       "\n",
       "         Ventes_p3   Demande_p3    Ventes_p4  Demande_ p4  \n",
       "count  1185.000000  1186.000000  1186.000000  1186.000000  \n",
       "mean    742.071772   905.276420   208.508853   110.339994  \n",
       "std     410.552585   488.124034   115.757562    78.269873  \n",
       "min       0.000000     0.000000     0.000000     0.000000  \n",
       "25%     490.500000   641.653587   140.625000    51.850000  \n",
       "50%     729.500000   890.216741   224.750000   116.916667  \n",
       "75%    1053.500000  1267.514013   289.000000   155.740625  \n",
       "max    1738.500000  2091.917040   558.500000   359.000000  "
      ]
     },
     "execution_count": 89,
     "metadata": {},
     "output_type": "execute_result"
    }
   ],
   "source": [
    "# Des statistiques descriptives pour les valeurs numériques :\n",
    "df.describe()"
   ]
  },
  {
   "cell_type": "markdown",
   "metadata": {
    "id": "pL4SSMZaV04G"
   },
   "source": [
    "* **La distribution des ventes:**"
   ]
  },
  {
   "cell_type": "code",
   "execution_count": 90,
   "metadata": {
    "colab": {
     "base_uri": "https://localhost:8080/",
     "height": 760
    },
    "id": "nNaiMNZwLi07",
    "outputId": "afe5d4f8-5454-4ab9-d836-7ebe143b1d66"
   },
   "outputs": [
    {
     "data": {
      "text/plain": [
       "<Axes: xlabel='Ventes_p4', ylabel='Count'>"
      ]
     },
     "execution_count": 90,
     "metadata": {},
     "output_type": "execute_result"
    },
    {
     "data": {
      "image/png": "[encoded data removed]",
      "text/plain": [
       "<Figure size 1300x1000 with 4 Axes>"
      ]
     },
     "metadata": {},
     "output_type": "display_data"
    }
   ],
   "source": [
    "fig, axarr  = plt.subplots(2,2,figsize=(13,10))\n",
    "sns.histplot(x='Ventes_ p1 ', data=df, ax=axarr[0,0])\n",
    "sns.histplot(x='Ventes_ p2', data=df, ax=axarr[0,1])\n",
    "sns.histplot(x='Ventes_p3', data=df, ax=axarr[1,0])\n",
    "sns.histplot(x='Ventes_p4', data=df, ax=axarr[1,1])"
   ]
  },
  {
   "cell_type": "markdown",
   "metadata": {
    "id": "B2qZ7PMCWBvZ"
   },
   "source": [
    "*   **La destribution de la demende:**"
   ]
  },
  {
   "cell_type": "code",
   "execution_count": 91,
   "metadata": {
    "colab": {
     "base_uri": "https://localhost:8080/",
     "height": 760
    },
    "id": "-CABbC27TvKB",
    "outputId": "c2cb79f4-53d0-4b58-a82d-6b7205217481"
   },
   "outputs": [
    {
     "data": {
      "text/plain": [
       "<Axes: xlabel='Demande_ p4', ylabel='Count'>"
      ]
     },
     "execution_count": 91,
     "metadata": {},
     "output_type": "execute_result"
    },
    {
     "data": {
      "image/png": "[encoded data removed]",
      "text/plain": [
       "<Figure size 1300x1000 with 4 Axes>"
      ]
     },
     "metadata": {},
     "output_type": "display_data"
    }
   ],
   "source": [
    "fig, axarr  = plt.subplots(2,2,figsize=(13,10))\n",
    "sns.histplot(x='Demande_P1', data=df, ax=axarr[0,0])\n",
    "sns.histplot(x='Demande_p2', data=df, ax=axarr[0,1])\n",
    "sns.histplot(x='Demande_p3', data=df, ax=axarr[1,0])\n",
    "sns.histplot(x='Demande_ p4', data=df, ax=axarr[1,1])"
   ]
  },
  {
   "cell_type": "code",
   "execution_count": 92,
   "metadata": {
    "colab": {
     "base_uri": "https://localhost:8080/"
    },
    "id": "hxZxxtZNLRkn",
    "outputId": "d938b0f3-4fe1-4079-dc68-df79966ec339"
   },
   "outputs": [
    {
     "data": {
      "text/plain": [
       "ID             0\n",
       "Date           0\n",
       "Ventes_ p1     0\n",
       "Demande_P1     0\n",
       "Ventes_ p2     0\n",
       "Demande_p2     0\n",
       "Ventes_p3      1\n",
       "Demande_p3     0\n",
       "Ventes_p4      0\n",
       "Demande_ p4    0\n",
       "dtype: int64"
      ]
     },
     "execution_count": 92,
     "metadata": {},
     "output_type": "execute_result"
    }
   ],
   "source": [
    "# Détection des valeurs manquantes:\n",
    "df.isnull().sum()"
   ]
  },
  {
   "cell_type": "code",
   "execution_count": 93,
   "metadata": {
    "colab": {
     "base_uri": "https://localhost:8080/"
    },
    "id": "DPTohkWwMuCA",
    "outputId": "dc450875-6d98-493d-e3e5-5630aeffc76c"
   },
   "outputs": [
    {
     "data": {
      "text/plain": [
       "0"
      ]
     },
     "execution_count": 93,
     "metadata": {},
     "output_type": "execute_result"
    }
   ],
   "source": [
    "# Détection des valeurs dupliquées:\n",
    "df.duplicated().sum()"
   ]
  },
  {
   "cell_type": "code",
   "execution_count": 94,
   "metadata": {
    "colab": {
     "base_uri": "https://localhost:8080/"
    },
    "id": "zI4d2UmIM6dR",
    "outputId": "ca89ef21-60fc-4293-d073-76b689731291"
   },
   "outputs": [
    {
     "data": {
      "text/plain": [
       "ID             0\n",
       "Date           0\n",
       "Ventes_ p1     0\n",
       "Demande_P1     0\n",
       "Ventes_ p2     0\n",
       "Demande_p2     0\n",
       "Ventes_p3      0\n",
       "Demande_p3     0\n",
       "Ventes_p4      0\n",
       "Demande_ p4    0\n",
       "dtype: int64"
      ]
     },
     "execution_count": 94,
     "metadata": {},
     "output_type": "execute_result"
    }
   ],
   "source": [
    "# Suppression des valeurs manquantes:\n",
    "df = df.dropna()\n",
    "df.isnull().sum()"
   ]
  },
  {
   "cell_type": "markdown",
   "metadata": {
    "id": "03L3jbJz_aq4"
   },
   "source": [
    "### Détection des valeurs aberrantes:"
   ]
  },
  {
   "cell_type": "markdown",
   "metadata": {
    "id": "fUc2AeDj_2Gy"
   },
   "source": [
    "1.   **Methode graphique:** *La boîte à moustaches*"
   ]
  },
  {
   "cell_type": "code",
   "execution_count": 95,
   "metadata": {
    "colab": {
     "base_uri": "https://localhost:8080/",
     "height": 513
    },
    "id": "s9rCRVpY_Y_A",
    "outputId": "38e9a191-88cf-4531-ae51-a1fe7f7d0465"
   },
   "outputs": [
    {
     "data": {
      "text/plain": [
       "<Axes: >"
      ]
     },
     "execution_count": 95,
     "metadata": {},
     "output_type": "execute_result"
    },
    {
     "data": {
      "image/png": "[encoded data removed]",
      "text/plain": [
       "<Figure size 1200x600 with 1 Axes>"
      ]
     },
     "metadata": {},
     "output_type": "display_data"
    }
   ],
   "source": [
    "plt.figure(figsize=(12, 6))\n",
    "sns.boxplot(data = df)"
   ]
  },
  {
   "cell_type": "markdown",
   "metadata": {
    "id": "6DovWUtiByQi"
   },
   "source": [
    "En se basant sur la boîte à moustaches , on peut constater que certaines colonnes (Ventes_p1, Demande_p1, ventes_p4 et Demande_p4) contiennent des valeurs aberrantes. Plongeons plus en profondeur et examinons les lignes qui contiennent ces valeurs aberrantes en utilisant la méthode de (IQR)*texte en italique*\n",
    "\n",
    "\n",
    "\n",
    "\n",
    "\n",
    "\n",
    "\n",
    "\n"
   ]
  },
  {
   "cell_type": "markdown",
   "metadata": {
    "id": "AFKfRxmUANfl"
   },
   "source": [
    "2.   **Methode mathématique:** *La méthode IQR*"
   ]
  },
  {
   "cell_type": "code",
   "execution_count": 96,
   "metadata": {
    "colab": {
     "base_uri": "https://localhost:8080/",
     "height": 81
    },
    "id": "biBu_am8_ZRt",
    "outputId": "1695f9b1-2f47-4d25-a46a-7f658a90a3e4"
   },
   "outputs": [
    {
     "data": {
      "text/html": [
       "<div>\n",
       "<style scoped>\n",
       "    .dataframe tbody tr th:only-of-type {\n",
       "        vertical-align: middle;\n",
       "    }\n",
       "\n",
       "    .dataframe tbody tr th {\n",
       "        vertical-align: top;\n",
       "    }\n",
       "\n",
       "    .dataframe thead th {\n",
       "        text-align: right;\n",
       "    }\n",
       "</style>\n",
       "<table border=\"1\" class=\"dataframe\">\n",
       "  <thead>\n",
       "    <tr style=\"text-align: right;\">\n",
       "      <th></th>\n",
       "      <th>ID</th>\n",
       "      <th>Date</th>\n",
       "      <th>Ventes_ p1</th>\n",
       "      <th>Demande_P1</th>\n",
       "      <th>Ventes_ p2</th>\n",
       "      <th>Demande_p2</th>\n",
       "      <th>Ventes_p3</th>\n",
       "      <th>Demande_p3</th>\n",
       "      <th>Ventes_p4</th>\n",
       "      <th>Demande_ p4</th>\n",
       "    </tr>\n",
       "  </thead>\n",
       "  <tbody>\n",
       "    <tr>\n",
       "      <th>1066</th>\n",
       "      <td>1067</td>\n",
       "      <td>2022-12-02</td>\n",
       "      <td>1251.5</td>\n",
       "      <td>619.0</td>\n",
       "      <td>1163.8</td>\n",
       "      <td>1628.0</td>\n",
       "      <td>488.0</td>\n",
       "      <td>787.0</td>\n",
       "      <td>210.5</td>\n",
       "      <td>322.0</td>\n",
       "    </tr>\n",
       "  </tbody>\n",
       "</table>\n",
       "</div>"
      ],
      "text/plain": [
       "        ID       Date  Ventes_ p1   Demande_P1  Ventes_ p2  Demande_p2  \\\n",
       "1066  1067 2022-12-02       1251.5       619.0      1163.8      1628.0   \n",
       "\n",
       "      Ventes_p3  Demande_p3  Ventes_p4  Demande_ p4  \n",
       "1066      488.0       787.0      210.5        322.0  "
      ]
     },
     "execution_count": 96,
     "metadata": {},
     "output_type": "execute_result"
    }
   ],
   "source": [
    "#Pour ventes_p1:\n",
    "from scipy.stats import iqr\n",
    "IQR = iqr(df[\"Ventes_ p1 \"])\n",
    "lower_threshold_1 = np.quantile(df[\"Ventes_ p1 \"], 0.25) - 1.5 * IQR\n",
    "upper_threshold_1 = np.quantile(df[\"Ventes_ p1 \"], 0.75) + 1.5 * IQR\n",
    "T_outliers_1 = df[(df[\"Ventes_ p1 \"] < lower_threshold_1) | (df[\"Ventes_ p1 \"] > upper_threshold_1)]\n",
    "T_outliers_1"
   ]
  },
  {
   "cell_type": "code",
   "execution_count": 97,
   "metadata": {
    "colab": {
     "base_uri": "https://localhost:8080/",
     "height": 112
    },
    "id": "_MkL0_-YDLqP",
    "outputId": "af781487-0e1c-4ec7-9270-cab614e49a14"
   },
   "outputs": [
    {
     "data": {
      "text/html": [
       "<div>\n",
       "<style scoped>\n",
       "    .dataframe tbody tr th:only-of-type {\n",
       "        vertical-align: middle;\n",
       "    }\n",
       "\n",
       "    .dataframe tbody tr th {\n",
       "        vertical-align: top;\n",
       "    }\n",
       "\n",
       "    .dataframe thead th {\n",
       "        text-align: right;\n",
       "    }\n",
       "</style>\n",
       "<table border=\"1\" class=\"dataframe\">\n",
       "  <thead>\n",
       "    <tr style=\"text-align: right;\">\n",
       "      <th></th>\n",
       "      <th>ID</th>\n",
       "      <th>Date</th>\n",
       "      <th>Ventes_ p1</th>\n",
       "      <th>Demande_P1</th>\n",
       "      <th>Ventes_ p2</th>\n",
       "      <th>Demande_p2</th>\n",
       "      <th>Ventes_p3</th>\n",
       "      <th>Demande_p3</th>\n",
       "      <th>Ventes_p4</th>\n",
       "      <th>Demande_ p4</th>\n",
       "    </tr>\n",
       "  </thead>\n",
       "  <tbody>\n",
       "    <tr>\n",
       "      <th>659</th>\n",
       "      <td>660</td>\n",
       "      <td>2021-10-21</td>\n",
       "      <td>1168.60</td>\n",
       "      <td>1282.828722</td>\n",
       "      <td>755.52</td>\n",
       "      <td>640.797023</td>\n",
       "      <td>1640.5</td>\n",
       "      <td>1973.994768</td>\n",
       "      <td>358.0</td>\n",
       "      <td>181.983333</td>\n",
       "    </tr>\n",
       "    <tr>\n",
       "      <th>896</th>\n",
       "      <td>897</td>\n",
       "      <td>2022-06-15</td>\n",
       "      <td>1180.14</td>\n",
       "      <td>1295.496738</td>\n",
       "      <td>1905.84</td>\n",
       "      <td>1616.445095</td>\n",
       "      <td>572.5</td>\n",
       "      <td>688.882661</td>\n",
       "      <td>317.0</td>\n",
       "      <td>161.141667</td>\n",
       "    </tr>\n",
       "  </tbody>\n",
       "</table>\n",
       "</div>"
      ],
      "text/plain": [
       "      ID       Date  Ventes_ p1    Demande_P1  Ventes_ p2   Demande_p2  \\\n",
       "659  660 2021-10-21      1168.60  1282.828722      755.52   640.797023   \n",
       "896  897 2022-06-15      1180.14  1295.496738     1905.84  1616.445095   \n",
       "\n",
       "     Ventes_p3   Demande_p3  Ventes_p4  Demande_ p4  \n",
       "659     1640.5  1973.994768      358.0   181.983333  \n",
       "896      572.5   688.882661      317.0   161.141667  "
      ]
     },
     "execution_count": 97,
     "metadata": {},
     "output_type": "execute_result"
    }
   ],
   "source": [
    "# Pour Demande_p1:\n",
    "from scipy.stats import iqr\n",
    "IQR = iqr(df[\"Demande_P1\"])\n",
    "lower_threshold_2 = np.quantile(df[\"Demande_P1\"], 0.25) - 1.5 * IQR\n",
    "upper_threshold_2 = np.quantile(df[\"Demande_P1\"], 0.75) + 1.5 * IQR\n",
    "T_outliers_2 = df[(df[\"Demande_P1\"] < lower_threshold_2) | (df[\"Demande_P1\"] > upper_threshold_2)]\n",
    "T_outliers_2"
   ]
  },
  {
   "cell_type": "code",
   "execution_count": 98,
   "metadata": {
    "colab": {
     "base_uri": "https://localhost:8080/",
     "height": 143
    },
    "id": "WclZpxvsDL7O",
    "outputId": "66b2786b-a5a3-4425-f2e8-d897ad88c3fa"
   },
   "outputs": [
    {
     "data": {
      "text/html": [
       "<div>\n",
       "<style scoped>\n",
       "    .dataframe tbody tr th:only-of-type {\n",
       "        vertical-align: middle;\n",
       "    }\n",
       "\n",
       "    .dataframe tbody tr th {\n",
       "        vertical-align: top;\n",
       "    }\n",
       "\n",
       "    .dataframe thead th {\n",
       "        text-align: right;\n",
       "    }\n",
       "</style>\n",
       "<table border=\"1\" class=\"dataframe\">\n",
       "  <thead>\n",
       "    <tr style=\"text-align: right;\">\n",
       "      <th></th>\n",
       "      <th>ID</th>\n",
       "      <th>Date</th>\n",
       "      <th>Ventes_ p1</th>\n",
       "      <th>Demande_P1</th>\n",
       "      <th>Ventes_ p2</th>\n",
       "      <th>Demande_p2</th>\n",
       "      <th>Ventes_p3</th>\n",
       "      <th>Demande_p3</th>\n",
       "      <th>Ventes_p4</th>\n",
       "      <th>Demande_ p4</th>\n",
       "    </tr>\n",
       "  </thead>\n",
       "  <tbody>\n",
       "    <tr>\n",
       "      <th>295</th>\n",
       "      <td>296</td>\n",
       "      <td>2020-10-22</td>\n",
       "      <td>529.41</td>\n",
       "      <td>581.158954</td>\n",
       "      <td>1295.30</td>\n",
       "      <td>1098.613384</td>\n",
       "      <td>1442.0</td>\n",
       "      <td>1735.142003</td>\n",
       "      <td>513.5</td>\n",
       "      <td>261.029167</td>\n",
       "    </tr>\n",
       "    <tr>\n",
       "      <th>343</th>\n",
       "      <td>344</td>\n",
       "      <td>2020-12-09</td>\n",
       "      <td>441.00</td>\n",
       "      <td>484.107023</td>\n",
       "      <td>1244.26</td>\n",
       "      <td>1055.323623</td>\n",
       "      <td>1118.0</td>\n",
       "      <td>1345.276532</td>\n",
       "      <td>517.0</td>\n",
       "      <td>262.808333</td>\n",
       "    </tr>\n",
       "    <tr>\n",
       "      <th>649</th>\n",
       "      <td>650</td>\n",
       "      <td>2021-10-11</td>\n",
       "      <td>809.54</td>\n",
       "      <td>888.671200</td>\n",
       "      <td>1169.06</td>\n",
       "      <td>991.542471</td>\n",
       "      <td>1277.5</td>\n",
       "      <td>1537.201046</td>\n",
       "      <td>558.5</td>\n",
       "      <td>283.904167</td>\n",
       "    </tr>\n",
       "  </tbody>\n",
       "</table>\n",
       "</div>"
      ],
      "text/plain": [
       "      ID       Date  Ventes_ p1   Demande_P1  Ventes_ p2   Demande_p2  \\\n",
       "295  296 2020-10-22       529.41  581.158954     1295.30  1098.613384   \n",
       "343  344 2020-12-09       441.00  484.107023     1244.26  1055.323623   \n",
       "649  650 2021-10-11       809.54  888.671200     1169.06   991.542471   \n",
       "\n",
       "     Ventes_p3   Demande_p3  Ventes_p4  Demande_ p4  \n",
       "295     1442.0  1735.142003      513.5   261.029167  \n",
       "343     1118.0  1345.276532      517.0   262.808333  \n",
       "649     1277.5  1537.201046      558.5   283.904167  "
      ]
     },
     "execution_count": 98,
     "metadata": {},
     "output_type": "execute_result"
    }
   ],
   "source": [
    "# Pour ventes_p4:\n",
    "from scipy.stats import iqr\n",
    "IQR = iqr(df[\"Ventes_p4\"])\n",
    "lower_threshold_3 = np.quantile(df[\"Ventes_p4\"], 0.25) - 1.5 * IQR\n",
    "upper_threshold_3 = np.quantile(df[\"Ventes_p4\"], 0.75) + 1.5 * IQR\n",
    "T_outliers_3 = df[(df[\"Ventes_p4\"] < lower_threshold_3) | (df[\"Ventes_p4\"] > upper_threshold_3)]\n",
    "T_outliers_3"
   ]
  },
  {
   "cell_type": "code",
   "execution_count": 99,
   "metadata": {
    "colab": {
     "base_uri": "https://localhost:8080/",
     "height": 833
    },
    "id": "dynpOKm6DMG-",
    "outputId": "af5005d1-5850-416e-b786-cf836b830a05"
   },
   "outputs": [
    {
     "data": {
      "text/html": [
       "<div>\n",
       "<style scoped>\n",
       "    .dataframe tbody tr th:only-of-type {\n",
       "        vertical-align: middle;\n",
       "    }\n",
       "\n",
       "    .dataframe tbody tr th {\n",
       "        vertical-align: top;\n",
       "    }\n",
       "\n",
       "    .dataframe thead th {\n",
       "        text-align: right;\n",
       "    }\n",
       "</style>\n",
       "<table border=\"1\" class=\"dataframe\">\n",
       "  <thead>\n",
       "    <tr style=\"text-align: right;\">\n",
       "      <th></th>\n",
       "      <th>ID</th>\n",
       "      <th>Date</th>\n",
       "      <th>Ventes_ p1</th>\n",
       "      <th>Demande_P1</th>\n",
       "      <th>Ventes_ p2</th>\n",
       "      <th>Demande_p2</th>\n",
       "      <th>Ventes_p3</th>\n",
       "      <th>Demande_p3</th>\n",
       "      <th>Ventes_p4</th>\n",
       "      <th>Demande_ p4</th>\n",
       "    </tr>\n",
       "  </thead>\n",
       "  <tbody>\n",
       "    <tr>\n",
       "      <th>1020</th>\n",
       "      <td>1021</td>\n",
       "      <td>2022-10-17</td>\n",
       "      <td>728.500</td>\n",
       "      <td>972.0</td>\n",
       "      <td>926.22</td>\n",
       "      <td>1733.0</td>\n",
       "      <td>974.5</td>\n",
       "      <td>995.0</td>\n",
       "      <td>355.5</td>\n",
       "      <td>335.0</td>\n",
       "    </tr>\n",
       "    <tr>\n",
       "      <th>1021</th>\n",
       "      <td>1022</td>\n",
       "      <td>2022-10-18</td>\n",
       "      <td>758.180</td>\n",
       "      <td>936.0</td>\n",
       "      <td>1181.72</td>\n",
       "      <td>1669.0</td>\n",
       "      <td>551.5</td>\n",
       "      <td>958.0</td>\n",
       "      <td>253.5</td>\n",
       "      <td>322.0</td>\n",
       "    </tr>\n",
       "    <tr>\n",
       "      <th>1027</th>\n",
       "      <td>1028</td>\n",
       "      <td>2022-10-24</td>\n",
       "      <td>680.720</td>\n",
       "      <td>936.0</td>\n",
       "      <td>1518.14</td>\n",
       "      <td>1669.0</td>\n",
       "      <td>974.0</td>\n",
       "      <td>958.0</td>\n",
       "      <td>157.0</td>\n",
       "      <td>322.0</td>\n",
       "    </tr>\n",
       "    <tr>\n",
       "      <th>1065</th>\n",
       "      <td>1066</td>\n",
       "      <td>2022-12-01</td>\n",
       "      <td>543.160</td>\n",
       "      <td>647.0</td>\n",
       "      <td>1907.40</td>\n",
       "      <td>1702.0</td>\n",
       "      <td>493.0</td>\n",
       "      <td>823.0</td>\n",
       "      <td>217.0</td>\n",
       "      <td>337.0</td>\n",
       "    </tr>\n",
       "    <tr>\n",
       "      <th>1066</th>\n",
       "      <td>1067</td>\n",
       "      <td>2022-12-02</td>\n",
       "      <td>1251.500</td>\n",
       "      <td>619.0</td>\n",
       "      <td>1163.80</td>\n",
       "      <td>1628.0</td>\n",
       "      <td>488.0</td>\n",
       "      <td>787.0</td>\n",
       "      <td>210.5</td>\n",
       "      <td>322.0</td>\n",
       "    </tr>\n",
       "    <tr>\n",
       "      <th>1069</th>\n",
       "      <td>1070</td>\n",
       "      <td>2022-12-05</td>\n",
       "      <td>883.260</td>\n",
       "      <td>689.0</td>\n",
       "      <td>878.62</td>\n",
       "      <td>1813.0</td>\n",
       "      <td>805.5</td>\n",
       "      <td>876.0</td>\n",
       "      <td>177.5</td>\n",
       "      <td>359.0</td>\n",
       "    </tr>\n",
       "    <tr>\n",
       "      <th>1070</th>\n",
       "      <td>1071</td>\n",
       "      <td>2022-12-06</td>\n",
       "      <td>571.340</td>\n",
       "      <td>675.0</td>\n",
       "      <td>0.00</td>\n",
       "      <td>1776.0</td>\n",
       "      <td>434.5</td>\n",
       "      <td>859.0</td>\n",
       "      <td>147.5</td>\n",
       "      <td>351.0</td>\n",
       "    </tr>\n",
       "    <tr>\n",
       "      <th>1071</th>\n",
       "      <td>1072</td>\n",
       "      <td>2022-12-07</td>\n",
       "      <td>888.160</td>\n",
       "      <td>647.0</td>\n",
       "      <td>1337.42</td>\n",
       "      <td>1702.0</td>\n",
       "      <td>397.5</td>\n",
       "      <td>823.0</td>\n",
       "      <td>130.0</td>\n",
       "      <td>337.0</td>\n",
       "    </tr>\n",
       "    <tr>\n",
       "      <th>1072</th>\n",
       "      <td>1073</td>\n",
       "      <td>2022-12-08</td>\n",
       "      <td>679.400</td>\n",
       "      <td>633.0</td>\n",
       "      <td>1135.46</td>\n",
       "      <td>1665.0</td>\n",
       "      <td>491.0</td>\n",
       "      <td>805.0</td>\n",
       "      <td>242.0</td>\n",
       "      <td>329.0</td>\n",
       "    </tr>\n",
       "    <tr>\n",
       "      <th>1073</th>\n",
       "      <td>1074</td>\n",
       "      <td>2022-12-09</td>\n",
       "      <td>653.900</td>\n",
       "      <td>605.0</td>\n",
       "      <td>962.60</td>\n",
       "      <td>1591.0</td>\n",
       "      <td>394.5</td>\n",
       "      <td>769.0</td>\n",
       "      <td>152.5</td>\n",
       "      <td>315.0</td>\n",
       "    </tr>\n",
       "    <tr>\n",
       "      <th>1076</th>\n",
       "      <td>1077</td>\n",
       "      <td>2022-12-12</td>\n",
       "      <td>681.860</td>\n",
       "      <td>689.0</td>\n",
       "      <td>1335.54</td>\n",
       "      <td>1813.0</td>\n",
       "      <td>623.0</td>\n",
       "      <td>876.0</td>\n",
       "      <td>50.5</td>\n",
       "      <td>359.0</td>\n",
       "    </tr>\n",
       "    <tr>\n",
       "      <th>1077</th>\n",
       "      <td>1078</td>\n",
       "      <td>2022-12-13</td>\n",
       "      <td>771.260</td>\n",
       "      <td>675.0</td>\n",
       "      <td>0.00</td>\n",
       "      <td>1776.0</td>\n",
       "      <td>485.5</td>\n",
       "      <td>859.0</td>\n",
       "      <td>287.0</td>\n",
       "      <td>351.0</td>\n",
       "    </tr>\n",
       "    <tr>\n",
       "      <th>1078</th>\n",
       "      <td>1079</td>\n",
       "      <td>2022-12-14</td>\n",
       "      <td>772.906</td>\n",
       "      <td>647.0</td>\n",
       "      <td>1139.44</td>\n",
       "      <td>1702.0</td>\n",
       "      <td>530.5</td>\n",
       "      <td>823.0</td>\n",
       "      <td>309.5</td>\n",
       "      <td>337.0</td>\n",
       "    </tr>\n",
       "    <tr>\n",
       "      <th>1079</th>\n",
       "      <td>1080</td>\n",
       "      <td>2022-12-15</td>\n",
       "      <td>484.100</td>\n",
       "      <td>633.0</td>\n",
       "      <td>1485.62</td>\n",
       "      <td>1665.0</td>\n",
       "      <td>353.0</td>\n",
       "      <td>805.0</td>\n",
       "      <td>221.5</td>\n",
       "      <td>329.0</td>\n",
       "    </tr>\n",
       "    <tr>\n",
       "      <th>1080</th>\n",
       "      <td>1081</td>\n",
       "      <td>2022-12-16</td>\n",
       "      <td>745.560</td>\n",
       "      <td>605.0</td>\n",
       "      <td>1161.54</td>\n",
       "      <td>1591.0</td>\n",
       "      <td>268.0</td>\n",
       "      <td>769.0</td>\n",
       "      <td>79.5</td>\n",
       "      <td>315.0</td>\n",
       "    </tr>\n",
       "    <tr>\n",
       "      <th>1083</th>\n",
       "      <td>1084</td>\n",
       "      <td>2022-12-19</td>\n",
       "      <td>654.640</td>\n",
       "      <td>689.0</td>\n",
       "      <td>508.64</td>\n",
       "      <td>1813.0</td>\n",
       "      <td>795.5</td>\n",
       "      <td>876.0</td>\n",
       "      <td>192.0</td>\n",
       "      <td>359.0</td>\n",
       "    </tr>\n",
       "    <tr>\n",
       "      <th>1084</th>\n",
       "      <td>1085</td>\n",
       "      <td>2022-12-20</td>\n",
       "      <td>593.860</td>\n",
       "      <td>675.0</td>\n",
       "      <td>0.00</td>\n",
       "      <td>1776.0</td>\n",
       "      <td>619.0</td>\n",
       "      <td>859.0</td>\n",
       "      <td>181.5</td>\n",
       "      <td>351.0</td>\n",
       "    </tr>\n",
       "    <tr>\n",
       "      <th>1085</th>\n",
       "      <td>1086</td>\n",
       "      <td>2022-12-21</td>\n",
       "      <td>715.900</td>\n",
       "      <td>647.0</td>\n",
       "      <td>1228.06</td>\n",
       "      <td>1702.0</td>\n",
       "      <td>696.0</td>\n",
       "      <td>823.0</td>\n",
       "      <td>276.5</td>\n",
       "      <td>337.0</td>\n",
       "    </tr>\n",
       "    <tr>\n",
       "      <th>1086</th>\n",
       "      <td>1087</td>\n",
       "      <td>2022-12-22</td>\n",
       "      <td>607.060</td>\n",
       "      <td>633.0</td>\n",
       "      <td>943.34</td>\n",
       "      <td>1665.0</td>\n",
       "      <td>650.5</td>\n",
       "      <td>805.0</td>\n",
       "      <td>131.5</td>\n",
       "      <td>329.0</td>\n",
       "    </tr>\n",
       "    <tr>\n",
       "      <th>1087</th>\n",
       "      <td>1088</td>\n",
       "      <td>2022-12-23</td>\n",
       "      <td>622.900</td>\n",
       "      <td>605.0</td>\n",
       "      <td>823.34</td>\n",
       "      <td>1591.0</td>\n",
       "      <td>566.0</td>\n",
       "      <td>769.0</td>\n",
       "      <td>237.5</td>\n",
       "      <td>315.0</td>\n",
       "    </tr>\n",
       "    <tr>\n",
       "      <th>1090</th>\n",
       "      <td>1091</td>\n",
       "      <td>2022-12-26</td>\n",
       "      <td>489.140</td>\n",
       "      <td>689.0</td>\n",
       "      <td>765.68</td>\n",
       "      <td>1813.0</td>\n",
       "      <td>823.0</td>\n",
       "      <td>876.0</td>\n",
       "      <td>212.5</td>\n",
       "      <td>359.0</td>\n",
       "    </tr>\n",
       "    <tr>\n",
       "      <th>1091</th>\n",
       "      <td>1092</td>\n",
       "      <td>2022-12-27</td>\n",
       "      <td>363.080</td>\n",
       "      <td>675.0</td>\n",
       "      <td>0.00</td>\n",
       "      <td>1776.0</td>\n",
       "      <td>725.5</td>\n",
       "      <td>859.0</td>\n",
       "      <td>164.0</td>\n",
       "      <td>351.0</td>\n",
       "    </tr>\n",
       "    <tr>\n",
       "      <th>1092</th>\n",
       "      <td>1093</td>\n",
       "      <td>2022-12-28</td>\n",
       "      <td>567.460</td>\n",
       "      <td>647.0</td>\n",
       "      <td>1477.98</td>\n",
       "      <td>1702.0</td>\n",
       "      <td>724.0</td>\n",
       "      <td>823.0</td>\n",
       "      <td>212.0</td>\n",
       "      <td>337.0</td>\n",
       "    </tr>\n",
       "    <tr>\n",
       "      <th>1093</th>\n",
       "      <td>1094</td>\n",
       "      <td>2022-12-29</td>\n",
       "      <td>370.100</td>\n",
       "      <td>633.0</td>\n",
       "      <td>853.96</td>\n",
       "      <td>1665.0</td>\n",
       "      <td>648.0</td>\n",
       "      <td>805.0</td>\n",
       "      <td>169.0</td>\n",
       "      <td>329.0</td>\n",
       "    </tr>\n",
       "    <tr>\n",
       "      <th>1094</th>\n",
       "      <td>1095</td>\n",
       "      <td>2022-12-30</td>\n",
       "      <td>432.160</td>\n",
       "      <td>605.0</td>\n",
       "      <td>1057.04</td>\n",
       "      <td>1591.0</td>\n",
       "      <td>499.5</td>\n",
       "      <td>769.0</td>\n",
       "      <td>182.0</td>\n",
       "      <td>315.0</td>\n",
       "    </tr>\n",
       "  </tbody>\n",
       "</table>\n",
       "</div>"
      ],
      "text/plain": [
       "        ID       Date  Ventes_ p1   Demande_P1  Ventes_ p2  Demande_p2  \\\n",
       "1020  1021 2022-10-17      728.500       972.0      926.22      1733.0   \n",
       "1021  1022 2022-10-18      758.180       936.0     1181.72      1669.0   \n",
       "1027  1028 2022-10-24      680.720       936.0     1518.14      1669.0   \n",
       "1065  1066 2022-12-01      543.160       647.0     1907.40      1702.0   \n",
       "1066  1067 2022-12-02     1251.500       619.0     1163.80      1628.0   \n",
       "1069  1070 2022-12-05      883.260       689.0      878.62      1813.0   \n",
       "1070  1071 2022-12-06      571.340       675.0        0.00      1776.0   \n",
       "1071  1072 2022-12-07      888.160       647.0     1337.42      1702.0   \n",
       "1072  1073 2022-12-08      679.400       633.0     1135.46      1665.0   \n",
       "1073  1074 2022-12-09      653.900       605.0      962.60      1591.0   \n",
       "1076  1077 2022-12-12      681.860       689.0     1335.54      1813.0   \n",
       "1077  1078 2022-12-13      771.260       675.0        0.00      1776.0   \n",
       "1078  1079 2022-12-14      772.906       647.0     1139.44      1702.0   \n",
       "1079  1080 2022-12-15      484.100       633.0     1485.62      1665.0   \n",
       "1080  1081 2022-12-16      745.560       605.0     1161.54      1591.0   \n",
       "1083  1084 2022-12-19      654.640       689.0      508.64      1813.0   \n",
       "1084  1085 2022-12-20      593.860       675.0        0.00      1776.0   \n",
       "1085  1086 2022-12-21      715.900       647.0     1228.06      1702.0   \n",
       "1086  1087 2022-12-22      607.060       633.0      943.34      1665.0   \n",
       "1087  1088 2022-12-23      622.900       605.0      823.34      1591.0   \n",
       "1090  1091 2022-12-26      489.140       689.0      765.68      1813.0   \n",
       "1091  1092 2022-12-27      363.080       675.0        0.00      1776.0   \n",
       "1092  1093 2022-12-28      567.460       647.0     1477.98      1702.0   \n",
       "1093  1094 2022-12-29      370.100       633.0      853.96      1665.0   \n",
       "1094  1095 2022-12-30      432.160       605.0     1057.04      1591.0   \n",
       "\n",
       "      Ventes_p3  Demande_p3  Ventes_p4  Demande_ p4  \n",
       "1020      974.5       995.0      355.5        335.0  \n",
       "1021      551.5       958.0      253.5        322.0  \n",
       "1027      974.0       958.0      157.0        322.0  \n",
       "1065      493.0       823.0      217.0        337.0  \n",
       "1066      488.0       787.0      210.5        322.0  \n",
       "1069      805.5       876.0      177.5        359.0  \n",
       "1070      434.5       859.0      147.5        351.0  \n",
       "1071      397.5       823.0      130.0        337.0  \n",
       "1072      491.0       805.0      242.0        329.0  \n",
       "1073      394.5       769.0      152.5        315.0  \n",
       "1076      623.0       876.0       50.5        359.0  \n",
       "1077      485.5       859.0      287.0        351.0  \n",
       "1078      530.5       823.0      309.5        337.0  \n",
       "1079      353.0       805.0      221.5        329.0  \n",
       "1080      268.0       769.0       79.5        315.0  \n",
       "1083      795.5       876.0      192.0        359.0  \n",
       "1084      619.0       859.0      181.5        351.0  \n",
       "1085      696.0       823.0      276.5        337.0  \n",
       "1086      650.5       805.0      131.5        329.0  \n",
       "1087      566.0       769.0      237.5        315.0  \n",
       "1090      823.0       876.0      212.5        359.0  \n",
       "1091      725.5       859.0      164.0        351.0  \n",
       "1092      724.0       823.0      212.0        337.0  \n",
       "1093      648.0       805.0      169.0        329.0  \n",
       "1094      499.5       769.0      182.0        315.0  "
      ]
     },
     "execution_count": 99,
     "metadata": {},
     "output_type": "execute_result"
    }
   ],
   "source": [
    "# Pour Demande_p4:\n",
    "from scipy.stats import iqr\n",
    "IQR = iqr(df[\"Demande_ p4\"])\n",
    "lower_threshold_4 = np.quantile(df[\"Demande_ p4\"], 0.25) - 1.5 * IQR\n",
    "upper_threshold_4 = np.quantile(df[\"Demande_ p4\"], 0.75) + 1.5 * IQR\n",
    "T_outliers_4 = df[(df[\"Demande_ p4\"] < lower_threshold_4) | (df[\"Demande_ p4\"] > upper_threshold_4)]\n",
    "T_outliers_4"
   ]
  },
  {
   "cell_type": "markdown",
   "metadata": {
    "id": "chS4jcHqXxYu"
   },
   "source": [
    "**L'existence de valeurs aberrantes peut avoir un impact significatif sur les résultats d'une analyse statistique ou d'un modèle prédictif. C'est pourquoi il est courant de supprimer ces valeurs afin d'atténuer leur influence.**"
   ]
  },
  {
   "cell_type": "code",
   "execution_count": 100,
   "metadata": {
    "id": "gQBHlhb5YgKX"
   },
   "outputs": [],
   "source": [
    "# Suppression des valeurs aberrantes:\n",
    "df= df[(df[\"Ventes_ p1 \"] < upper_threshold_1) & (df[\"Ventes_ p1 \"] > lower_threshold_1)]\n",
    "df= df[(df[\"Demande_P1\"] < upper_threshold_2) & (df[\"Demande_P1\"] > lower_threshold_2)]\n",
    "df= df[(df[\"Ventes_p4\"] < upper_threshold_3) & (df[\"Ventes_p4\"] > lower_threshold_3)]\n",
    "df= df[(df[\"Demande_ p4\"] < upper_threshold_4) & (df[\"Demande_ p4\"] > lower_threshold_4)]"
   ]
  },
  {
   "cell_type": "code",
   "execution_count": 101,
   "metadata": {
    "colab": {
     "base_uri": "https://localhost:8080/"
    },
    "id": "gC3hoLUiYf5z",
    "outputId": "b63e9e6d-2b6b-4210-b737-ad947f1c66d1"
   },
   "outputs": [
    {
     "name": "stdout",
     "output_type": "stream",
     "text": [
      "<class 'pandas.core.frame.DataFrame'>\n",
      "Int64Index: 1155 entries, 0 to 1185\n",
      "Data columns (total 10 columns):\n",
      " #   Column       Non-Null Count  Dtype         \n",
      "---  ------       --------------  -----         \n",
      " 0   ID           1155 non-null   int64         \n",
      " 1   Date         1155 non-null   datetime64[ns]\n",
      " 2   Ventes_ p1   1155 non-null   float64       \n",
      " 3   Demande_P1   1155 non-null   float64       \n",
      " 4   Ventes_ p2   1155 non-null   float64       \n",
      " 5   Demande_p2   1155 non-null   float64       \n",
      " 6   Ventes_p3    1155 non-null   float64       \n",
      " 7   Demande_p3   1155 non-null   float64       \n",
      " 8   Ventes_p4    1155 non-null   float64       \n",
      " 9   Demande_ p4  1155 non-null   float64       \n",
      "dtypes: datetime64[ns](1), float64(8), int64(1)\n",
      "memory usage: 99.3 KB\n"
     ]
    }
   ],
   "source": [
    "# Vérification des résultats après suppression des valeurs aberrantes:\n",
    "df.info()"
   ]
  },
  {
   "cell_type": "code",
   "execution_count": 102,
   "metadata": {
    "id": "1eGXnssWehj3"
   },
   "outputs": [],
   "source": [
    "#Suppression du colonne ID:\n",
    "df = df.drop(columns=(\"ID\"))"
   ]
  },
  {
   "cell_type": "code",
   "execution_count": 103,
   "metadata": {
    "colab": {
     "base_uri": "https://localhost:8080/",
     "height": 206
    },
    "id": "ZGZVuUgrdiyt",
    "outputId": "0b8840e4-4752-4a88-da4c-f365125ba62e"
   },
   "outputs": [
    {
     "data": {
      "text/html": [
       "<div>\n",
       "<style scoped>\n",
       "    .dataframe tbody tr th:only-of-type {\n",
       "        vertical-align: middle;\n",
       "    }\n",
       "\n",
       "    .dataframe tbody tr th {\n",
       "        vertical-align: top;\n",
       "    }\n",
       "\n",
       "    .dataframe thead th {\n",
       "        text-align: right;\n",
       "    }\n",
       "</style>\n",
       "<table border=\"1\" class=\"dataframe\">\n",
       "  <thead>\n",
       "    <tr style=\"text-align: right;\">\n",
       "      <th></th>\n",
       "      <th>Date</th>\n",
       "      <th>Ventes_ p1</th>\n",
       "      <th>Demande_P1</th>\n",
       "      <th>Ventes_ p2</th>\n",
       "      <th>Demande_p2</th>\n",
       "      <th>Ventes_p3</th>\n",
       "      <th>Demande_p3</th>\n",
       "      <th>Ventes_p4</th>\n",
       "      <th>Demande_ p4</th>\n",
       "    </tr>\n",
       "  </thead>\n",
       "  <tbody>\n",
       "    <tr>\n",
       "      <th>0</th>\n",
       "      <td>2020-01-01</td>\n",
       "      <td>549.68</td>\n",
       "      <td>603.410313</td>\n",
       "      <td>711.68</td>\n",
       "      <td>603.613968</td>\n",
       "      <td>479.5</td>\n",
       "      <td>576.976831</td>\n",
       "      <td>299.5</td>\n",
       "      <td>152.245833</td>\n",
       "    </tr>\n",
       "    <tr>\n",
       "      <th>1</th>\n",
       "      <td>2020-01-02</td>\n",
       "      <td>635.40</td>\n",
       "      <td>697.509302</td>\n",
       "      <td>1047.44</td>\n",
       "      <td>888.390028</td>\n",
       "      <td>872.0</td>\n",
       "      <td>1049.267564</td>\n",
       "      <td>161.0</td>\n",
       "      <td>81.841667</td>\n",
       "    </tr>\n",
       "    <tr>\n",
       "      <th>2</th>\n",
       "      <td>2020-01-03</td>\n",
       "      <td>524.52</td>\n",
       "      <td>575.790965</td>\n",
       "      <td>1042.44</td>\n",
       "      <td>884.149260</td>\n",
       "      <td>883.0</td>\n",
       "      <td>1062.503737</td>\n",
       "      <td>260.5</td>\n",
       "      <td>132.420833</td>\n",
       "    </tr>\n",
       "    <tr>\n",
       "      <th>3</th>\n",
       "      <td>2020-01-04</td>\n",
       "      <td>550.84</td>\n",
       "      <td>604.683701</td>\n",
       "      <td>1190.78</td>\n",
       "      <td>1009.964368</td>\n",
       "      <td>829.0</td>\n",
       "      <td>997.526158</td>\n",
       "      <td>150.0</td>\n",
       "      <td>76.250000</td>\n",
       "    </tr>\n",
       "    <tr>\n",
       "      <th>4</th>\n",
       "      <td>2020-01-05</td>\n",
       "      <td>55.14</td>\n",
       "      <td>60.529844</td>\n",
       "      <td>27.34</td>\n",
       "      <td>23.188520</td>\n",
       "      <td>28.0</td>\n",
       "      <td>33.692078</td>\n",
       "      <td>0.0</td>\n",
       "      <td>0.000000</td>\n",
       "    </tr>\n",
       "  </tbody>\n",
       "</table>\n",
       "</div>"
      ],
      "text/plain": [
       "        Date  Ventes_ p1   Demande_P1  Ventes_ p2   Demande_p2  Ventes_p3  \\\n",
       "0 2020-01-01       549.68  603.410313      711.68   603.613968      479.5   \n",
       "1 2020-01-02       635.40  697.509302     1047.44   888.390028      872.0   \n",
       "2 2020-01-03       524.52  575.790965     1042.44   884.149260      883.0   \n",
       "3 2020-01-04       550.84  604.683701     1190.78  1009.964368      829.0   \n",
       "4 2020-01-05        55.14   60.529844       27.34    23.188520       28.0   \n",
       "\n",
       "    Demande_p3  Ventes_p4  Demande_ p4  \n",
       "0   576.976831      299.5   152.245833  \n",
       "1  1049.267564      161.0    81.841667  \n",
       "2  1062.503737      260.5   132.420833  \n",
       "3   997.526158      150.0    76.250000  \n",
       "4    33.692078        0.0     0.000000  "
      ]
     },
     "execution_count": 103,
     "metadata": {},
     "output_type": "execute_result"
    }
   ],
   "source": [
    "df.head()"
   ]
  },
  {
   "cell_type": "markdown",
   "metadata": {
    "id": "cms9Pc0dLOIa"
   },
   "source": [
    "## **Analyse de lien entre les variables:**"
   ]
  },
  {
   "cell_type": "code",
   "execution_count": 104,
   "metadata": {
    "colab": {
     "base_uri": "https://localhost:8080/",
     "height": 300
    },
    "id": "e-3jYlT-NVV0",
    "outputId": "52846506-ca83-4a6c-c623-a229b7177298"
   },
   "outputs": [
    {
     "data": {
      "text/html": [
       "<div>\n",
       "<style scoped>\n",
       "    .dataframe tbody tr th:only-of-type {\n",
       "        vertical-align: middle;\n",
       "    }\n",
       "\n",
       "    .dataframe tbody tr th {\n",
       "        vertical-align: top;\n",
       "    }\n",
       "\n",
       "    .dataframe thead th {\n",
       "        text-align: right;\n",
       "    }\n",
       "</style>\n",
       "<table border=\"1\" class=\"dataframe\">\n",
       "  <thead>\n",
       "    <tr style=\"text-align: right;\">\n",
       "      <th></th>\n",
       "      <th>Ventes_ p1</th>\n",
       "      <th>Demande_P1</th>\n",
       "      <th>Ventes_ p2</th>\n",
       "      <th>Demande_p2</th>\n",
       "      <th>Ventes_p3</th>\n",
       "      <th>Demande_p3</th>\n",
       "      <th>Ventes_p4</th>\n",
       "      <th>Demande_ p4</th>\n",
       "    </tr>\n",
       "  </thead>\n",
       "  <tbody>\n",
       "    <tr>\n",
       "      <th>Ventes_ p1</th>\n",
       "      <td>1.000000</td>\n",
       "      <td>0.978589</td>\n",
       "      <td>0.702155</td>\n",
       "      <td>0.728336</td>\n",
       "      <td>0.503784</td>\n",
       "      <td>0.527132</td>\n",
       "      <td>0.678559</td>\n",
       "      <td>0.545459</td>\n",
       "    </tr>\n",
       "    <tr>\n",
       "      <th>Demande_P1</th>\n",
       "      <td>0.978589</td>\n",
       "      <td>1.000000</td>\n",
       "      <td>0.707839</td>\n",
       "      <td>0.723608</td>\n",
       "      <td>0.526725</td>\n",
       "      <td>0.544948</td>\n",
       "      <td>0.693792</td>\n",
       "      <td>0.580021</td>\n",
       "    </tr>\n",
       "    <tr>\n",
       "      <th>Ventes_ p2</th>\n",
       "      <td>0.702155</td>\n",
       "      <td>0.707839</td>\n",
       "      <td>1.000000</td>\n",
       "      <td>0.942354</td>\n",
       "      <td>0.526479</td>\n",
       "      <td>0.539615</td>\n",
       "      <td>0.652100</td>\n",
       "      <td>0.550163</td>\n",
       "    </tr>\n",
       "    <tr>\n",
       "      <th>Demande_p2</th>\n",
       "      <td>0.728336</td>\n",
       "      <td>0.723608</td>\n",
       "      <td>0.942354</td>\n",
       "      <td>1.000000</td>\n",
       "      <td>0.478682</td>\n",
       "      <td>0.507258</td>\n",
       "      <td>0.631464</td>\n",
       "      <td>0.508141</td>\n",
       "    </tr>\n",
       "    <tr>\n",
       "      <th>Ventes_p3</th>\n",
       "      <td>0.503784</td>\n",
       "      <td>0.526725</td>\n",
       "      <td>0.526479</td>\n",
       "      <td>0.478682</td>\n",
       "      <td>1.000000</td>\n",
       "      <td>0.991067</td>\n",
       "      <td>0.697795</td>\n",
       "      <td>0.577592</td>\n",
       "    </tr>\n",
       "    <tr>\n",
       "      <th>Demande_p3</th>\n",
       "      <td>0.527132</td>\n",
       "      <td>0.544948</td>\n",
       "      <td>0.539615</td>\n",
       "      <td>0.507258</td>\n",
       "      <td>0.991067</td>\n",
       "      <td>1.000000</td>\n",
       "      <td>0.701397</td>\n",
       "      <td>0.583581</td>\n",
       "    </tr>\n",
       "    <tr>\n",
       "      <th>Ventes_p4</th>\n",
       "      <td>0.678559</td>\n",
       "      <td>0.693792</td>\n",
       "      <td>0.652100</td>\n",
       "      <td>0.631464</td>\n",
       "      <td>0.697795</td>\n",
       "      <td>0.701397</td>\n",
       "      <td>1.000000</td>\n",
       "      <td>0.796972</td>\n",
       "    </tr>\n",
       "    <tr>\n",
       "      <th>Demande_ p4</th>\n",
       "      <td>0.545459</td>\n",
       "      <td>0.580021</td>\n",
       "      <td>0.550163</td>\n",
       "      <td>0.508141</td>\n",
       "      <td>0.577592</td>\n",
       "      <td>0.583581</td>\n",
       "      <td>0.796972</td>\n",
       "      <td>1.000000</td>\n",
       "    </tr>\n",
       "  </tbody>\n",
       "</table>\n",
       "</div>"
      ],
      "text/plain": [
       "             Ventes_ p1   Demande_P1  Ventes_ p2  Demande_p2  Ventes_p3  \\\n",
       "Ventes_ p1      1.000000    0.978589    0.702155    0.728336   0.503784   \n",
       "Demande_P1      0.978589    1.000000    0.707839    0.723608   0.526725   \n",
       "Ventes_ p2      0.702155    0.707839    1.000000    0.942354   0.526479   \n",
       "Demande_p2      0.728336    0.723608    0.942354    1.000000   0.478682   \n",
       "Ventes_p3       0.503784    0.526725    0.526479    0.478682   1.000000   \n",
       "Demande_p3      0.527132    0.544948    0.539615    0.507258   0.991067   \n",
       "Ventes_p4       0.678559    0.693792    0.652100    0.631464   0.697795   \n",
       "Demande_ p4     0.545459    0.580021    0.550163    0.508141   0.577592   \n",
       "\n",
       "             Demande_p3  Ventes_p4  Demande_ p4  \n",
       "Ventes_ p1     0.527132   0.678559     0.545459  \n",
       "Demande_P1     0.544948   0.693792     0.580021  \n",
       "Ventes_ p2     0.539615   0.652100     0.550163  \n",
       "Demande_p2     0.507258   0.631464     0.508141  \n",
       "Ventes_p3      0.991067   0.697795     0.577592  \n",
       "Demande_p3     1.000000   0.701397     0.583581  \n",
       "Ventes_p4      0.701397   1.000000     0.796972  \n",
       "Demande_ p4    0.583581   0.796972     1.000000  "
      ]
     },
     "execution_count": 104,
     "metadata": {},
     "output_type": "execute_result"
    }
   ],
   "source": [
    "df.corr()"
   ]
  },
  {
   "cell_type": "code",
   "execution_count": 105,
   "metadata": {
    "colab": {
     "base_uri": "https://localhost:8080/",
     "height": 610
    },
    "id": "NhxbG-HtNVfc",
    "outputId": "297ede96-74ca-4f06-ae29-90655439c0d0"
   },
   "outputs": [
    {
     "data": {
      "image/png": "[encoded data removed]",
      "text/plain": [
       "<Figure size 1000x600 with 2 Axes>"
      ]
     },
     "metadata": {},
     "output_type": "display_data"
    }
   ],
   "source": [
    "plt.figure(figsize=(10, 6))\n",
    "sns.heatmap(df.corr(), annot = True)\n",
    "plt.show()"
   ]
  },
  {
   "cell_type": "code",
   "execution_count": 106,
   "metadata": {
    "colab": {
     "base_uri": "https://localhost:8080/",
     "height": 754
    },
    "id": "1BMFN1FXNVk3",
    "outputId": "c235c3ab-d48e-4517-b134-66693b4b56cd"
   },
   "outputs": [
    {
     "data": {
      "text/plain": [
       "<Axes: xlabel='Demande_ p4', ylabel='Ventes_p4'>"
      ]
     },
     "execution_count": 106,
     "metadata": {},
     "output_type": "execute_result"
    },
    {
     "data": {
      "image/png": "[encoded data removed]",
      "text/plain": [
       "<Figure size 1300x1000 with 4 Axes>"
      ]
     },
     "metadata": {},
     "output_type": "display_data"
    }
   ],
   "source": [
    "fig, axarr  = plt.subplots(2,2,figsize=(13,10))\n",
    "sns.scatterplot(x='Demande_P1', y=\"Ventes_ p1 \", data=df, ax=axarr[0,0], palette='deep')\n",
    "sns.scatterplot(x='Demande_p2', y='Ventes_ p2', data=df, ax=axarr[0,1], palette='deep')\n",
    "sns.scatterplot(x='Demande_p3', y='Ventes_p3', data=df, ax=axarr[1,0], palette='deep')\n",
    "sns.scatterplot(x='Demande_ p4', y='Ventes_p4', data=df, ax=axarr[1,1], palette='deep')"
   ]
  },
  {
   "cell_type": "markdown",
   "metadata": {
    "id": "LltQh6OhXH_7"
   },
   "source": [
    "**D'après les résultats precedents, On peut confirmer l'existence d'une corrélation entre chaque vente et sa demande respective. Cependant, il convient de noter que la nature de cette corrélation est non linéaire.**"
   ]
  },
  {
   "cell_type": "markdown",
   "metadata": {
    "id": "A9Z7mft9fX2V"
   },
   "source": [
    "## Modélisation:"
   ]
  },
  {
   "cell_type": "markdown",
   "metadata": {
    "id": "cIay-AcWff3D"
   },
   "source": [
    "### Choix des variables pour la modélisation"
   ]
  },
  {
   "cell_type": "markdown",
   "metadata": {
    "id": "0DQl0qMusoKg"
   },
   "source": [
    "##### **On commence par \"Vente_p1\" et \"Demande_P1\"**:"
   ]
  },
  {
   "cell_type": "code",
   "execution_count": 107,
   "metadata": {
    "id": "UclLXkL-7DsO"
   },
   "outputs": [],
   "source": [
    "#On commence par \"Ventes_p1\" et \"demande_P1\":\n",
    "X_1 = df['Demande_P1']\n",
    "y_1 = df['Ventes_ p1 ']"
   ]
  },
  {
   "cell_type": "markdown",
   "metadata": {
    "id": "bjt4HjKog98b"
   },
   "source": [
    "***Diviser la base en un ensemble d'apprentissage et un ensemble de test (80 pour l'apprentissage et 20% pour le test)***"
   ]
  },
  {
   "cell_type": "code",
   "execution_count": 108,
   "metadata": {
    "id": "4tKYMYJ07D3O"
   },
   "outputs": [],
   "source": [
    "from sklearn import model_selection\n",
    "X1_train, X1_test, y1_train, y1_test = model_selection.train_test_split(X_1, y_1, test_size = 0.20, random_state = 42)"
   ]
  },
  {
   "cell_type": "code",
   "execution_count": 109,
   "metadata": {
    "colab": {
     "base_uri": "https://localhost:8080/"
    },
    "id": "PfwtvjEB7D-h",
    "outputId": "e35e5674-6d05-4552-fa1b-69439744d14c"
   },
   "outputs": [
    {
     "data": {
      "text/plain": [
       "((924,), (924,), (231,), (231,))"
      ]
     },
     "execution_count": 109,
     "metadata": {},
     "output_type": "execute_result"
    }
   ],
   "source": [
    "# Verification après la division du base:\n",
    "X1_train.shape , y1_train.shape, X1_test.shape, y1_test.shape"
   ]
  },
  {
   "cell_type": "code",
   "execution_count": 110,
   "metadata": {
    "id": "Wq0eqwKX_Ecd"
   },
   "outputs": [],
   "source": [
    "#Remodelage des données d'entraînement et de test\n",
    "X1_train = np.array(X1_train).reshape(-1, 1)\n",
    "y1_train = np.array(y1_train).reshape(-1, 1)\n",
    "X1_test = np.array(X1_test).reshape(-1, 1)\n",
    "y1_test = np.array(y1_test).reshape(-1, 1)"
   ]
  },
  {
   "cell_type": "markdown",
   "metadata": {
    "id": "e98Y7kAirDuD"
   },
   "source": [
    "### Modèle de régression utilisant  les arbres de décision:"
   ]
  },
  {
   "cell_type": "code",
   "execution_count": 111,
   "metadata": {
    "colab": {
     "base_uri": "https://localhost:8080/",
     "height": 75
    },
    "id": "VvbA82rB7EJ0",
    "outputId": "8be0032b-6361-4c02-8682-54ac006c7d6d"
   },
   "outputs": [
    {
     "data": {
      "text/html": [
       "<style>#sk-container-id-11 {color: black;background-color: white;}#sk-container-id-11 pre{padding: 0;}#sk-container-id-11 div.sk-toggleable {background-color: white;}#sk-container-id-11 label.sk-toggleable__label {cursor: pointer;display: block;width: 100%;margin-bottom: 0;padding: 0.3em;box-sizing: border-box;text-align: center;}#sk-container-id-11 label.sk-toggleable__label-arrow:before {content: \"▸\";float: left;margin-right: 0.25em;color: #696969;}#sk-container-id-11 label.sk-toggleable__label-arrow:hover:before {color: black;}#sk-container-id-11 div.sk-estimator:hover label.sk-toggleable__label-arrow:before {color: black;}#sk-container-id-11 div.sk-toggleable__content {max-height: 0;max-width: 0;overflow: hidden;text-align: left;background-color: #f0f8ff;}#sk-container-id-11 div.sk-toggleable__content pre {margin: 0.2em;color: black;border-radius: 0.25em;background-color: #f0f8ff;}#sk-container-id-11 input.sk-toggleable__control:checked~div.sk-toggleable__content {max-height: 200px;max-width: 100%;overflow: auto;}#sk-container-id-11 input.sk-toggleable__control:checked~label.sk-toggleable__label-arrow:before {content: \"▾\";}#sk-container-id-11 div.sk-estimator input.sk-toggleable__control:checked~label.sk-toggleable__label {background-color: #d4ebff;}#sk-container-id-11 div.sk-label input.sk-toggleable__control:checked~label.sk-toggleable__label {background-color: #d4ebff;}#sk-container-id-11 input.sk-hidden--visually {border: 0;clip: rect(1px 1px 1px 1px);clip: rect(1px, 1px, 1px, 1px);height: 1px;margin: -1px;overflow: hidden;padding: 0;position: absolute;width: 1px;}#sk-container-id-11 div.sk-estimator {font-family: monospace;background-color: #f0f8ff;border: 1px dotted black;border-radius: 0.25em;box-sizing: border-box;margin-bottom: 0.5em;}#sk-container-id-11 div.sk-estimator:hover {background-color: #d4ebff;}#sk-container-id-11 div.sk-parallel-item::after {content: \"\";width: 100%;border-bottom: 1px solid gray;flex-grow: 1;}#sk-container-id-11 div.sk-label:hover label.sk-toggleable__label {background-color: #d4ebff;}#sk-container-id-11 div.sk-serial::before {content: \"\";position: absolute;border-left: 1px solid gray;box-sizing: border-box;top: 0;bottom: 0;left: 50%;z-index: 0;}#sk-container-id-11 div.sk-serial {display: flex;flex-direction: column;align-items: center;background-color: white;padding-right: 0.2em;padding-left: 0.2em;position: relative;}#sk-container-id-11 div.sk-item {position: relative;z-index: 1;}#sk-container-id-11 div.sk-parallel {display: flex;align-items: stretch;justify-content: center;background-color: white;position: relative;}#sk-container-id-11 div.sk-item::before, #sk-container-id-11 div.sk-parallel-item::before {content: \"\";position: absolute;border-left: 1px solid gray;box-sizing: border-box;top: 0;bottom: 0;left: 50%;z-index: -1;}#sk-container-id-11 div.sk-parallel-item {display: flex;flex-direction: column;z-index: 1;position: relative;background-color: white;}#sk-container-id-11 div.sk-parallel-item:first-child::after {align-self: flex-end;width: 50%;}#sk-container-id-11 div.sk-parallel-item:last-child::after {align-self: flex-start;width: 50%;}#sk-container-id-11 div.sk-parallel-item:only-child::after {width: 0;}#sk-container-id-11 div.sk-dashed-wrapped {border: 1px dashed gray;margin: 0 0.4em 0.5em 0.4em;box-sizing: border-box;padding-bottom: 0.4em;background-color: white;}#sk-container-id-11 div.sk-label label {font-family: monospace;font-weight: bold;display: inline-block;line-height: 1.2em;}#sk-container-id-11 div.sk-label-container {text-align: center;}#sk-container-id-11 div.sk-container {/* jupyter's `normalize.less` sets `[hidden] { display: none; }` but bootstrap.min.css set `[hidden] { display: none !important; }` so we also need the `!important` here to be able to override the default hidden behavior on the sphinx rendered scikit-learn.org. See: https://github.com/scikit-learn/scikit-learn/issues/21755 */display: inline-block !important;position: relative;}#sk-container-id-11 div.sk-text-repr-fallback {display: none;}</style><div id=\"sk-container-id-11\" class=\"sk-top-container\"><div class=\"sk-text-repr-fallback\"><pre>DecisionTreeRegressor()</pre><b>In a Jupyter environment, please rerun this cell to show the HTML representation or trust the notebook. <br />On GitHub, the HTML representation is unable to render, please try loading this page with nbviewer.org.</b></div><div class=\"sk-container\" hidden><div class=\"sk-item\"><div class=\"sk-estimator sk-toggleable\"><input class=\"sk-toggleable__control sk-hidden--visually\" id=\"sk-estimator-id-11\" type=\"checkbox\" checked><label for=\"sk-estimator-id-11\" class=\"sk-toggleable__label sk-toggleable__label-arrow\">DecisionTreeRegressor</label><div class=\"sk-toggleable__content\"><pre>DecisionTreeRegressor()</pre></div></div></div></div></div>"
      ],
      "text/plain": [
       "DecisionTreeRegressor()"
      ]
     },
     "execution_count": 111,
     "metadata": {},
     "output_type": "execute_result"
    }
   ],
   "source": [
    "#Importation de la librairie\n",
    "from sklearn.tree import DecisionTreeRegressor\n",
    "# Création du modèle Arbre de décision\n",
    "tree1 = DecisionTreeRegressor()\n",
    "# Apprentissage du modèle utilisant la base d'apprentissage\n",
    "tree1.fit(X1_train,y1_train)"
   ]
  },
  {
   "cell_type": "markdown",
   "metadata": {
    "id": "idr3z4perX4J"
   },
   "source": [
    "### Modèle de régression utilisant  K-nearest neighbors (kNN):\n"
   ]
  },
  {
   "cell_type": "markdown",
   "metadata": {
    "id": "8eWpeOTp3VrS"
   },
   "source": [
    "**Le choix de la valeur de K est important et peut avoir un impact significatif sur les prédictions du modèle. C'est pourpour cela on va utiliser une méthode graphique pour décider du nombre optimal de voisins (K) à choisir.**"
   ]
  },
  {
   "cell_type": "code",
   "execution_count": 112,
   "metadata": {
    "colab": {
     "base_uri": "https://localhost:8080/",
     "height": 75
    },
    "id": "ER15XKyEq2RO",
    "outputId": "5acb5e1f-d74a-40ba-85cd-8174e8da8be1"
   },
   "outputs": [
    {
     "data": {
      "text/html": [
       "<style>#sk-container-id-12 {color: black;background-color: white;}#sk-container-id-12 pre{padding: 0;}#sk-container-id-12 div.sk-toggleable {background-color: white;}#sk-container-id-12 label.sk-toggleable__label {cursor: pointer;display: block;width: 100%;margin-bottom: 0;padding: 0.3em;box-sizing: border-box;text-align: center;}#sk-container-id-12 label.sk-toggleable__label-arrow:before {content: \"▸\";float: left;margin-right: 0.25em;color: #696969;}#sk-container-id-12 label.sk-toggleable__label-arrow:hover:before {color: black;}#sk-container-id-12 div.sk-estimator:hover label.sk-toggleable__label-arrow:before {color: black;}#sk-container-id-12 div.sk-toggleable__content {max-height: 0;max-width: 0;overflow: hidden;text-align: left;background-color: #f0f8ff;}#sk-container-id-12 div.sk-toggleable__content pre {margin: 0.2em;color: black;border-radius: 0.25em;background-color: #f0f8ff;}#sk-container-id-12 input.sk-toggleable__control:checked~div.sk-toggleable__content {max-height: 200px;max-width: 100%;overflow: auto;}#sk-container-id-12 input.sk-toggleable__control:checked~label.sk-toggleable__label-arrow:before {content: \"▾\";}#sk-container-id-12 div.sk-estimator input.sk-toggleable__control:checked~label.sk-toggleable__label {background-color: #d4ebff;}#sk-container-id-12 div.sk-label input.sk-toggleable__control:checked~label.sk-toggleable__label {background-color: #d4ebff;}#sk-container-id-12 input.sk-hidden--visually {border: 0;clip: rect(1px 1px 1px 1px);clip: rect(1px, 1px, 1px, 1px);height: 1px;margin: -1px;overflow: hidden;padding: 0;position: absolute;width: 1px;}#sk-container-id-12 div.sk-estimator {font-family: monospace;background-color: #f0f8ff;border: 1px dotted black;border-radius: 0.25em;box-sizing: border-box;margin-bottom: 0.5em;}#sk-container-id-12 div.sk-estimator:hover {background-color: #d4ebff;}#sk-container-id-12 div.sk-parallel-item::after {content: \"\";width: 100%;border-bottom: 1px solid gray;flex-grow: 1;}#sk-container-id-12 div.sk-label:hover label.sk-toggleable__label {background-color: #d4ebff;}#sk-container-id-12 div.sk-serial::before {content: \"\";position: absolute;border-left: 1px solid gray;box-sizing: border-box;top: 0;bottom: 0;left: 50%;z-index: 0;}#sk-container-id-12 div.sk-serial {display: flex;flex-direction: column;align-items: center;background-color: white;padding-right: 0.2em;padding-left: 0.2em;position: relative;}#sk-container-id-12 div.sk-item {position: relative;z-index: 1;}#sk-container-id-12 div.sk-parallel {display: flex;align-items: stretch;justify-content: center;background-color: white;position: relative;}#sk-container-id-12 div.sk-item::before, #sk-container-id-12 div.sk-parallel-item::before {content: \"\";position: absolute;border-left: 1px solid gray;box-sizing: border-box;top: 0;bottom: 0;left: 50%;z-index: -1;}#sk-container-id-12 div.sk-parallel-item {display: flex;flex-direction: column;z-index: 1;position: relative;background-color: white;}#sk-container-id-12 div.sk-parallel-item:first-child::after {align-self: flex-end;width: 50%;}#sk-container-id-12 div.sk-parallel-item:last-child::after {align-self: flex-start;width: 50%;}#sk-container-id-12 div.sk-parallel-item:only-child::after {width: 0;}#sk-container-id-12 div.sk-dashed-wrapped {border: 1px dashed gray;margin: 0 0.4em 0.5em 0.4em;box-sizing: border-box;padding-bottom: 0.4em;background-color: white;}#sk-container-id-12 div.sk-label label {font-family: monospace;font-weight: bold;display: inline-block;line-height: 1.2em;}#sk-container-id-12 div.sk-label-container {text-align: center;}#sk-container-id-12 div.sk-container {/* jupyter's `normalize.less` sets `[hidden] { display: none; }` but bootstrap.min.css set `[hidden] { display: none !important; }` so we also need the `!important` here to be able to override the default hidden behavior on the sphinx rendered scikit-learn.org. See: https://github.com/scikit-learn/scikit-learn/issues/21755 */display: inline-block !important;position: relative;}#sk-container-id-12 div.sk-text-repr-fallback {display: none;}</style><div id=\"sk-container-id-12\" class=\"sk-top-container\"><div class=\"sk-text-repr-fallback\"><pre>KNeighborsRegressor()</pre><b>In a Jupyter environment, please rerun this cell to show the HTML representation or trust the notebook. <br />On GitHub, the HTML representation is unable to render, please try loading this page with nbviewer.org.</b></div><div class=\"sk-container\" hidden><div class=\"sk-item\"><div class=\"sk-estimator sk-toggleable\"><input class=\"sk-toggleable__control sk-hidden--visually\" id=\"sk-estimator-id-12\" type=\"checkbox\" checked><label for=\"sk-estimator-id-12\" class=\"sk-toggleable__label sk-toggleable__label-arrow\">KNeighborsRegressor</label><div class=\"sk-toggleable__content\"><pre>KNeighborsRegressor()</pre></div></div></div></div></div>"
      ],
      "text/plain": [
       "KNeighborsRegressor()"
      ]
     },
     "execution_count": 112,
     "metadata": {},
     "output_type": "execute_result"
    }
   ],
   "source": [
    "#Importation de la librairie\n",
    "from sklearn.neighbors import KNeighborsRegressor\n",
    "\n",
    "#Création du modèle KNN\n",
    "knn_5 = KNeighborsRegressor() # K=5 valeure par défaut\n",
    "# Apprentissage du modèle utilisant la base d'apprentissage\n",
    "knn_5.fit(X1_train,y1_train)"
   ]
  },
  {
   "cell_type": "code",
   "execution_count": 113,
   "metadata": {
    "colab": {
     "base_uri": "https://localhost:8080/",
     "height": 524
    },
    "id": "d767Oo6J2mR0",
    "outputId": "f42e71c8-d7aa-4f30-fdfd-01a992ef588e"
   },
   "outputs": [
    {
     "data": {
      "image/png": "[encoded data removed]",
      "text/plain": [
       "<Figure size 1200x600 with 1 Axes>"
      ]
     },
     "metadata": {},
     "output_type": "display_data"
    }
   ],
   "source": [
    "#Créetion un dictionnaire vide pour stocker nos \"train & test accuracies\"\n",
    "train_accuracies = {}\n",
    "test_accuracies = {}\n",
    "\n",
    "# Création d'un tableau numpy contenant une plage de valeurs de k (nombre de k) :\n",
    "neighbors = np.arange(1, 26)\n",
    "#\n",
    "for neighbor in neighbors:\n",
    "   knn = KNeighborsRegressor(n_neighbors=neighbor)\n",
    "   knn.fit(X1_train, y1_train)\n",
    "   train_accuracies[neighbor] = knn.score(X1_train, y1_train)\n",
    "   test_accuracies[neighbor] = knn.score(X1_test, y1_test)\n",
    "\n",
    "# Representation graphique des résulatas:\n",
    "plt.figure(figsize = (12, 6))\n",
    "plt.title(\"knn: Variation du nombre de voisins\")\n",
    "plt.plot(neighbors, train_accuracies.values(), label = \"Training Accuracy\")\n",
    "plt.plot(neighbors, test_accuracies.values(), label = \"Testing Accuracy\")\n",
    "plt.legend()\n",
    "plt.xlabel(\"Nombre de voisins\")\n",
    "plt.ylabel(\"Accuracy\")\n",
    "plt.show()"
   ]
  },
  {
   "cell_type": "markdown",
   "metadata": {
    "id": "nM1wp7Hk485c"
   },
   "source": [
    "**En se basant sur la ligne orange qui représente \"testing accuracy\" on peut choisir soit K = 3 ou K = 5.**"
   ]
  },
  {
   "cell_type": "code",
   "execution_count": 114,
   "metadata": {
    "colab": {
     "base_uri": "https://localhost:8080/",
     "height": 75
    },
    "id": "75sYAL3wrgp_",
    "outputId": "c715ca9c-b6a0-48ed-82d3-a247879aef95"
   },
   "outputs": [
    {
     "data": {
      "text/html": [
       "<style>#sk-container-id-13 {color: black;background-color: white;}#sk-container-id-13 pre{padding: 0;}#sk-container-id-13 div.sk-toggleable {background-color: white;}#sk-container-id-13 label.sk-toggleable__label {cursor: pointer;display: block;width: 100%;margin-bottom: 0;padding: 0.3em;box-sizing: border-box;text-align: center;}#sk-container-id-13 label.sk-toggleable__label-arrow:before {content: \"▸\";float: left;margin-right: 0.25em;color: #696969;}#sk-container-id-13 label.sk-toggleable__label-arrow:hover:before {color: black;}#sk-container-id-13 div.sk-estimator:hover label.sk-toggleable__label-arrow:before {color: black;}#sk-container-id-13 div.sk-toggleable__content {max-height: 0;max-width: 0;overflow: hidden;text-align: left;background-color: #f0f8ff;}#sk-container-id-13 div.sk-toggleable__content pre {margin: 0.2em;color: black;border-radius: 0.25em;background-color: #f0f8ff;}#sk-container-id-13 input.sk-toggleable__control:checked~div.sk-toggleable__content {max-height: 200px;max-width: 100%;overflow: auto;}#sk-container-id-13 input.sk-toggleable__control:checked~label.sk-toggleable__label-arrow:before {content: \"▾\";}#sk-container-id-13 div.sk-estimator input.sk-toggleable__control:checked~label.sk-toggleable__label {background-color: #d4ebff;}#sk-container-id-13 div.sk-label input.sk-toggleable__control:checked~label.sk-toggleable__label {background-color: #d4ebff;}#sk-container-id-13 input.sk-hidden--visually {border: 0;clip: rect(1px 1px 1px 1px);clip: rect(1px, 1px, 1px, 1px);height: 1px;margin: -1px;overflow: hidden;padding: 0;position: absolute;width: 1px;}#sk-container-id-13 div.sk-estimator {font-family: monospace;background-color: #f0f8ff;border: 1px dotted black;border-radius: 0.25em;box-sizing: border-box;margin-bottom: 0.5em;}#sk-container-id-13 div.sk-estimator:hover {background-color: #d4ebff;}#sk-container-id-13 div.sk-parallel-item::after {content: \"\";width: 100%;border-bottom: 1px solid gray;flex-grow: 1;}#sk-container-id-13 div.sk-label:hover label.sk-toggleable__label {background-color: #d4ebff;}#sk-container-id-13 div.sk-serial::before {content: \"\";position: absolute;border-left: 1px solid gray;box-sizing: border-box;top: 0;bottom: 0;left: 50%;z-index: 0;}#sk-container-id-13 div.sk-serial {display: flex;flex-direction: column;align-items: center;background-color: white;padding-right: 0.2em;padding-left: 0.2em;position: relative;}#sk-container-id-13 div.sk-item {position: relative;z-index: 1;}#sk-container-id-13 div.sk-parallel {display: flex;align-items: stretch;justify-content: center;background-color: white;position: relative;}#sk-container-id-13 div.sk-item::before, #sk-container-id-13 div.sk-parallel-item::before {content: \"\";position: absolute;border-left: 1px solid gray;box-sizing: border-box;top: 0;bottom: 0;left: 50%;z-index: -1;}#sk-container-id-13 div.sk-parallel-item {display: flex;flex-direction: column;z-index: 1;position: relative;background-color: white;}#sk-container-id-13 div.sk-parallel-item:first-child::after {align-self: flex-end;width: 50%;}#sk-container-id-13 div.sk-parallel-item:last-child::after {align-self: flex-start;width: 50%;}#sk-container-id-13 div.sk-parallel-item:only-child::after {width: 0;}#sk-container-id-13 div.sk-dashed-wrapped {border: 1px dashed gray;margin: 0 0.4em 0.5em 0.4em;box-sizing: border-box;padding-bottom: 0.4em;background-color: white;}#sk-container-id-13 div.sk-label label {font-family: monospace;font-weight: bold;display: inline-block;line-height: 1.2em;}#sk-container-id-13 div.sk-label-container {text-align: center;}#sk-container-id-13 div.sk-container {/* jupyter's `normalize.less` sets `[hidden] { display: none; }` but bootstrap.min.css set `[hidden] { display: none !important; }` so we also need the `!important` here to be able to override the default hidden behavior on the sphinx rendered scikit-learn.org. See: https://github.com/scikit-learn/scikit-learn/issues/21755 */display: inline-block !important;position: relative;}#sk-container-id-13 div.sk-text-repr-fallback {display: none;}</style><div id=\"sk-container-id-13\" class=\"sk-top-container\"><div class=\"sk-text-repr-fallback\"><pre>KNeighborsRegressor()</pre><b>In a Jupyter environment, please rerun this cell to show the HTML representation or trust the notebook. <br />On GitHub, the HTML representation is unable to render, please try loading this page with nbviewer.org.</b></div><div class=\"sk-container\" hidden><div class=\"sk-item\"><div class=\"sk-estimator sk-toggleable\"><input class=\"sk-toggleable__control sk-hidden--visually\" id=\"sk-estimator-id-13\" type=\"checkbox\" checked><label for=\"sk-estimator-id-13\" class=\"sk-toggleable__label sk-toggleable__label-arrow\">KNeighborsRegressor</label><div class=\"sk-toggleable__content\"><pre>KNeighborsRegressor()</pre></div></div></div></div></div>"
      ],
      "text/plain": [
       "KNeighborsRegressor()"
      ]
     },
     "execution_count": 114,
     "metadata": {},
     "output_type": "execute_result"
    }
   ],
   "source": [
    "#Importation de la librairie\n",
    "from sklearn.neighbors import KNeighborsRegressor\n",
    "\n",
    "#Création du modèle KNN\n",
    "knn_5_1 = KNeighborsRegressor() # K=5 valeure par défaut\n",
    "# Apprentissage du modèle utilisant la base d'apprentissage\n",
    "knn_5_1.fit(X1_train,y1_train)"
   ]
  },
  {
   "cell_type": "code",
   "execution_count": 115,
   "metadata": {
    "colab": {
     "base_uri": "https://localhost:8080/"
    },
    "id": "wPkRoevKrjae",
    "outputId": "7f2bc908-94fd-4ec7-89df-7b942552bf79"
   },
   "outputs": [
    {
     "data": {
      "text/plain": [
       "{'algorithm': 'auto',\n",
       " 'leaf_size': 30,\n",
       " 'metric': 'minkowski',\n",
       " 'metric_params': None,\n",
       " 'n_jobs': None,\n",
       " 'n_neighbors': 5,\n",
       " 'p': 2,\n",
       " 'weights': 'uniform'}"
      ]
     },
     "execution_count": 115,
     "metadata": {},
     "output_type": "execute_result"
    }
   ],
   "source": [
    "#Affichages des hyperparameter du modèle KNN\n",
    "knn_5_1.get_params()"
   ]
  },
  {
   "cell_type": "code",
   "execution_count": 116,
   "metadata": {
    "colab": {
     "base_uri": "https://localhost:8080/",
     "height": 75
    },
    "id": "C3SB6qBl5or1",
    "outputId": "c5f11010-c492-45db-8755-0750dcf752c7"
   },
   "outputs": [
    {
     "data": {
      "text/html": [
       "<style>#sk-container-id-14 {color: black;background-color: white;}#sk-container-id-14 pre{padding: 0;}#sk-container-id-14 div.sk-toggleable {background-color: white;}#sk-container-id-14 label.sk-toggleable__label {cursor: pointer;display: block;width: 100%;margin-bottom: 0;padding: 0.3em;box-sizing: border-box;text-align: center;}#sk-container-id-14 label.sk-toggleable__label-arrow:before {content: \"▸\";float: left;margin-right: 0.25em;color: #696969;}#sk-container-id-14 label.sk-toggleable__label-arrow:hover:before {color: black;}#sk-container-id-14 div.sk-estimator:hover label.sk-toggleable__label-arrow:before {color: black;}#sk-container-id-14 div.sk-toggleable__content {max-height: 0;max-width: 0;overflow: hidden;text-align: left;background-color: #f0f8ff;}#sk-container-id-14 div.sk-toggleable__content pre {margin: 0.2em;color: black;border-radius: 0.25em;background-color: #f0f8ff;}#sk-container-id-14 input.sk-toggleable__control:checked~div.sk-toggleable__content {max-height: 200px;max-width: 100%;overflow: auto;}#sk-container-id-14 input.sk-toggleable__control:checked~label.sk-toggleable__label-arrow:before {content: \"▾\";}#sk-container-id-14 div.sk-estimator input.sk-toggleable__control:checked~label.sk-toggleable__label {background-color: #d4ebff;}#sk-container-id-14 div.sk-label input.sk-toggleable__control:checked~label.sk-toggleable__label {background-color: #d4ebff;}#sk-container-id-14 input.sk-hidden--visually {border: 0;clip: rect(1px 1px 1px 1px);clip: rect(1px, 1px, 1px, 1px);height: 1px;margin: -1px;overflow: hidden;padding: 0;position: absolute;width: 1px;}#sk-container-id-14 div.sk-estimator {font-family: monospace;background-color: #f0f8ff;border: 1px dotted black;border-radius: 0.25em;box-sizing: border-box;margin-bottom: 0.5em;}#sk-container-id-14 div.sk-estimator:hover {background-color: #d4ebff;}#sk-container-id-14 div.sk-parallel-item::after {content: \"\";width: 100%;border-bottom: 1px solid gray;flex-grow: 1;}#sk-container-id-14 div.sk-label:hover label.sk-toggleable__label {background-color: #d4ebff;}#sk-container-id-14 div.sk-serial::before {content: \"\";position: absolute;border-left: 1px solid gray;box-sizing: border-box;top: 0;bottom: 0;left: 50%;z-index: 0;}#sk-container-id-14 div.sk-serial {display: flex;flex-direction: column;align-items: center;background-color: white;padding-right: 0.2em;padding-left: 0.2em;position: relative;}#sk-container-id-14 div.sk-item {position: relative;z-index: 1;}#sk-container-id-14 div.sk-parallel {display: flex;align-items: stretch;justify-content: center;background-color: white;position: relative;}#sk-container-id-14 div.sk-item::before, #sk-container-id-14 div.sk-parallel-item::before {content: \"\";position: absolute;border-left: 1px solid gray;box-sizing: border-box;top: 0;bottom: 0;left: 50%;z-index: -1;}#sk-container-id-14 div.sk-parallel-item {display: flex;flex-direction: column;z-index: 1;position: relative;background-color: white;}#sk-container-id-14 div.sk-parallel-item:first-child::after {align-self: flex-end;width: 50%;}#sk-container-id-14 div.sk-parallel-item:last-child::after {align-self: flex-start;width: 50%;}#sk-container-id-14 div.sk-parallel-item:only-child::after {width: 0;}#sk-container-id-14 div.sk-dashed-wrapped {border: 1px dashed gray;margin: 0 0.4em 0.5em 0.4em;box-sizing: border-box;padding-bottom: 0.4em;background-color: white;}#sk-container-id-14 div.sk-label label {font-family: monospace;font-weight: bold;display: inline-block;line-height: 1.2em;}#sk-container-id-14 div.sk-label-container {text-align: center;}#sk-container-id-14 div.sk-container {/* jupyter's `normalize.less` sets `[hidden] { display: none; }` but bootstrap.min.css set `[hidden] { display: none !important; }` so we also need the `!important` here to be able to override the default hidden behavior on the sphinx rendered scikit-learn.org. See: https://github.com/scikit-learn/scikit-learn/issues/21755 */display: inline-block !important;position: relative;}#sk-container-id-14 div.sk-text-repr-fallback {display: none;}</style><div id=\"sk-container-id-14\" class=\"sk-top-container\"><div class=\"sk-text-repr-fallback\"><pre>KNeighborsRegressor(n_neighbors=3)</pre><b>In a Jupyter environment, please rerun this cell to show the HTML representation or trust the notebook. <br />On GitHub, the HTML representation is unable to render, please try loading this page with nbviewer.org.</b></div><div class=\"sk-container\" hidden><div class=\"sk-item\"><div class=\"sk-estimator sk-toggleable\"><input class=\"sk-toggleable__control sk-hidden--visually\" id=\"sk-estimator-id-14\" type=\"checkbox\" checked><label for=\"sk-estimator-id-14\" class=\"sk-toggleable__label sk-toggleable__label-arrow\">KNeighborsRegressor</label><div class=\"sk-toggleable__content\"><pre>KNeighborsRegressor(n_neighbors=3)</pre></div></div></div></div></div>"
      ],
      "text/plain": [
       "KNeighborsRegressor(n_neighbors=3)"
      ]
     },
     "execution_count": 116,
     "metadata": {},
     "output_type": "execute_result"
    }
   ],
   "source": [
    "# Création du modèle KNN avec K=3\n",
    "knn_3_1 = KNeighborsRegressor(n_neighbors=3)\n",
    "# Apprentissage du modèle utilisant la base d'apprentissage\n",
    "knn_3_1.fit(X1_train,y1_train)"
   ]
  },
  {
   "cell_type": "markdown",
   "metadata": {
    "id": "MuQzHgttroio"
   },
   "source": [
    "### Evaluation des modèles:"
   ]
  },
  {
   "cell_type": "code",
   "execution_count": 117,
   "metadata": {
    "id": "L_rfboonk5Dg"
   },
   "outputs": [],
   "source": [
    "from sklearn.metrics import mean_squared_error\n",
    "from sklearn.metrics import mean_absolute_error"
   ]
  },
  {
   "cell_type": "markdown",
   "metadata": {
    "id": "KGjkUC7XsGC3"
   },
   "source": [
    "### Evaluation du modèle Arbre de décision:"
   ]
  },
  {
   "cell_type": "code",
   "execution_count": 118,
   "metadata": {
    "id": "DB6p9QLb7EPp"
   },
   "outputs": [],
   "source": [
    "# Prédiction de y utilisant le modèle arbre de décision\n",
    "pred_tree1= tree1.predict(X1_test)"
   ]
  },
  {
   "cell_type": "code",
   "execution_count": 119,
   "metadata": {
    "colab": {
     "base_uri": "https://localhost:8080/"
    },
    "id": "VIDkoc8D7Eat",
    "outputId": "1299f90e-9cdb-4668-cec7-066302b3cd33"
   },
   "outputs": [
    {
     "name": "stdout",
     "output_type": "stream",
     "text": [
      "MAE Modèle TREE= 19.527320346320344\n",
      "MSE Modèle TREE= 3199.318648478354\n",
      "RMSE Modèle TREE= 56.56251982079966\n",
      "R=  0.9764951726070256\n",
      "R²=  0.9535428221248247\n"
     ]
    }
   ],
   "source": [
    "# Clacul de MAE, MSE, RMSE, R et R²\n",
    "mae_TREE = mean_absolute_error(y1_test, pred_tree1)\n",
    "mse_TREE = mean_squared_error(y1_test, pred_tree1)\n",
    "rmse_TREE= np.sqrt(mse_TREE)\n",
    "r2_score = tree1.score(X1_test, y1_test)\n",
    "r_score = np.sqrt(r2_score)\n",
    "print (\"MAE Modèle TREE=\", mae_TREE)\n",
    "print (\"MSE Modèle TREE=\", mse_TREE)\n",
    "print(\"RMSE Modèle TREE=\" , rmse_TREE)\n",
    "print(\"R= \", r_score)\n",
    "print(\"R²= \", r2_score)"
   ]
  },
  {
   "cell_type": "markdown",
   "metadata": {
    "id": "6h5rYiV7sRJU"
   },
   "source": [
    "### Evaluation du modèle KNN:"
   ]
  },
  {
   "cell_type": "code",
   "execution_count": 120,
   "metadata": {
    "id": "4LJxA5YOqnAU"
   },
   "outputs": [],
   "source": [
    "# Prédiction de y utilisant les modèles KNN (K=5 et K=3)\n",
    "pred_5_1 = knn_5_1.predict(X1_test)\n",
    "pred_3_1 = knn_3_1.predict(X1_test)"
   ]
  },
  {
   "cell_type": "code",
   "execution_count": 121,
   "metadata": {
    "colab": {
     "base_uri": "https://localhost:8080/"
    },
    "id": "_VOBOBb0qnIH",
    "outputId": "9465f243-d471-4410-b79c-42bb507c908a"
   },
   "outputs": [
    {
     "name": "stdout",
     "output_type": "stream",
     "text": [
      "MAE KNN (K=5)= 20.656520346320352\n",
      "MSE KNN (K=5)= 3054.381512921732\n",
      "RMSE KNN (K=5)= 55.26645920376781\n",
      "R=  0.9775722216090144\n",
      "R²=  0.9556474484615838\n"
     ]
    }
   ],
   "source": [
    "# Clacul de MAE, MSE, RMSE, R et R² pour le modèle KNN (K = 5)\n",
    "mae_KNN_5_1 = mean_absolute_error(y1_test, pred_5_1)\n",
    "mse_KNN_5_1 = mean_squared_error(y1_test, pred_5_1)\n",
    "rmse_KNN_5_1 = np.sqrt(mse_KNN_5_1)\n",
    "r2_score = knn_5_1.score(X1_test, y1_test)\n",
    "r_score = np.sqrt(r2_score)\n",
    "print (\"MAE KNN (K=5)=\", mae_KNN_5_1)\n",
    "print (\"MSE KNN (K=5)=\", mse_KNN_5_1)\n",
    "print(\"RMSE KNN (K=5)=\" , rmse_KNN_5_1)\n",
    "print(\"R= \", r_score)\n",
    "print(\"R²= \", r2_score)"
   ]
  },
  {
   "cell_type": "code",
   "execution_count": 122,
   "metadata": {
    "colab": {
     "base_uri": "https://localhost:8080/"
    },
    "id": "JLgcWClIqnWy",
    "outputId": "2ca8fed0-5540-4f1c-d5ad-be3fd6cccee2"
   },
   "outputs": [
    {
     "name": "stdout",
     "output_type": "stream",
     "text": [
      "MAE KNN (K=3)= 21.023178932178936\n",
      "MSE KNN (K=3)= 3160.142493614718\n",
      "RMSE KNN (K=3)= 56.21514469975789\n",
      "R=  0.9767864134494978\n",
      "R²=  0.9541116974995332\n"
     ]
    }
   ],
   "source": [
    "# Clacul de MAE, MSE, RMSE, R et R² pour le modèle KNN (K = 3)\n",
    "mae_KNN_3_1 = mean_absolute_error(y1_test, pred_3_1)\n",
    "mse_KNN_3_1 = mean_squared_error(y1_test, pred_3_1)\n",
    "rmse_KNN_3_1 = np.sqrt(mse_KNN_3_1)\n",
    "r2_score = knn_3_1.score(X1_test, y1_test)\n",
    "r_score = np.sqrt(r2_score)\n",
    "print (\"MAE KNN (K=3)=\", mae_KNN_3_1)\n",
    "print (\"MSE KNN (K=3)=\", mse_KNN_3_1)\n",
    "print(\"RMSE KNN (K=3)=\" , rmse_KNN_3_1)\n",
    "print(\"R= \", r_score)\n",
    "print(\"R²= \", r2_score)"
   ]
  },
  {
   "cell_type": "markdown",
   "metadata": {
    "id": "SY9MXZjU6ll9"
   },
   "source": [
    "#### Conclusion :\n",
    "**En se basant sur les métriques d'évaluation des modèles KNN avec k = 5 et k = 3, on peut conclure que le modèle KNN avec k = 5 est meilleur que le modèle avec k = 3.**"
   ]
  },
  {
   "cell_type": "markdown",
   "metadata": {
    "id": "29lrAFFxrkhr"
   },
   "source": [
    "* **Maintenant, nous allons effectuer la même démarche pour les autres variables**"
   ]
  },
  {
   "cell_type": "code",
   "execution_count": 123,
   "metadata": {
    "colab": {
     "base_uri": "https://localhost:8080/"
    },
    "id": "60dW9HumsDsN",
    "outputId": "b4fbc1ae-7d70-44be-9380-cb652a6925dd"
   },
   "outputs": [
    {
     "data": {
      "text/plain": [
       "Index(['Date', 'Ventes_ p1 ', 'Demande_P1', 'Ventes_ p2', 'Demande_p2',\n",
       "       'Ventes_p3', 'Demande_p3', 'Ventes_p4', 'Demande_ p4'],\n",
       "      dtype='object')"
      ]
     },
     "execution_count": 123,
     "metadata": {},
     "output_type": "execute_result"
    }
   ],
   "source": [
    "df.columns"
   ]
  },
  {
   "cell_type": "code",
   "execution_count": 124,
   "metadata": {
    "id": "Fb-07WoZrv1m"
   },
   "outputs": [],
   "source": [
    "#On commence par \"Ventes_p2\" et \"demande_P2\":\n",
    "X_2 = df['Demande_p2']\n",
    "y_2 = df['Ventes_ p2']"
   ]
  },
  {
   "cell_type": "markdown",
   "metadata": {
    "id": "zrP0LnFasoap"
   },
   "source": [
    "* **Diviser la base en un ensemble d'apprentissage et un ensemble de test (80 pour l'apprentissage et 20% pour le test)**"
   ]
  },
  {
   "cell_type": "code",
   "execution_count": 125,
   "metadata": {
    "id": "1rLS58Exsqc7"
   },
   "outputs": [],
   "source": [
    "from sklearn import model_selection\n",
    "X2_train, X2_test, y2_train, y2_test = model_selection.train_test_split(X_2, y_2, test_size = 0.20, random_state = 42)"
   ]
  },
  {
   "cell_type": "code",
   "execution_count": 126,
   "metadata": {
    "colab": {
     "base_uri": "https://localhost:8080/"
    },
    "id": "YSRSC-OatCpv",
    "outputId": "1e3f7953-6d90-4792-9b0d-9f2569f6a2a0"
   },
   "outputs": [
    {
     "data": {
      "text/plain": [
       "((924,), (924,), (231,), (231,))"
      ]
     },
     "execution_count": 126,
     "metadata": {},
     "output_type": "execute_result"
    }
   ],
   "source": [
    "# Verification après la division du base:\n",
    "X2_train.shape , y2_train.shape, X2_test.shape, y2_test.shape"
   ]
  },
  {
   "cell_type": "code",
   "execution_count": 127,
   "metadata": {
    "id": "CPUeFB7HtF_Y"
   },
   "outputs": [],
   "source": [
    "#Remodelage des données d'entraînement et de test\n",
    "X2_train = np.array(X2_train).reshape(-1, 1)\n",
    "y2_train = np.array(y2_train).reshape(-1, 1)\n",
    "X2_test = np.array(X2_test).reshape(-1, 1)\n",
    "y2_test = np.array(y2_test).reshape(-1, 1)"
   ]
  },
  {
   "cell_type": "markdown",
   "metadata": {
    "id": "SM-jaX-ztjUd"
   },
   "source": [
    "### Modèle de régression utilisant  les arbres de décision:"
   ]
  },
  {
   "cell_type": "code",
   "execution_count": 128,
   "metadata": {
    "colab": {
     "base_uri": "https://localhost:8080/",
     "height": 75
    },
    "id": "yxgARzletlAD",
    "outputId": "35352717-a8dd-4fac-92e4-c3df2d294abd"
   },
   "outputs": [
    {
     "data": {
      "text/html": [
       "<style>#sk-container-id-15 {color: black;background-color: white;}#sk-container-id-15 pre{padding: 0;}#sk-container-id-15 div.sk-toggleable {background-color: white;}#sk-container-id-15 label.sk-toggleable__label {cursor: pointer;display: block;width: 100%;margin-bottom: 0;padding: 0.3em;box-sizing: border-box;text-align: center;}#sk-container-id-15 label.sk-toggleable__label-arrow:before {content: \"▸\";float: left;margin-right: 0.25em;color: #696969;}#sk-container-id-15 label.sk-toggleable__label-arrow:hover:before {color: black;}#sk-container-id-15 div.sk-estimator:hover label.sk-toggleable__label-arrow:before {color: black;}#sk-container-id-15 div.sk-toggleable__content {max-height: 0;max-width: 0;overflow: hidden;text-align: left;background-color: #f0f8ff;}#sk-container-id-15 div.sk-toggleable__content pre {margin: 0.2em;color: black;border-radius: 0.25em;background-color: #f0f8ff;}#sk-container-id-15 input.sk-toggleable__control:checked~div.sk-toggleable__content {max-height: 200px;max-width: 100%;overflow: auto;}#sk-container-id-15 input.sk-toggleable__control:checked~label.sk-toggleable__label-arrow:before {content: \"▾\";}#sk-container-id-15 div.sk-estimator input.sk-toggleable__control:checked~label.sk-toggleable__label {background-color: #d4ebff;}#sk-container-id-15 div.sk-label input.sk-toggleable__control:checked~label.sk-toggleable__label {background-color: #d4ebff;}#sk-container-id-15 input.sk-hidden--visually {border: 0;clip: rect(1px 1px 1px 1px);clip: rect(1px, 1px, 1px, 1px);height: 1px;margin: -1px;overflow: hidden;padding: 0;position: absolute;width: 1px;}#sk-container-id-15 div.sk-estimator {font-family: monospace;background-color: #f0f8ff;border: 1px dotted black;border-radius: 0.25em;box-sizing: border-box;margin-bottom: 0.5em;}#sk-container-id-15 div.sk-estimator:hover {background-color: #d4ebff;}#sk-container-id-15 div.sk-parallel-item::after {content: \"\";width: 100%;border-bottom: 1px solid gray;flex-grow: 1;}#sk-container-id-15 div.sk-label:hover label.sk-toggleable__label {background-color: #d4ebff;}#sk-container-id-15 div.sk-serial::before {content: \"\";position: absolute;border-left: 1px solid gray;box-sizing: border-box;top: 0;bottom: 0;left: 50%;z-index: 0;}#sk-container-id-15 div.sk-serial {display: flex;flex-direction: column;align-items: center;background-color: white;padding-right: 0.2em;padding-left: 0.2em;position: relative;}#sk-container-id-15 div.sk-item {position: relative;z-index: 1;}#sk-container-id-15 div.sk-parallel {display: flex;align-items: stretch;justify-content: center;background-color: white;position: relative;}#sk-container-id-15 div.sk-item::before, #sk-container-id-15 div.sk-parallel-item::before {content: \"\";position: absolute;border-left: 1px solid gray;box-sizing: border-box;top: 0;bottom: 0;left: 50%;z-index: -1;}#sk-container-id-15 div.sk-parallel-item {display: flex;flex-direction: column;z-index: 1;position: relative;background-color: white;}#sk-container-id-15 div.sk-parallel-item:first-child::after {align-self: flex-end;width: 50%;}#sk-container-id-15 div.sk-parallel-item:last-child::after {align-self: flex-start;width: 50%;}#sk-container-id-15 div.sk-parallel-item:only-child::after {width: 0;}#sk-container-id-15 div.sk-dashed-wrapped {border: 1px dashed gray;margin: 0 0.4em 0.5em 0.4em;box-sizing: border-box;padding-bottom: 0.4em;background-color: white;}#sk-container-id-15 div.sk-label label {font-family: monospace;font-weight: bold;display: inline-block;line-height: 1.2em;}#sk-container-id-15 div.sk-label-container {text-align: center;}#sk-container-id-15 div.sk-container {/* jupyter's `normalize.less` sets `[hidden] { display: none; }` but bootstrap.min.css set `[hidden] { display: none !important; }` so we also need the `!important` here to be able to override the default hidden behavior on the sphinx rendered scikit-learn.org. See: https://github.com/scikit-learn/scikit-learn/issues/21755 */display: inline-block !important;position: relative;}#sk-container-id-15 div.sk-text-repr-fallback {display: none;}</style><div id=\"sk-container-id-15\" class=\"sk-top-container\"><div class=\"sk-text-repr-fallback\"><pre>DecisionTreeRegressor()</pre><b>In a Jupyter environment, please rerun this cell to show the HTML representation or trust the notebook. <br />On GitHub, the HTML representation is unable to render, please try loading this page with nbviewer.org.</b></div><div class=\"sk-container\" hidden><div class=\"sk-item\"><div class=\"sk-estimator sk-toggleable\"><input class=\"sk-toggleable__control sk-hidden--visually\" id=\"sk-estimator-id-15\" type=\"checkbox\" checked><label for=\"sk-estimator-id-15\" class=\"sk-toggleable__label sk-toggleable__label-arrow\">DecisionTreeRegressor</label><div class=\"sk-toggleable__content\"><pre>DecisionTreeRegressor()</pre></div></div></div></div></div>"
      ],
      "text/plain": [
       "DecisionTreeRegressor()"
      ]
     },
     "execution_count": 128,
     "metadata": {},
     "output_type": "execute_result"
    }
   ],
   "source": [
    "#Importation de la librairie\n",
    "from sklearn.tree import DecisionTreeRegressor\n",
    "# Création du modèle Arbre de décision\n",
    "tree2 = DecisionTreeRegressor()\n",
    "# Apprentissage du modèle utilisant la base d'apprentissage\n",
    "tree2.fit(X2_train,y2_train)"
   ]
  },
  {
   "cell_type": "markdown",
   "metadata": {
    "id": "skl3Mio8t0qk"
   },
   "source": [
    "### Modèle de régression utilisant K-nearest neighbors (kNN):"
   ]
  },
  {
   "cell_type": "markdown",
   "metadata": {
    "id": "sc5Bbuggt3FI"
   },
   "source": [
    "D'après l'exemple précédent, nous avons constaté que le modèle KNN avec k = 5 est meilleur que le modèle avec k = 3. Par conséquent, dans cette étape, nous avons choisi le modèle en fixant k = 5."
   ]
  },
  {
   "cell_type": "code",
   "execution_count": 129,
   "metadata": {
    "colab": {
     "base_uri": "https://localhost:8080/",
     "height": 75
    },
    "id": "5lG28meAt5zN",
    "outputId": "e4d72e17-410c-4965-9d00-5ea021b12c50"
   },
   "outputs": [
    {
     "data": {
      "text/html": [
       "<style>#sk-container-id-16 {color: black;background-color: white;}#sk-container-id-16 pre{padding: 0;}#sk-container-id-16 div.sk-toggleable {background-color: white;}#sk-container-id-16 label.sk-toggleable__label {cursor: pointer;display: block;width: 100%;margin-bottom: 0;padding: 0.3em;box-sizing: border-box;text-align: center;}#sk-container-id-16 label.sk-toggleable__label-arrow:before {content: \"▸\";float: left;margin-right: 0.25em;color: #696969;}#sk-container-id-16 label.sk-toggleable__label-arrow:hover:before {color: black;}#sk-container-id-16 div.sk-estimator:hover label.sk-toggleable__label-arrow:before {color: black;}#sk-container-id-16 div.sk-toggleable__content {max-height: 0;max-width: 0;overflow: hidden;text-align: left;background-color: #f0f8ff;}#sk-container-id-16 div.sk-toggleable__content pre {margin: 0.2em;color: black;border-radius: 0.25em;background-color: #f0f8ff;}#sk-container-id-16 input.sk-toggleable__control:checked~div.sk-toggleable__content {max-height: 200px;max-width: 100%;overflow: auto;}#sk-container-id-16 input.sk-toggleable__control:checked~label.sk-toggleable__label-arrow:before {content: \"▾\";}#sk-container-id-16 div.sk-estimator input.sk-toggleable__control:checked~label.sk-toggleable__label {background-color: #d4ebff;}#sk-container-id-16 div.sk-label input.sk-toggleable__control:checked~label.sk-toggleable__label {background-color: #d4ebff;}#sk-container-id-16 input.sk-hidden--visually {border: 0;clip: rect(1px 1px 1px 1px);clip: rect(1px, 1px, 1px, 1px);height: 1px;margin: -1px;overflow: hidden;padding: 0;position: absolute;width: 1px;}#sk-container-id-16 div.sk-estimator {font-family: monospace;background-color: #f0f8ff;border: 1px dotted black;border-radius: 0.25em;box-sizing: border-box;margin-bottom: 0.5em;}#sk-container-id-16 div.sk-estimator:hover {background-color: #d4ebff;}#sk-container-id-16 div.sk-parallel-item::after {content: \"\";width: 100%;border-bottom: 1px solid gray;flex-grow: 1;}#sk-container-id-16 div.sk-label:hover label.sk-toggleable__label {background-color: #d4ebff;}#sk-container-id-16 div.sk-serial::before {content: \"\";position: absolute;border-left: 1px solid gray;box-sizing: border-box;top: 0;bottom: 0;left: 50%;z-index: 0;}#sk-container-id-16 div.sk-serial {display: flex;flex-direction: column;align-items: center;background-color: white;padding-right: 0.2em;padding-left: 0.2em;position: relative;}#sk-container-id-16 div.sk-item {position: relative;z-index: 1;}#sk-container-id-16 div.sk-parallel {display: flex;align-items: stretch;justify-content: center;background-color: white;position: relative;}#sk-container-id-16 div.sk-item::before, #sk-container-id-16 div.sk-parallel-item::before {content: \"\";position: absolute;border-left: 1px solid gray;box-sizing: border-box;top: 0;bottom: 0;left: 50%;z-index: -1;}#sk-container-id-16 div.sk-parallel-item {display: flex;flex-direction: column;z-index: 1;position: relative;background-color: white;}#sk-container-id-16 div.sk-parallel-item:first-child::after {align-self: flex-end;width: 50%;}#sk-container-id-16 div.sk-parallel-item:last-child::after {align-self: flex-start;width: 50%;}#sk-container-id-16 div.sk-parallel-item:only-child::after {width: 0;}#sk-container-id-16 div.sk-dashed-wrapped {border: 1px dashed gray;margin: 0 0.4em 0.5em 0.4em;box-sizing: border-box;padding-bottom: 0.4em;background-color: white;}#sk-container-id-16 div.sk-label label {font-family: monospace;font-weight: bold;display: inline-block;line-height: 1.2em;}#sk-container-id-16 div.sk-label-container {text-align: center;}#sk-container-id-16 div.sk-container {/* jupyter's `normalize.less` sets `[hidden] { display: none; }` but bootstrap.min.css set `[hidden] { display: none !important; }` so we also need the `!important` here to be able to override the default hidden behavior on the sphinx rendered scikit-learn.org. See: https://github.com/scikit-learn/scikit-learn/issues/21755 */display: inline-block !important;position: relative;}#sk-container-id-16 div.sk-text-repr-fallback {display: none;}</style><div id=\"sk-container-id-16\" class=\"sk-top-container\"><div class=\"sk-text-repr-fallback\"><pre>KNeighborsRegressor()</pre><b>In a Jupyter environment, please rerun this cell to show the HTML representation or trust the notebook. <br />On GitHub, the HTML representation is unable to render, please try loading this page with nbviewer.org.</b></div><div class=\"sk-container\" hidden><div class=\"sk-item\"><div class=\"sk-estimator sk-toggleable\"><input class=\"sk-toggleable__control sk-hidden--visually\" id=\"sk-estimator-id-16\" type=\"checkbox\" checked><label for=\"sk-estimator-id-16\" class=\"sk-toggleable__label sk-toggleable__label-arrow\">KNeighborsRegressor</label><div class=\"sk-toggleable__content\"><pre>KNeighborsRegressor()</pre></div></div></div></div></div>"
      ],
      "text/plain": [
       "KNeighborsRegressor()"
      ]
     },
     "execution_count": 129,
     "metadata": {},
     "output_type": "execute_result"
    }
   ],
   "source": [
    "#Importation de la librairie\n",
    "from sklearn.neighbors import KNeighborsRegressor\n",
    "\n",
    "#Création du modèle KNN\n",
    "knn_2 = KNeighborsRegressor() # K=5 valeur par défaut\n",
    "# Apprentissage du modèle utilisant la base d'apprentissage\n",
    "knn_2.fit(X2_train,y2_train)"
   ]
  },
  {
   "cell_type": "code",
   "execution_count": 130,
   "metadata": {
    "colab": {
     "base_uri": "https://localhost:8080/"
    },
    "id": "mIX221R3t-zc",
    "outputId": "461c3df4-3696-4f36-f54e-5eee42cd85cd"
   },
   "outputs": [
    {
     "data": {
      "text/plain": [
       "{'algorithm': 'auto',\n",
       " 'leaf_size': 30,\n",
       " 'metric': 'minkowski',\n",
       " 'metric_params': None,\n",
       " 'n_jobs': None,\n",
       " 'n_neighbors': 5,\n",
       " 'p': 2,\n",
       " 'weights': 'uniform'}"
      ]
     },
     "execution_count": 130,
     "metadata": {},
     "output_type": "execute_result"
    }
   ],
   "source": [
    "#Affichages des hyperparameter du modèle KNN\n",
    "knn_2.get_params()"
   ]
  },
  {
   "cell_type": "markdown",
   "metadata": {
    "id": "WknhOkqRuOG2"
   },
   "source": [
    "### Evaluation des modèles:"
   ]
  },
  {
   "cell_type": "code",
   "execution_count": 131,
   "metadata": {
    "id": "K2BtVciUusGb"
   },
   "outputs": [],
   "source": [
    "from sklearn.metrics import mean_squared_error\n",
    "from sklearn.metrics import mean_absolute_error"
   ]
  },
  {
   "cell_type": "markdown",
   "metadata": {
    "id": "1h9K7B9uuu7V"
   },
   "source": [
    "* **Evaluation du modèle Arbre de décision:**"
   ]
  },
  {
   "cell_type": "code",
   "execution_count": 132,
   "metadata": {
    "id": "OLT8_ZOeuw-6"
   },
   "outputs": [],
   "source": [
    "# Prédiction de y utilisant le modèle arbre de décision\n",
    "pred_tree_2= tree2.predict(X1_test)"
   ]
  },
  {
   "cell_type": "code",
   "execution_count": 133,
   "metadata": {
    "colab": {
     "base_uri": "https://localhost:8080/"
    },
    "id": "C3E2ELHqu0vR",
    "outputId": "889cb855-1b4f-4d97-ec9f-1d6c66404fc1"
   },
   "outputs": [
    {
     "name": "stdout",
     "output_type": "stream",
     "text": [
      "MAE Modèle TREE= 368.0846911732336\n",
      "MSE Modèle TREE= 235200.27657153804\n",
      "RMSE Modèle TREE= 484.9745112596517\n",
      "R=  0.9663324948147831\n",
      "R²=  0.9337984905349629\n"
     ]
    }
   ],
   "source": [
    "# Clacul de MAE, MSE, RMSE, R et R²\n",
    "mae_TREE = mean_absolute_error(y2_test, pred_tree_2)\n",
    "mse_TREE = mean_squared_error(y2_test, pred_tree_2)\n",
    "rmse_TREE= np.sqrt(mse_TREE)\n",
    "r2_score = tree2.score(X2_test, y2_test)\n",
    "r_score = np.sqrt(r2_score)\n",
    "print (\"MAE Modèle TREE=\", mae_TREE)\n",
    "print (\"MSE Modèle TREE=\", mse_TREE)\n",
    "print(\"RMSE Modèle TREE=\" , rmse_TREE)\n",
    "print(\"R= \", r_score)\n",
    "print(\"R²= \", r2_score)"
   ]
  },
  {
   "cell_type": "markdown",
   "metadata": {
    "id": "XneN-6wBvJ5I"
   },
   "source": [
    "* **Evaluation du modèle KNN:**"
   ]
  },
  {
   "cell_type": "code",
   "execution_count": 134,
   "metadata": {
    "id": "FMqFYaKuvLvC"
   },
   "outputs": [],
   "source": [
    "# Prédiction de y utilisant le modèle arbre de décision\n",
    "pred_2 = knn_2.predict(X2_test)"
   ]
  },
  {
   "cell_type": "code",
   "execution_count": 135,
   "metadata": {
    "colab": {
     "base_uri": "https://localhost:8080/"
    },
    "id": "sAFbP4hcvPou",
    "outputId": "30d80294-0bf0-408b-e514-bbc4f7ddef4b"
   },
   "outputs": [
    {
     "name": "stdout",
     "output_type": "stream",
     "text": [
      "MAE KNN (K=5)= 52.37927619047618\n",
      "MSE KNN (K=5)= 21240.994147946316\n",
      "RMSE KNN (K=5)= 145.74290427992133\n",
      "R=  0.9654130655952027\n",
      "R²=  0.9320223872219271\n"
     ]
    }
   ],
   "source": [
    "# Clacul de MAE, MSE, RMSE, R et R² pour le modèle KNN (K = 5)\n",
    "mae_KNN_2 = mean_absolute_error(y2_test, pred_2)\n",
    "mse_KNN_2 = mean_squared_error(y2_test, pred_2)\n",
    "rmse_KNN_2 = np.sqrt(mse_KNN_2)\n",
    "r2_score = knn_2.score(X2_test, y2_test)\n",
    "r_score = np.sqrt(r2_score)\n",
    "print (\"MAE KNN (K=5)=\", mae_KNN_2)\n",
    "print (\"MSE KNN (K=5)=\", mse_KNN_2)\n",
    "print(\"RMSE KNN (K=5)=\" , rmse_KNN_2)\n",
    "print(\"R= \", r_score)\n",
    "print(\"R²= \", r2_score)"
   ]
  },
  {
   "cell_type": "markdown",
   "metadata": {
    "id": "qHJdJhX3wTjb"
   },
   "source": []
  },
  {
   "cell_type": "markdown",
   "metadata": {
    "id": "QeZ_qgYZwVkD"
   },
   "source": [
    "**Alors maintenant, nous allons créer des modèles d'arbre de décision et de modèle KNN pour prédire les ventes du produit P3 en fonction de sa demande**."
   ]
  },
  {
   "cell_type": "code",
   "execution_count": 136,
   "metadata": {
    "colab": {
     "base_uri": "https://localhost:8080/"
    },
    "id": "DB0jkvYL17jF",
    "outputId": "92d393d4-58f5-4e39-aed9-7c73de2fad4b"
   },
   "outputs": [
    {
     "data": {
      "text/plain": [
       "Index(['Date', 'Ventes_ p1 ', 'Demande_P1', 'Ventes_ p2', 'Demande_p2',\n",
       "       'Ventes_p3', 'Demande_p3', 'Ventes_p4', 'Demande_ p4'],\n",
       "      dtype='object')"
      ]
     },
     "execution_count": 136,
     "metadata": {},
     "output_type": "execute_result"
    }
   ],
   "source": [
    "df.columns"
   ]
  },
  {
   "cell_type": "code",
   "execution_count": 137,
   "metadata": {
    "id": "AYu-q0_p1mSn"
   },
   "outputs": [],
   "source": [
    "#On commence par \"Ventes_p3\" et \"demande_P3\":\n",
    "X_3 = df['Demande_p3']\n",
    "y_3 = df['Ventes_p3']"
   ]
  },
  {
   "cell_type": "markdown",
   "metadata": {
    "id": "DH9z5oV__UN-"
   },
   "source": [
    "***Diviser la base en un ensemble d'apprentissage et un ensemble de test (80 pour l'apprentissage et 20% pour le test)***"
   ]
  },
  {
   "cell_type": "code",
   "execution_count": 138,
   "metadata": {
    "id": "ciOzL-rv_YzG"
   },
   "outputs": [],
   "source": [
    "from sklearn import model_selection\n",
    "X3_train, X3_test, y3_train, y3_test = model_selection.train_test_split(X_3, y_3, test_size = 0.20, random_state = 42)"
   ]
  },
  {
   "cell_type": "code",
   "execution_count": 139,
   "metadata": {
    "colab": {
     "base_uri": "https://localhost:8080/"
    },
    "id": "1Q9M04L6_t3t",
    "outputId": "79fa2826-c704-442c-c25b-05678b71b307"
   },
   "outputs": [
    {
     "data": {
      "text/plain": [
       "((924,), (924,), (231,), (231,))"
      ]
     },
     "execution_count": 139,
     "metadata": {},
     "output_type": "execute_result"
    }
   ],
   "source": [
    "# Verification après la division du base:\n",
    "X3_train.shape , y3_train.shape, X3_test.shape, y3_test.shape"
   ]
  },
  {
   "cell_type": "code",
   "execution_count": 140,
   "metadata": {
    "id": "xyavFILT_8Qo"
   },
   "outputs": [],
   "source": [
    "#Remodelage des données d'entraînement et de test\n",
    "X3_train = np.array(X3_train).reshape(-1, 1)\n",
    "y3_train = np.array(y3_train).reshape(-1, 1)\n",
    "X3_test = np.array(X3_test).reshape(-1, 1)\n",
    "y3_test = np.array(y3_test).reshape(-1, 1)"
   ]
  },
  {
   "cell_type": "markdown",
   "metadata": {
    "id": "SB39xc1wATxJ"
   },
   "source": [
    "### Modèle de régression utilisant  les arbres de décision:"
   ]
  },
  {
   "cell_type": "code",
   "execution_count": 141,
   "metadata": {
    "colab": {
     "base_uri": "https://localhost:8080/",
     "height": 75
    },
    "id": "93_c5Y5hAZ6n",
    "outputId": "ba04b89a-5ad2-45ab-baef-7b5218c23ea9"
   },
   "outputs": [
    {
     "data": {
      "text/html": [
       "<style>#sk-container-id-17 {color: black;background-color: white;}#sk-container-id-17 pre{padding: 0;}#sk-container-id-17 div.sk-toggleable {background-color: white;}#sk-container-id-17 label.sk-toggleable__label {cursor: pointer;display: block;width: 100%;margin-bottom: 0;padding: 0.3em;box-sizing: border-box;text-align: center;}#sk-container-id-17 label.sk-toggleable__label-arrow:before {content: \"▸\";float: left;margin-right: 0.25em;color: #696969;}#sk-container-id-17 label.sk-toggleable__label-arrow:hover:before {color: black;}#sk-container-id-17 div.sk-estimator:hover label.sk-toggleable__label-arrow:before {color: black;}#sk-container-id-17 div.sk-toggleable__content {max-height: 0;max-width: 0;overflow: hidden;text-align: left;background-color: #f0f8ff;}#sk-container-id-17 div.sk-toggleable__content pre {margin: 0.2em;color: black;border-radius: 0.25em;background-color: #f0f8ff;}#sk-container-id-17 input.sk-toggleable__control:checked~div.sk-toggleable__content {max-height: 200px;max-width: 100%;overflow: auto;}#sk-container-id-17 input.sk-toggleable__control:checked~label.sk-toggleable__label-arrow:before {content: \"▾\";}#sk-container-id-17 div.sk-estimator input.sk-toggleable__control:checked~label.sk-toggleable__label {background-color: #d4ebff;}#sk-container-id-17 div.sk-label input.sk-toggleable__control:checked~label.sk-toggleable__label {background-color: #d4ebff;}#sk-container-id-17 input.sk-hidden--visually {border: 0;clip: rect(1px 1px 1px 1px);clip: rect(1px, 1px, 1px, 1px);height: 1px;margin: -1px;overflow: hidden;padding: 0;position: absolute;width: 1px;}#sk-container-id-17 div.sk-estimator {font-family: monospace;background-color: #f0f8ff;border: 1px dotted black;border-radius: 0.25em;box-sizing: border-box;margin-bottom: 0.5em;}#sk-container-id-17 div.sk-estimator:hover {background-color: #d4ebff;}#sk-container-id-17 div.sk-parallel-item::after {content: \"\";width: 100%;border-bottom: 1px solid gray;flex-grow: 1;}#sk-container-id-17 div.sk-label:hover label.sk-toggleable__label {background-color: #d4ebff;}#sk-container-id-17 div.sk-serial::before {content: \"\";position: absolute;border-left: 1px solid gray;box-sizing: border-box;top: 0;bottom: 0;left: 50%;z-index: 0;}#sk-container-id-17 div.sk-serial {display: flex;flex-direction: column;align-items: center;background-color: white;padding-right: 0.2em;padding-left: 0.2em;position: relative;}#sk-container-id-17 div.sk-item {position: relative;z-index: 1;}#sk-container-id-17 div.sk-parallel {display: flex;align-items: stretch;justify-content: center;background-color: white;position: relative;}#sk-container-id-17 div.sk-item::before, #sk-container-id-17 div.sk-parallel-item::before {content: \"\";position: absolute;border-left: 1px solid gray;box-sizing: border-box;top: 0;bottom: 0;left: 50%;z-index: -1;}#sk-container-id-17 div.sk-parallel-item {display: flex;flex-direction: column;z-index: 1;position: relative;background-color: white;}#sk-container-id-17 div.sk-parallel-item:first-child::after {align-self: flex-end;width: 50%;}#sk-container-id-17 div.sk-parallel-item:last-child::after {align-self: flex-start;width: 50%;}#sk-container-id-17 div.sk-parallel-item:only-child::after {width: 0;}#sk-container-id-17 div.sk-dashed-wrapped {border: 1px dashed gray;margin: 0 0.4em 0.5em 0.4em;box-sizing: border-box;padding-bottom: 0.4em;background-color: white;}#sk-container-id-17 div.sk-label label {font-family: monospace;font-weight: bold;display: inline-block;line-height: 1.2em;}#sk-container-id-17 div.sk-label-container {text-align: center;}#sk-container-id-17 div.sk-container {/* jupyter's `normalize.less` sets `[hidden] { display: none; }` but bootstrap.min.css set `[hidden] { display: none !important; }` so we also need the `!important` here to be able to override the default hidden behavior on the sphinx rendered scikit-learn.org. See: https://github.com/scikit-learn/scikit-learn/issues/21755 */display: inline-block !important;position: relative;}#sk-container-id-17 div.sk-text-repr-fallback {display: none;}</style><div id=\"sk-container-id-17\" class=\"sk-top-container\"><div class=\"sk-text-repr-fallback\"><pre>DecisionTreeRegressor()</pre><b>In a Jupyter environment, please rerun this cell to show the HTML representation or trust the notebook. <br />On GitHub, the HTML representation is unable to render, please try loading this page with nbviewer.org.</b></div><div class=\"sk-container\" hidden><div class=\"sk-item\"><div class=\"sk-estimator sk-toggleable\"><input class=\"sk-toggleable__control sk-hidden--visually\" id=\"sk-estimator-id-17\" type=\"checkbox\" checked><label for=\"sk-estimator-id-17\" class=\"sk-toggleable__label sk-toggleable__label-arrow\">DecisionTreeRegressor</label><div class=\"sk-toggleable__content\"><pre>DecisionTreeRegressor()</pre></div></div></div></div></div>"
      ],
      "text/plain": [
       "DecisionTreeRegressor()"
      ]
     },
     "execution_count": 141,
     "metadata": {},
     "output_type": "execute_result"
    }
   ],
   "source": [
    "#Importation de la librairie\n",
    "from sklearn.tree import DecisionTreeRegressor\n",
    "# Création du modèle Arbre de décision\n",
    "tree3 = DecisionTreeRegressor()\n",
    "# Apprentissage du modèle utilisant la base d'apprentissage\n",
    "tree3.fit(X3_train,y3_train)"
   ]
  },
  {
   "cell_type": "markdown",
   "metadata": {
    "id": "CFCIyhH7A8T0"
   },
   "source": [
    "### Modèle de régression utilisant K-nearest neighbors (kNN):"
   ]
  },
  {
   "cell_type": "markdown",
   "metadata": {
    "id": "CsmaJ1HdBPk3"
   },
   "source": [
    "*D'après l'exemple précédent, nous avons constaté que le modèle KNN avec k = 5 est meilleur que le modèle avec k = 3. Par conséquent, dans cette étape, nous avons choisi le modèle en fixant k = 5.*"
   ]
  },
  {
   "cell_type": "code",
   "execution_count": 142,
   "metadata": {
    "id": "dRKRu0QjBXNO"
   },
   "outputs": [
    {
     "data": {
      "text/html": [
       "<style>#sk-container-id-18 {color: black;background-color: white;}#sk-container-id-18 pre{padding: 0;}#sk-container-id-18 div.sk-toggleable {background-color: white;}#sk-container-id-18 label.sk-toggleable__label {cursor: pointer;display: block;width: 100%;margin-bottom: 0;padding: 0.3em;box-sizing: border-box;text-align: center;}#sk-container-id-18 label.sk-toggleable__label-arrow:before {content: \"▸\";float: left;margin-right: 0.25em;color: #696969;}#sk-container-id-18 label.sk-toggleable__label-arrow:hover:before {color: black;}#sk-container-id-18 div.sk-estimator:hover label.sk-toggleable__label-arrow:before {color: black;}#sk-container-id-18 div.sk-toggleable__content {max-height: 0;max-width: 0;overflow: hidden;text-align: left;background-color: #f0f8ff;}#sk-container-id-18 div.sk-toggleable__content pre {margin: 0.2em;color: black;border-radius: 0.25em;background-color: #f0f8ff;}#sk-container-id-18 input.sk-toggleable__control:checked~div.sk-toggleable__content {max-height: 200px;max-width: 100%;overflow: auto;}#sk-container-id-18 input.sk-toggleable__control:checked~label.sk-toggleable__label-arrow:before {content: \"▾\";}#sk-container-id-18 div.sk-estimator input.sk-toggleable__control:checked~label.sk-toggleable__label {background-color: #d4ebff;}#sk-container-id-18 div.sk-label input.sk-toggleable__control:checked~label.sk-toggleable__label {background-color: #d4ebff;}#sk-container-id-18 input.sk-hidden--visually {border: 0;clip: rect(1px 1px 1px 1px);clip: rect(1px, 1px, 1px, 1px);height: 1px;margin: -1px;overflow: hidden;padding: 0;position: absolute;width: 1px;}#sk-container-id-18 div.sk-estimator {font-family: monospace;background-color: #f0f8ff;border: 1px dotted black;border-radius: 0.25em;box-sizing: border-box;margin-bottom: 0.5em;}#sk-container-id-18 div.sk-estimator:hover {background-color: #d4ebff;}#sk-container-id-18 div.sk-parallel-item::after {content: \"\";width: 100%;border-bottom: 1px solid gray;flex-grow: 1;}#sk-container-id-18 div.sk-label:hover label.sk-toggleable__label {background-color: #d4ebff;}#sk-container-id-18 div.sk-serial::before {content: \"\";position: absolute;border-left: 1px solid gray;box-sizing: border-box;top: 0;bottom: 0;left: 50%;z-index: 0;}#sk-container-id-18 div.sk-serial {display: flex;flex-direction: column;align-items: center;background-color: white;padding-right: 0.2em;padding-left: 0.2em;position: relative;}#sk-container-id-18 div.sk-item {position: relative;z-index: 1;}#sk-container-id-18 div.sk-parallel {display: flex;align-items: stretch;justify-content: center;background-color: white;position: relative;}#sk-container-id-18 div.sk-item::before, #sk-container-id-18 div.sk-parallel-item::before {content: \"\";position: absolute;border-left: 1px solid gray;box-sizing: border-box;top: 0;bottom: 0;left: 50%;z-index: -1;}#sk-container-id-18 div.sk-parallel-item {display: flex;flex-direction: column;z-index: 1;position: relative;background-color: white;}#sk-container-id-18 div.sk-parallel-item:first-child::after {align-self: flex-end;width: 50%;}#sk-container-id-18 div.sk-parallel-item:last-child::after {align-self: flex-start;width: 50%;}#sk-container-id-18 div.sk-parallel-item:only-child::after {width: 0;}#sk-container-id-18 div.sk-dashed-wrapped {border: 1px dashed gray;margin: 0 0.4em 0.5em 0.4em;box-sizing: border-box;padding-bottom: 0.4em;background-color: white;}#sk-container-id-18 div.sk-label label {font-family: monospace;font-weight: bold;display: inline-block;line-height: 1.2em;}#sk-container-id-18 div.sk-label-container {text-align: center;}#sk-container-id-18 div.sk-container {/* jupyter's `normalize.less` sets `[hidden] { display: none; }` but bootstrap.min.css set `[hidden] { display: none !important; }` so we also need the `!important` here to be able to override the default hidden behavior on the sphinx rendered scikit-learn.org. See: https://github.com/scikit-learn/scikit-learn/issues/21755 */display: inline-block !important;position: relative;}#sk-container-id-18 div.sk-text-repr-fallback {display: none;}</style><div id=\"sk-container-id-18\" class=\"sk-top-container\"><div class=\"sk-text-repr-fallback\"><pre>KNeighborsRegressor()</pre><b>In a Jupyter environment, please rerun this cell to show the HTML representation or trust the notebook. <br />On GitHub, the HTML representation is unable to render, please try loading this page with nbviewer.org.</b></div><div class=\"sk-container\" hidden><div class=\"sk-item\"><div class=\"sk-estimator sk-toggleable\"><input class=\"sk-toggleable__control sk-hidden--visually\" id=\"sk-estimator-id-18\" type=\"checkbox\" checked><label for=\"sk-estimator-id-18\" class=\"sk-toggleable__label sk-toggleable__label-arrow\">KNeighborsRegressor</label><div class=\"sk-toggleable__content\"><pre>KNeighborsRegressor()</pre></div></div></div></div></div>"
      ],
      "text/plain": [
       "KNeighborsRegressor()"
      ]
     },
     "execution_count": 142,
     "metadata": {},
     "output_type": "execute_result"
    }
   ],
   "source": [
    "#Importation de la librairie\n",
    "from sklearn.neighbors import KNeighborsRegressor\n",
    "\n",
    "#Création du modèle KNN\n",
    "knn_3 = KNeighborsRegressor() # K=5 valeur par défaut\n",
    "# Apprentissage du modèle utilisant la base d'apprentissage\n",
    "knn_3.fit(X3_train,y3_train)"
   ]
  },
  {
   "cell_type": "code",
   "execution_count": 143,
   "metadata": {
    "colab": {
     "base_uri": "https://localhost:8080/"
    },
    "id": "A0kxjLwsBlaF",
    "outputId": "3abb38f2-fe78-4dcb-d26d-d4e9a1b25052"
   },
   "outputs": [
    {
     "data": {
      "text/plain": [
       "{'algorithm': 'auto',\n",
       " 'leaf_size': 30,\n",
       " 'metric': 'minkowski',\n",
       " 'metric_params': None,\n",
       " 'n_jobs': None,\n",
       " 'n_neighbors': 5,\n",
       " 'p': 2,\n",
       " 'weights': 'uniform'}"
      ]
     },
     "execution_count": 143,
     "metadata": {},
     "output_type": "execute_result"
    }
   ],
   "source": [
    "#Affichages des hyperparameter du modèle KNN\n",
    "knn_3.get_params()"
   ]
  },
  {
   "cell_type": "markdown",
   "metadata": {
    "id": "157RFlHDB1Z0"
   },
   "source": [
    "### Evaluation des modèles:"
   ]
  },
  {
   "cell_type": "code",
   "execution_count": 144,
   "metadata": {
    "id": "U_uW9JrgClDz"
   },
   "outputs": [],
   "source": [
    "from sklearn.metrics import mean_squared_error\n",
    "from sklearn.metrics import mean_absolute_error"
   ]
  },
  {
   "cell_type": "markdown",
   "metadata": {
    "id": "R7RBAN7gCuj-"
   },
   "source": [
    "* **Evaluation du modèle Arbre de décision:**"
   ]
  },
  {
   "cell_type": "code",
   "execution_count": 145,
   "metadata": {
    "id": "EN4of_rbCskX"
   },
   "outputs": [],
   "source": [
    "# Prédiction de y utilisant le modèle arbre de décision\n",
    "pred_tree_3= tree3.predict(X3_test)"
   ]
  },
  {
   "cell_type": "code",
   "execution_count": 146,
   "metadata": {
    "colab": {
     "base_uri": "https://localhost:8080/"
    },
    "id": "_08GWdv1C5dG",
    "outputId": "94e3306e-78f9-4519-ff45-aa99f2388111"
   },
   "outputs": [
    {
     "name": "stdout",
     "output_type": "stream",
     "text": [
      "MAE Modèle TREE= 15.576142376142379\n",
      "MSE Modèle TREE= 2171.7671180054513\n",
      "RMSE Modèle TREE= 46.602222243209084\n",
      "R=  0.9935125695261005\n",
      "R²=  0.9870672258063546\n"
     ]
    }
   ],
   "source": [
    "# Clacul de MAE, MSE, RMSE, R et R²\n",
    "mae_TREE = mean_absolute_error(y3_test, pred_tree_3)\n",
    "mse_TREE = mean_squared_error(y3_test, pred_tree_3)\n",
    "rmse_TREE= np.sqrt(mse_TREE)\n",
    "r2_score = tree3.score(X3_test, y3_test)\n",
    "r_score = np.sqrt(r2_score)\n",
    "print (\"MAE Modèle TREE=\", mae_TREE)\n",
    "print (\"MSE Modèle TREE=\", mse_TREE)\n",
    "print(\"RMSE Modèle TREE=\" , rmse_TREE)\n",
    "print(\"R= \", r_score)\n",
    "print(\"R²= \", r2_score)"
   ]
  },
  {
   "cell_type": "markdown",
   "metadata": {
    "id": "3Ck6hVYIDKbM"
   },
   "source": [
    "* **Evaluation du modèle KNN:**"
   ]
  },
  {
   "cell_type": "code",
   "execution_count": 147,
   "metadata": {
    "id": "X6SwL_v6BvD7"
   },
   "outputs": [],
   "source": [
    "# Prédiction de y utilisant le modèle KNN (K=5 )\n",
    "pred_3 = knn_3.predict(X3_test)"
   ]
  },
  {
   "cell_type": "code",
   "execution_count": 148,
   "metadata": {
    "colab": {
     "base_uri": "https://localhost:8080/"
    },
    "id": "wLKU7HyyCefp",
    "outputId": "cdc19911-681d-43fe-a9a1-65e534c6ad10"
   },
   "outputs": [
    {
     "name": "stdout",
     "output_type": "stream",
     "text": [
      "MAE KNN (K=5)= 18.38632034632035\n",
      "MSE KNN (K=5)= 2120.4473376623373\n",
      "RMSE KNN (K=5)= 46.0483152532461\n",
      "R=  0.8788712756560236\n",
      "R²=  0.7724147191732463\n"
     ]
    }
   ],
   "source": [
    "# Clacul de MAE, MSE, RMSE, R et R² pour le modèle KNN (K = 5)\n",
    "mae_KNN_5_3 = mean_absolute_error(y3_test, pred_3)\n",
    "mse_KNN_5_3 = mean_squared_error(y3_test, pred_3)\n",
    "rmse_KNN_5_3 = np.sqrt(mse_KNN_5_3)\n",
    "r2_score = knn_5.score(X3_test, y3_test)\n",
    "r_score = np.sqrt(r2_score)\n",
    "print (\"MAE KNN (K=5)=\", mae_KNN_5_3)\n",
    "print (\"MSE KNN (K=5)=\", mse_KNN_5_3)\n",
    "print(\"RMSE KNN (K=5)=\" , rmse_KNN_5_3)\n",
    "print(\"R= \", r_score)\n",
    "print(\"R²= \", r2_score)"
   ]
  },
  {
   "cell_type": "markdown",
   "metadata": {
    "id": "7Cm15bEFKoq3"
   },
   "source": [
    " **Maintenant, nous allons effectuer la même démarche pour créer des modèles d'arbre de décision et de modèle KNN afin de prévoir les ventes du produit P4 en se basant sur sa demande.**"
   ]
  },
  {
   "cell_type": "code",
   "execution_count": 149,
   "metadata": {
    "id": "mmwVIPaYNRU3"
   },
   "outputs": [],
   "source": [
    "#On commence par \"Ventes_p3\" et \"demande_P3\":\n",
    "X_4 = df['Demande_ p4']\n",
    "y_4 = df['Ventes_p4']"
   ]
  },
  {
   "cell_type": "markdown",
   "metadata": {
    "id": "gq5upyZHP6yX"
   },
   "source": [
    "* **Diviser la base en un ensemble d'apprentissage et un ensemble de test (80 pour l'apprentissage et 20% pour le test)**"
   ]
  },
  {
   "cell_type": "code",
   "execution_count": 150,
   "metadata": {
    "id": "qU96PqfBMfg5"
   },
   "outputs": [],
   "source": [
    "from sklearn import model_selection\n",
    "X4_train, X4_test, y4_train, y4_test = model_selection.train_test_split(X_4, y_4, test_size = 0.20, random_state = 42)"
   ]
  },
  {
   "cell_type": "code",
   "execution_count": 151,
   "metadata": {
    "colab": {
     "base_uri": "https://localhost:8080/"
    },
    "id": "y2ej31H2QdiK",
    "outputId": "3eb3134d-b334-4b49-a03b-6314aaa054f9"
   },
   "outputs": [
    {
     "data": {
      "text/plain": [
       "((924,), (924,), (231,), (231,))"
      ]
     },
     "execution_count": 151,
     "metadata": {},
     "output_type": "execute_result"
    }
   ],
   "source": [
    "# Verification après la division du base:\n",
    "X4_train.shape , y4_train.shape, X4_test.shape, y4_test.shape"
   ]
  },
  {
   "cell_type": "code",
   "execution_count": 152,
   "metadata": {
    "id": "6gS0dMr9QwYq"
   },
   "outputs": [],
   "source": [
    "#Remodelage des données d'entraînement et de test\n",
    "X4_train = np.array(X4_train).reshape(-1, 1)\n",
    "y4_train = np.array(y4_train).reshape(-1, 1)\n",
    "X4_test = np.array(X4_test).reshape(-1, 1)\n",
    "y4_test = np.array(y4_test).reshape(-1, 1)"
   ]
  },
  {
   "cell_type": "markdown",
   "metadata": {
    "id": "oPM49b6hRK59"
   },
   "source": [
    "### Modèle de régression utilisant  les arbres de décision:"
   ]
  },
  {
   "cell_type": "code",
   "execution_count": 153,
   "metadata": {
    "colab": {
     "base_uri": "https://localhost:8080/",
     "height": 75
    },
    "id": "5wz2-UQuRMX-",
    "outputId": "b37ac0db-dd6b-4ad5-8934-f33ecae82632"
   },
   "outputs": [
    {
     "data": {
      "text/html": [
       "<style>#sk-container-id-19 {color: black;background-color: white;}#sk-container-id-19 pre{padding: 0;}#sk-container-id-19 div.sk-toggleable {background-color: white;}#sk-container-id-19 label.sk-toggleable__label {cursor: pointer;display: block;width: 100%;margin-bottom: 0;padding: 0.3em;box-sizing: border-box;text-align: center;}#sk-container-id-19 label.sk-toggleable__label-arrow:before {content: \"▸\";float: left;margin-right: 0.25em;color: #696969;}#sk-container-id-19 label.sk-toggleable__label-arrow:hover:before {color: black;}#sk-container-id-19 div.sk-estimator:hover label.sk-toggleable__label-arrow:before {color: black;}#sk-container-id-19 div.sk-toggleable__content {max-height: 0;max-width: 0;overflow: hidden;text-align: left;background-color: #f0f8ff;}#sk-container-id-19 div.sk-toggleable__content pre {margin: 0.2em;color: black;border-radius: 0.25em;background-color: #f0f8ff;}#sk-container-id-19 input.sk-toggleable__control:checked~div.sk-toggleable__content {max-height: 200px;max-width: 100%;overflow: auto;}#sk-container-id-19 input.sk-toggleable__control:checked~label.sk-toggleable__label-arrow:before {content: \"▾\";}#sk-container-id-19 div.sk-estimator input.sk-toggleable__control:checked~label.sk-toggleable__label {background-color: #d4ebff;}#sk-container-id-19 div.sk-label input.sk-toggleable__control:checked~label.sk-toggleable__label {background-color: #d4ebff;}#sk-container-id-19 input.sk-hidden--visually {border: 0;clip: rect(1px 1px 1px 1px);clip: rect(1px, 1px, 1px, 1px);height: 1px;margin: -1px;overflow: hidden;padding: 0;position: absolute;width: 1px;}#sk-container-id-19 div.sk-estimator {font-family: monospace;background-color: #f0f8ff;border: 1px dotted black;border-radius: 0.25em;box-sizing: border-box;margin-bottom: 0.5em;}#sk-container-id-19 div.sk-estimator:hover {background-color: #d4ebff;}#sk-container-id-19 div.sk-parallel-item::after {content: \"\";width: 100%;border-bottom: 1px solid gray;flex-grow: 1;}#sk-container-id-19 div.sk-label:hover label.sk-toggleable__label {background-color: #d4ebff;}#sk-container-id-19 div.sk-serial::before {content: \"\";position: absolute;border-left: 1px solid gray;box-sizing: border-box;top: 0;bottom: 0;left: 50%;z-index: 0;}#sk-container-id-19 div.sk-serial {display: flex;flex-direction: column;align-items: center;background-color: white;padding-right: 0.2em;padding-left: 0.2em;position: relative;}#sk-container-id-19 div.sk-item {position: relative;z-index: 1;}#sk-container-id-19 div.sk-parallel {display: flex;align-items: stretch;justify-content: center;background-color: white;position: relative;}#sk-container-id-19 div.sk-item::before, #sk-container-id-19 div.sk-parallel-item::before {content: \"\";position: absolute;border-left: 1px solid gray;box-sizing: border-box;top: 0;bottom: 0;left: 50%;z-index: -1;}#sk-container-id-19 div.sk-parallel-item {display: flex;flex-direction: column;z-index: 1;position: relative;background-color: white;}#sk-container-id-19 div.sk-parallel-item:first-child::after {align-self: flex-end;width: 50%;}#sk-container-id-19 div.sk-parallel-item:last-child::after {align-self: flex-start;width: 50%;}#sk-container-id-19 div.sk-parallel-item:only-child::after {width: 0;}#sk-container-id-19 div.sk-dashed-wrapped {border: 1px dashed gray;margin: 0 0.4em 0.5em 0.4em;box-sizing: border-box;padding-bottom: 0.4em;background-color: white;}#sk-container-id-19 div.sk-label label {font-family: monospace;font-weight: bold;display: inline-block;line-height: 1.2em;}#sk-container-id-19 div.sk-label-container {text-align: center;}#sk-container-id-19 div.sk-container {/* jupyter's `normalize.less` sets `[hidden] { display: none; }` but bootstrap.min.css set `[hidden] { display: none !important; }` so we also need the `!important` here to be able to override the default hidden behavior on the sphinx rendered scikit-learn.org. See: https://github.com/scikit-learn/scikit-learn/issues/21755 */display: inline-block !important;position: relative;}#sk-container-id-19 div.sk-text-repr-fallback {display: none;}</style><div id=\"sk-container-id-19\" class=\"sk-top-container\"><div class=\"sk-text-repr-fallback\"><pre>DecisionTreeRegressor()</pre><b>In a Jupyter environment, please rerun this cell to show the HTML representation or trust the notebook. <br />On GitHub, the HTML representation is unable to render, please try loading this page with nbviewer.org.</b></div><div class=\"sk-container\" hidden><div class=\"sk-item\"><div class=\"sk-estimator sk-toggleable\"><input class=\"sk-toggleable__control sk-hidden--visually\" id=\"sk-estimator-id-19\" type=\"checkbox\" checked><label for=\"sk-estimator-id-19\" class=\"sk-toggleable__label sk-toggleable__label-arrow\">DecisionTreeRegressor</label><div class=\"sk-toggleable__content\"><pre>DecisionTreeRegressor()</pre></div></div></div></div></div>"
      ],
      "text/plain": [
       "DecisionTreeRegressor()"
      ]
     },
     "execution_count": 153,
     "metadata": {},
     "output_type": "execute_result"
    }
   ],
   "source": [
    "#Importation de la librairie\n",
    "from sklearn.tree import DecisionTreeRegressor\n",
    "# Création du modèle Arbre de décision\n",
    "tree4 = DecisionTreeRegressor()\n",
    "# Apprentissage du modèle utilisant la base d'apprentissage\n",
    "tree4.fit(X4_train,y4_train)"
   ]
  },
  {
   "cell_type": "markdown",
   "metadata": {
    "id": "exK6ExCtRftZ"
   },
   "source": [
    "### Modèle de régression utilisant  K-nearest neighbors (kNN):"
   ]
  },
  {
   "cell_type": "markdown",
   "metadata": {
    "id": "QuFbrd5nRhJ0"
   },
   "source": [
    "D'après l'exemple précédent, nous avons constaté que le modèle KNN avec k = 5 est meilleur que le modèle avec k = 3. Par conséquent, dans cette étape, nous avons choisi le modèle en fixant k = 5."
   ]
  },
  {
   "cell_type": "code",
   "execution_count": 154,
   "metadata": {
    "colab": {
     "base_uri": "https://localhost:8080/",
     "height": 75
    },
    "id": "5Qf7bOYtR4bV",
    "outputId": "471aa898-6be0-479d-9176-077b41998b2c"
   },
   "outputs": [
    {
     "data": {
      "text/html": [
       "<style>#sk-container-id-20 {color: black;background-color: white;}#sk-container-id-20 pre{padding: 0;}#sk-container-id-20 div.sk-toggleable {background-color: white;}#sk-container-id-20 label.sk-toggleable__label {cursor: pointer;display: block;width: 100%;margin-bottom: 0;padding: 0.3em;box-sizing: border-box;text-align: center;}#sk-container-id-20 label.sk-toggleable__label-arrow:before {content: \"▸\";float: left;margin-right: 0.25em;color: #696969;}#sk-container-id-20 label.sk-toggleable__label-arrow:hover:before {color: black;}#sk-container-id-20 div.sk-estimator:hover label.sk-toggleable__label-arrow:before {color: black;}#sk-container-id-20 div.sk-toggleable__content {max-height: 0;max-width: 0;overflow: hidden;text-align: left;background-color: #f0f8ff;}#sk-container-id-20 div.sk-toggleable__content pre {margin: 0.2em;color: black;border-radius: 0.25em;background-color: #f0f8ff;}#sk-container-id-20 input.sk-toggleable__control:checked~div.sk-toggleable__content {max-height: 200px;max-width: 100%;overflow: auto;}#sk-container-id-20 input.sk-toggleable__control:checked~label.sk-toggleable__label-arrow:before {content: \"▾\";}#sk-container-id-20 div.sk-estimator input.sk-toggleable__control:checked~label.sk-toggleable__label {background-color: #d4ebff;}#sk-container-id-20 div.sk-label input.sk-toggleable__control:checked~label.sk-toggleable__label {background-color: #d4ebff;}#sk-container-id-20 input.sk-hidden--visually {border: 0;clip: rect(1px 1px 1px 1px);clip: rect(1px, 1px, 1px, 1px);height: 1px;margin: -1px;overflow: hidden;padding: 0;position: absolute;width: 1px;}#sk-container-id-20 div.sk-estimator {font-family: monospace;background-color: #f0f8ff;border: 1px dotted black;border-radius: 0.25em;box-sizing: border-box;margin-bottom: 0.5em;}#sk-container-id-20 div.sk-estimator:hover {background-color: #d4ebff;}#sk-container-id-20 div.sk-parallel-item::after {content: \"\";width: 100%;border-bottom: 1px solid gray;flex-grow: 1;}#sk-container-id-20 div.sk-label:hover label.sk-toggleable__label {background-color: #d4ebff;}#sk-container-id-20 div.sk-serial::before {content: \"\";position: absolute;border-left: 1px solid gray;box-sizing: border-box;top: 0;bottom: 0;left: 50%;z-index: 0;}#sk-container-id-20 div.sk-serial {display: flex;flex-direction: column;align-items: center;background-color: white;padding-right: 0.2em;padding-left: 0.2em;position: relative;}#sk-container-id-20 div.sk-item {position: relative;z-index: 1;}#sk-container-id-20 div.sk-parallel {display: flex;align-items: stretch;justify-content: center;background-color: white;position: relative;}#sk-container-id-20 div.sk-item::before, #sk-container-id-20 div.sk-parallel-item::before {content: \"\";position: absolute;border-left: 1px solid gray;box-sizing: border-box;top: 0;bottom: 0;left: 50%;z-index: -1;}#sk-container-id-20 div.sk-parallel-item {display: flex;flex-direction: column;z-index: 1;position: relative;background-color: white;}#sk-container-id-20 div.sk-parallel-item:first-child::after {align-self: flex-end;width: 50%;}#sk-container-id-20 div.sk-parallel-item:last-child::after {align-self: flex-start;width: 50%;}#sk-container-id-20 div.sk-parallel-item:only-child::after {width: 0;}#sk-container-id-20 div.sk-dashed-wrapped {border: 1px dashed gray;margin: 0 0.4em 0.5em 0.4em;box-sizing: border-box;padding-bottom: 0.4em;background-color: white;}#sk-container-id-20 div.sk-label label {font-family: monospace;font-weight: bold;display: inline-block;line-height: 1.2em;}#sk-container-id-20 div.sk-label-container {text-align: center;}#sk-container-id-20 div.sk-container {/* jupyter's `normalize.less` sets `[hidden] { display: none; }` but bootstrap.min.css set `[hidden] { display: none !important; }` so we also need the `!important` here to be able to override the default hidden behavior on the sphinx rendered scikit-learn.org. See: https://github.com/scikit-learn/scikit-learn/issues/21755 */display: inline-block !important;position: relative;}#sk-container-id-20 div.sk-text-repr-fallback {display: none;}</style><div id=\"sk-container-id-20\" class=\"sk-top-container\"><div class=\"sk-text-repr-fallback\"><pre>KNeighborsRegressor()</pre><b>In a Jupyter environment, please rerun this cell to show the HTML representation or trust the notebook. <br />On GitHub, the HTML representation is unable to render, please try loading this page with nbviewer.org.</b></div><div class=\"sk-container\" hidden><div class=\"sk-item\"><div class=\"sk-estimator sk-toggleable\"><input class=\"sk-toggleable__control sk-hidden--visually\" id=\"sk-estimator-id-20\" type=\"checkbox\" checked><label for=\"sk-estimator-id-20\" class=\"sk-toggleable__label sk-toggleable__label-arrow\">KNeighborsRegressor</label><div class=\"sk-toggleable__content\"><pre>KNeighborsRegressor()</pre></div></div></div></div></div>"
      ],
      "text/plain": [
       "KNeighborsRegressor()"
      ]
     },
     "execution_count": 154,
     "metadata": {},
     "output_type": "execute_result"
    }
   ],
   "source": [
    "#Importation de la librairie\n",
    "from sklearn.neighbors import KNeighborsRegressor\n",
    "\n",
    "#Création du modèle KNN\n",
    "knn_5 = KNeighborsRegressor() # K=5 valeur par défaut\n",
    "# Apprentissage du modèle utilisant la base d'apprentissage\n",
    "knn_5.fit(X4_train,y4_train)"
   ]
  },
  {
   "cell_type": "code",
   "execution_count": 155,
   "metadata": {
    "colab": {
     "base_uri": "https://localhost:8080/"
    },
    "id": "zbSGvYM3SP_O",
    "outputId": "7c38f4c4-51b1-44e3-e833-a6edef3043c8"
   },
   "outputs": [
    {
     "data": {
      "text/plain": [
       "{'algorithm': 'auto',\n",
       " 'leaf_size': 30,\n",
       " 'metric': 'minkowski',\n",
       " 'metric_params': None,\n",
       " 'n_jobs': None,\n",
       " 'n_neighbors': 5,\n",
       " 'p': 2,\n",
       " 'weights': 'uniform'}"
      ]
     },
     "execution_count": 155,
     "metadata": {},
     "output_type": "execute_result"
    }
   ],
   "source": [
    "#Affichages des hyperparameter du modèle KNN\n",
    "knn_5.get_params()"
   ]
  },
  {
   "cell_type": "markdown",
   "metadata": {
    "id": "TlFA2iZBSizh"
   },
   "source": [
    "### Evaluation des modèles:"
   ]
  },
  {
   "cell_type": "code",
   "execution_count": 156,
   "metadata": {
    "id": "PrMMGUJaSnXL"
   },
   "outputs": [],
   "source": [
    "from sklearn.metrics import mean_squared_error\n",
    "from sklearn.metrics import mean_absolute_error"
   ]
  },
  {
   "cell_type": "markdown",
   "metadata": {
    "id": "aNJJCz69SqCM"
   },
   "source": [
    "* **Evaluation du modèle Arbre de décision:**"
   ]
  },
  {
   "cell_type": "code",
   "execution_count": 157,
   "metadata": {
    "id": "ZwjgbFjGSsHl"
   },
   "outputs": [],
   "source": [
    "# Prédiction de y utilisant le modèle arbre de décision\n",
    "pred_tree4= tree4.predict(X4_test)"
   ]
  },
  {
   "cell_type": "code",
   "execution_count": 158,
   "metadata": {
    "colab": {
     "base_uri": "https://localhost:8080/"
    },
    "id": "iOG5m_uhSzt0",
    "outputId": "ef29738c-a969-44a1-efb1-ca33fcf86c5b"
   },
   "outputs": [
    {
     "name": "stdout",
     "output_type": "stream",
     "text": [
      "MAE Modèle TREE= 24.12747448825293\n",
      "MSE Modèle TREE= 3357.1511691548517\n",
      "RMSE Modèle TREE= 57.94092827315465\n",
      "R=  0.8693783415099817\n",
      "R²=  0.7558187006866465\n"
     ]
    }
   ],
   "source": [
    "# Clacul de MAE, MSE, RMSE, R et R²\n",
    "mae_TREE = mean_absolute_error(y4_test, pred_tree4)\n",
    "mse_TREE = mean_squared_error(y4_test, pred_tree4)\n",
    "rmse_TREE= np.sqrt(mse_TREE)\n",
    "r2_score = tree4.score(X4_test, y4_test)\n",
    "r_score = np.sqrt(r2_score)\n",
    "print (\"MAE Modèle TREE=\", mae_TREE)\n",
    "print (\"MSE Modèle TREE=\", mse_TREE)\n",
    "print(\"RMSE Modèle TREE=\" , rmse_TREE)\n",
    "print(\"R= \", r_score)\n",
    "print(\"R²= \", r2_score)"
   ]
  },
  {
   "cell_type": "markdown",
   "metadata": {
    "id": "p0TUgWxZTG41"
   },
   "source": [
    "* **Evaluation du modèle KNN:**"
   ]
  },
  {
   "cell_type": "code",
   "execution_count": 159,
   "metadata": {
    "id": "XM9vSzoaTJE2"
   },
   "outputs": [],
   "source": [
    "# Prédiction de y utilisant les modèles KNN (K=5 )\n",
    "pred_4 = knn_5.predict(X4_test)"
   ]
  },
  {
   "cell_type": "code",
   "execution_count": 160,
   "metadata": {
    "colab": {
     "base_uri": "https://localhost:8080/"
    },
    "id": "okuUtJIoTMdO",
    "outputId": "ad665c67-a52d-46f0-c554-d8459342fd56"
   },
   "outputs": [
    {
     "name": "stdout",
     "output_type": "stream",
     "text": [
      "MAE KNN (K=5)= 28.440692640692646\n",
      "MSE KNN (K=5)= 3260.0095238095237\n",
      "RMSE KNN (K=5)= 57.096493095544176\n",
      "R=  0.8734324625823504\n",
      "R²=  0.762884266692669\n"
     ]
    }
   ],
   "source": [
    "# Clacul de MAE, MSE, RMSE, R et R² pour le modèle KNN (K = 5)\n",
    "mae_KNN_5_4 = mean_absolute_error(y4_test, pred_4)\n",
    "mse_KNN_5_4= mean_squared_error(y4_test, pred_4)\n",
    "rmse_KNN_5_4 = np.sqrt(mse_KNN_5_4)\n",
    "r2_score = knn_5.score(X4_test, y4_test)\n",
    "r_score = np.sqrt(r2_score)\n",
    "print (\"MAE KNN (K=5)=\", mae_KNN_5_4)\n",
    "print (\"MSE KNN (K=5)=\", mse_KNN_5_4)\n",
    "print(\"RMSE KNN (K=5)=\" , rmse_KNN_5_4)\n",
    "print(\"R= \", r_score)\n",
    "print(\"R²= \", r2_score)"
   ]
  },
  {
   "cell_type": "code",
   "execution_count": 161,
   "metadata": {
    "colab": {
     "base_uri": "https://localhost:8080/"
    },
    "id": "Tt9QDQdK02Mo",
    "outputId": "267b45ae-8020-4b2a-fab4-e6ab270421e0"
   },
   "outputs": [
    {
     "name": "stdout",
     "output_type": "stream",
     "text": [
      "La prédiction pour la nouvelle valeur est : [218.5]\n"
     ]
    }
   ],
   "source": [
    "from sklearn.metrics import mean_absolute_error, mean_squared_error, r2_score\n",
    "import numpy as np\n",
    "nouveau_valeur = [[400]]\n",
    "prediction = tree4.predict(nouveau_valeur)\n",
    "print(\"La prédiction pour la nouvelle valeur est :\", prediction)"
   ]
  },
  {
   "cell_type": "code",
   "execution_count": 162,
   "metadata": {
    "colab": {
     "base_uri": "https://localhost:8080/"
    },
    "id": "vmptaKzM02Mo",
    "outputId": "f6a40faa-486c-492c-f1b0-d99ceed82652"
   },
   "outputs": [
    {
     "name": "stdout",
     "output_type": "stream",
     "text": [
      "La prédiction pour la nouvelle valeur est : [364.08]\n"
     ]
    }
   ],
   "source": [
    "from sklearn.metrics import mean_absolute_error, mean_squared_error, r2_score\n",
    "import numpy as np\n",
    "nouveau_valeur = [[400]]\n",
    "prediction = tree1.predict(nouveau_valeur)\n",
    "print(\"La prédiction pour la nouvelle valeur est :\", prediction)"
   ]
  },
  {
   "cell_type": "code",
   "execution_count": 163,
   "metadata": {
    "colab": {
     "base_uri": "https://localhost:8080/"
    },
    "id": "UBqQFhau02Mp",
    "outputId": "a8bf51f8-1e69-4b68-f626-573541e49ae6"
   },
   "outputs": [
    {
     "name": "stdout",
     "output_type": "stream",
     "text": [
      "La prédiction pour la nouvelle valeur est : [471.48]\n"
     ]
    }
   ],
   "source": [
    "from sklearn.metrics import mean_absolute_error, mean_squared_error, r2_score\n",
    "import numpy as np\n",
    "nouveau_valeur = [[400]]\n",
    "prediction = tree2.predict(nouveau_valeur)\n",
    "print(\"La prédiction pour la nouvelle valeur est :\", prediction)"
   ]
  },
  {
   "cell_type": "code",
   "execution_count": 164,
   "metadata": {
    "colab": {
     "base_uri": "https://localhost:8080/"
    },
    "id": "aT4cxXJi02Mp",
    "outputId": "03f14504-343c-488c-b038-431268d53769"
   },
   "outputs": [
    {
     "name": "stdout",
     "output_type": "stream",
     "text": [
      "La prédiction pour la nouvelle valeur est : [333.]\n"
     ]
    }
   ],
   "source": [
    "from sklearn.metrics import mean_absolute_error, mean_squared_error, r2_score\n",
    "import numpy as np\n",
    "nouveau_valeur = [[400]]\n",
    "prediction = tree3.predict(nouveau_valeur)\n",
    "print(\"La prédiction pour la nouvelle valeur est :\", prediction)"
   ]
  },
  {
   "cell_type": "markdown",
   "metadata": {
    "id": "tVbaasHm02Mq"
   },
   "source": [
    "## ETULISATION DES MODELLES"
   ]
  },
  {
   "cell_type": "code",
   "execution_count": 165,
   "metadata": {
    "colab": {
     "base_uri": "https://localhost:8080/"
    },
    "id": "SdmxC_lUJ6v-",
    "outputId": "8199ea63-64f5-491f-8689-421ede5c8db8"
   },
   "outputs": [
    {
     "name": "stdout",
     "output_type": "stream",
     "text": [
      "La prédiction pour la nouvelle valeur est : [364.08]\n"
     ]
    }
   ],
   "source": [
    "import pickle\n",
    "\n",
    "import os\n",
    "\n",
    "# Créer le répertoire \"modèles\" s'il n'existe pas déjà\n",
    "os.makedirs(\"ventes1\", exist_ok=True)\n",
    "\n",
    "# Sauvegarder le modèle\n",
    "with open('ventes1/ventes1.pkl', 'wb') as file:\n",
    "    pickle.dump(tree1, file)\n",
    "# Charger le modèle à partir du fichier\n",
    "with open('ventes1/ventes1.pkl', 'rb') as file:\n",
    "    loaded_model = pickle.load(file)\n",
    "\n",
    "# Effectuer une prédiction avec le modèle chargé\n",
    "nouvelle_valeur = [[400]]\n",
    "prediction = loaded_model.predict(nouvelle_valeur)\n",
    "print(\"La prédiction pour la nouvelle valeur est :\", prediction)"
   ]
  },
  {
   "cell_type": "code",
   "execution_count": 166,
   "metadata": {
    "colab": {
     "base_uri": "https://localhost:8080/"
    },
    "id": "qmZwQRM3J-Pc",
    "outputId": "a52057c6-93ec-48af-a7c6-e742fb7f990b"
   },
   "outputs": [
    {
     "name": "stdout",
     "output_type": "stream",
     "text": [
      "La prédiction pour la nouvelle valeur est : [471.48]\n"
     ]
    }
   ],
   "source": [
    "import pickle\n",
    "\n",
    "import os\n",
    "\n",
    "# Créer le répertoire \"modèles\" s'il n'existe pas déjà\n",
    "os.makedirs(\"ventes2\", exist_ok=True)\n",
    "\n",
    "# Sauvegarder le modèle\n",
    "with open('ventes2/ventes2.pkl', 'wb') as file:\n",
    "    pickle.dump(tree2, file)\n",
    "# Charger le modèle à partir du fichier\n",
    "with open('ventes2/ventes2.pkl', 'rb') as file:\n",
    "    loaded_model = pickle.load(file)\n",
    "\n",
    "# Effectuer une prédiction avec le modèle chargé\n",
    "nouvelle_valeur = [[400]]\n",
    "prediction = loaded_model.predict(nouvelle_valeur)\n",
    "print(\"La prédiction pour la nouvelle valeur est :\", prediction)"
   ]
  },
  {
   "cell_type": "code",
   "execution_count": 167,
   "metadata": {
    "colab": {
     "base_uri": "https://localhost:8080/"
    },
    "id": "93bFTpQ1KNAQ",
    "outputId": "02b77244-f326-4dc4-bf21-143f9440010a"
   },
   "outputs": [
    {
     "name": "stdout",
     "output_type": "stream",
     "text": [
      "La prédiction pour la nouvelle valeur est : [333.]\n"
     ]
    }
   ],
   "source": [
    "import pickle\n",
    "\n",
    "import os\n",
    "\n",
    "# Créer le répertoire \"modèles\" s'il n'existe pas déjà\n",
    "os.makedirs(\"ventes3\", exist_ok=True)\n",
    "\n",
    "# Sauvegarder le modèle\n",
    "with open('ventes3/ventes3.pkl', 'wb') as file:\n",
    "    pickle.dump(tree3, file)\n",
    "# Charger le modèle à partir du fichier\n",
    "with open('ventes3/ventes3.pkl', 'rb') as file:\n",
    "    loaded_model = pickle.load(file)\n",
    "\n",
    "# Effectuer une prédiction avec le modèle chargé\n",
    "nouvelle_valeur = [[400]]\n",
    "prediction = loaded_model.predict(nouvelle_valeur)\n",
    "print(\"La prédiction pour la nouvelle valeur est :\", prediction)"
   ]
  },
  {
   "cell_type": "code",
   "execution_count": 168,
   "metadata": {
    "colab": {
     "base_uri": "https://localhost:8080/"
    },
    "id": "ctiX0XLXKcJM",
    "outputId": "9f42047a-f8a8-40ac-8306-8d4468ba9dcf"
   },
   "outputs": [
    {
     "name": "stdout",
     "output_type": "stream",
     "text": [
      "La prédiction pour la nouvelle valeur est : [218.5]\n"
     ]
    }
   ],
   "source": [
    "import pickle\n",
    "\n",
    "import os\n",
    "\n",
    "# Créer le répertoire \"modèles\" s'il n'existe pas déjà\n",
    "os.makedirs(\"ventes4\", exist_ok=True)\n",
    "\n",
    "# Sauvegarder le modèle\n",
    "with open('ventes4/ventes4.pkl', 'wb') as file:\n",
    "    pickle.dump(tree4, file)\n",
    "# Charger le modèle à partir du fichier\n",
    "with open('ventes4/ventes4.pkl', 'rb') as file:\n",
    "    loaded_model = pickle.load(file)\n",
    "\n",
    "# Effectuer une prédiction avec le modèle chargé\n",
    "nouvelle_valeur = [[400]]\n",
    "prediction = loaded_model.predict(nouvelle_valeur)\n",
    "print(\"La prédiction pour la nouvelle valeur est :\", prediction)"
   ]
  },
  {
   "cell_type": "markdown",
   "metadata": {
    "id": "JYf7LYJ002Ms"
   },
   "source": []
  }
 ],
 "metadata": {
  "colab": {
   "provenance": []
  },
  "kernelspec": {
   "display_name": "Python 3 (ipykernel)",
   "language": "python",
   "name": "python3"
  },
  "language_info": {
   "codemirror_mode": {
    "name": "ipython",
    "version": 3
   },
   "file_extension": ".py",
   "mimetype": "text/x-python",
   "name": "python",
   "nbconvert_exporter": "python",
   "pygments_lexer": "ipython3",
   "version": "3.10.6"
  }
 },
 "nbformat": 4,
 "nbformat_minor": 4
}
